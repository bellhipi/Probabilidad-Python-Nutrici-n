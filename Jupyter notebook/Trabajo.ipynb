{
 "cells": [
  {
   "cell_type": "markdown",
   "id": "25a583a0",
   "metadata": {},
   "source": [
    "# **Trabajo Final**\n",
    "\n",
    "## Materia: *Probabilidad Aplicada*\n",
    "\n",
    "## Profesora: *Debora Chan*\n",
    "\n",
    "## Alumna: *María Belén Hipólito*\n",
    "\n",
    "## Fecha: *16/12/2021*\n",
    "\n",
    "## Instituto: *INSPT-UTN*\n",
    "\n",
    "### Base de datos:\n",
    "\n",
    "Se utiliza una base de datos realizada en el año 2019 por alumnos del Instituto Santa María de los Ángeles recopilando información sobre datos nutricionales de las familias.\n",
    "\n",
    "### Bibliografía:\n",
    "\n",
    "- https://www.youtube.com/playlist?list=PLU8oAlHdN5BlvPxziopYZRd55pdqFwkeS\n",
    "\n",
    "- https://www.youtube.com/watch?v=6Vr9ZUntCyE&ab_channel=LeonardoKuffo\n",
    "\n",
    "- https://www.youtube.com/watch?v=8rfH7al7PgU&ab_channel=LearnUrself123\n",
    "\n",
    "- https://www.youtube.com/watch?v=7VHvxOHNf_M&ab_channel=MundoPython\n",
    "\n",
    "- https://www.youtube.com/watch?v=zAGn--QNmg8\n",
    "\n",
    "- https://www.youtube.com/watch?v=otfLOEmqH5I\n",
    "\n",
    "- https://www.geeksforgeeks.org/matplotlib-tutorial/?ref=lbp\n",
    "\n",
    "- https://www.w3schools.com/python/"
   ]
  },
  {
   "cell_type": "code",
   "execution_count": 77,
   "id": "45855d4a",
   "metadata": {},
   "outputs": [],
   "source": [
    "import matplotlib.pyplot as plt\n",
    "import seaborn as sns\n",
    "import numpy as np\n",
    "import pandas as pd\n",
    "dataset = pd.read_excel(\"Encuesta Alimentaria ISMA 2019.xlsx\")\n",
    "#dataset"
   ]
  },
  {
   "cell_type": "code",
   "execution_count": 111,
   "id": "7f2a272b",
   "metadata": {},
   "outputs": [
    {
     "data": {
      "text/html": [
       "<div>\n",
       "<style scoped>\n",
       "    .dataframe tbody tr th:only-of-type {\n",
       "        vertical-align: middle;\n",
       "    }\n",
       "\n",
       "    .dataframe tbody tr th {\n",
       "        vertical-align: top;\n",
       "    }\n",
       "\n",
       "    .dataframe thead th {\n",
       "        text-align: right;\n",
       "    }\n",
       "</style>\n",
       "<table border=\"1\" class=\"dataframe\">\n",
       "  <thead>\n",
       "    <tr style=\"text-align: right;\">\n",
       "      <th></th>\n",
       "      <th>Género:</th>\n",
       "      <th>Edad:</th>\n",
       "      <th>Peso:</th>\n",
       "      <th>Altura:</th>\n",
       "      <th>IMC:</th>\n",
       "      <th>1,\\t¿Cuáles de las 4 comidas diarias realizas en el día?</th>\n",
       "      <th>9,\\t¿Con qué frecuencia a la semana realizas actividad física?</th>\n",
       "      <th>10,\\t¿Consideras que tener buenos hábitos alimenticios?</th>\n",
       "    </tr>\n",
       "  </thead>\n",
       "  <tbody>\n",
       "    <tr>\n",
       "      <th>0</th>\n",
       "      <td>Femenino</td>\n",
       "      <td>40</td>\n",
       "      <td>79.0</td>\n",
       "      <td>1.64</td>\n",
       "      <td>29.372397</td>\n",
       "      <td>Desayuno, Merienda, Cena</td>\n",
       "      <td>1</td>\n",
       "      <td>No</td>\n",
       "    </tr>\n",
       "    <tr>\n",
       "      <th>1</th>\n",
       "      <td>Femenino</td>\n",
       "      <td>49</td>\n",
       "      <td>90.0</td>\n",
       "      <td>1.74</td>\n",
       "      <td>29.726516</td>\n",
       "      <td>Desayuno, Almuerzo, Merienda, Cena</td>\n",
       "      <td>0</td>\n",
       "      <td>No</td>\n",
       "    </tr>\n",
       "    <tr>\n",
       "      <th>2</th>\n",
       "      <td>Masculino</td>\n",
       "      <td>13</td>\n",
       "      <td>38.0</td>\n",
       "      <td>1.52</td>\n",
       "      <td>16.447368</td>\n",
       "      <td>Desayuno, Almuerzo, Merienda, Cena</td>\n",
       "      <td>5</td>\n",
       "      <td>Sí</td>\n",
       "    </tr>\n",
       "    <tr>\n",
       "      <th>3</th>\n",
       "      <td>Masculino</td>\n",
       "      <td>17</td>\n",
       "      <td>68.0</td>\n",
       "      <td>1.82</td>\n",
       "      <td>20.528922</td>\n",
       "      <td>Desayuno, Almuerzo, Merienda, Cena</td>\n",
       "      <td>3</td>\n",
       "      <td>Sí</td>\n",
       "    </tr>\n",
       "    <tr>\n",
       "      <th>4</th>\n",
       "      <td>Femenino</td>\n",
       "      <td>30</td>\n",
       "      <td>51.0</td>\n",
       "      <td>1.50</td>\n",
       "      <td>22.666667</td>\n",
       "      <td>Desayuno, Almuerzo, Merienda, Cena</td>\n",
       "      <td>5</td>\n",
       "      <td>Sí</td>\n",
       "    </tr>\n",
       "    <tr>\n",
       "      <th>...</th>\n",
       "      <td>...</td>\n",
       "      <td>...</td>\n",
       "      <td>...</td>\n",
       "      <td>...</td>\n",
       "      <td>...</td>\n",
       "      <td>...</td>\n",
       "      <td>...</td>\n",
       "      <td>...</td>\n",
       "    </tr>\n",
       "    <tr>\n",
       "      <th>110</th>\n",
       "      <td>Masculino</td>\n",
       "      <td>70</td>\n",
       "      <td>68.0</td>\n",
       "      <td>1.60</td>\n",
       "      <td>26.562500</td>\n",
       "      <td>Desayuno, Almuerzo, Merienda, Cena</td>\n",
       "      <td>1</td>\n",
       "      <td>Sí</td>\n",
       "    </tr>\n",
       "    <tr>\n",
       "      <th>111</th>\n",
       "      <td>Femenino</td>\n",
       "      <td>56</td>\n",
       "      <td>75.0</td>\n",
       "      <td>1.63</td>\n",
       "      <td>28.228386</td>\n",
       "      <td>Desayuno, Almuerzo, Merienda, Cena</td>\n",
       "      <td>3</td>\n",
       "      <td>Sí</td>\n",
       "    </tr>\n",
       "    <tr>\n",
       "      <th>112</th>\n",
       "      <td>Masculino</td>\n",
       "      <td>12</td>\n",
       "      <td>36.0</td>\n",
       "      <td>1.44</td>\n",
       "      <td>17.361111</td>\n",
       "      <td>Desayuno, Almuerzo, Merienda, Cena</td>\n",
       "      <td>6</td>\n",
       "      <td>Sí</td>\n",
       "    </tr>\n",
       "    <tr>\n",
       "      <th>113</th>\n",
       "      <td>Femenino</td>\n",
       "      <td>15</td>\n",
       "      <td>68.0</td>\n",
       "      <td>1.67</td>\n",
       "      <td>24.382373</td>\n",
       "      <td>Desayuno, Almuerzo, Merienda, Cena</td>\n",
       "      <td>4</td>\n",
       "      <td>Sí</td>\n",
       "    </tr>\n",
       "    <tr>\n",
       "      <th>114</th>\n",
       "      <td>Femenino</td>\n",
       "      <td>17</td>\n",
       "      <td>64.0</td>\n",
       "      <td>1.58</td>\n",
       "      <td>25.636917</td>\n",
       "      <td>Desayuno, Almuerzo, Merienda, Cena</td>\n",
       "      <td>1</td>\n",
       "      <td>No</td>\n",
       "    </tr>\n",
       "  </tbody>\n",
       "</table>\n",
       "<p>115 rows × 8 columns</p>\n",
       "</div>"
      ],
      "text/plain": [
       "       Género:  Edad:  Peso:  Altura:       IMC:  \\\n",
       "0     Femenino     40   79.0     1.64  29.372397   \n",
       "1     Femenino     49   90.0     1.74  29.726516   \n",
       "2    Masculino     13   38.0     1.52  16.447368   \n",
       "3    Masculino     17   68.0     1.82  20.528922   \n",
       "4     Femenino     30   51.0     1.50  22.666667   \n",
       "..         ...    ...    ...      ...        ...   \n",
       "110  Masculino     70   68.0     1.60  26.562500   \n",
       "111   Femenino     56   75.0     1.63  28.228386   \n",
       "112  Masculino     12   36.0     1.44  17.361111   \n",
       "113   Femenino     15   68.0     1.67  24.382373   \n",
       "114   Femenino     17   64.0     1.58  25.636917   \n",
       "\n",
       "    1,\\t¿Cuáles de las 4 comidas diarias realizas en el día?  \\\n",
       "0                             Desayuno, Merienda, Cena         \n",
       "1                   Desayuno, Almuerzo, Merienda, Cena         \n",
       "2                   Desayuno, Almuerzo, Merienda, Cena         \n",
       "3                   Desayuno, Almuerzo, Merienda, Cena         \n",
       "4                   Desayuno, Almuerzo, Merienda, Cena         \n",
       "..                                                 ...         \n",
       "110                 Desayuno, Almuerzo, Merienda, Cena         \n",
       "111                 Desayuno, Almuerzo, Merienda, Cena         \n",
       "112                 Desayuno, Almuerzo, Merienda, Cena         \n",
       "113                 Desayuno, Almuerzo, Merienda, Cena         \n",
       "114                 Desayuno, Almuerzo, Merienda, Cena         \n",
       "\n",
       "     9,\\t¿Con qué frecuencia a la semana realizas actividad física?  \\\n",
       "0                                                    1                \n",
       "1                                                    0                \n",
       "2                                                    5                \n",
       "3                                                    3                \n",
       "4                                                    5                \n",
       "..                                                 ...                \n",
       "110                                                  1                \n",
       "111                                                  3                \n",
       "112                                                  6                \n",
       "113                                                  4                \n",
       "114                                                  1                \n",
       "\n",
       "    10,\\t¿Consideras que tener buenos hábitos alimenticios?  \n",
       "0                                                   No       \n",
       "1                                                   No       \n",
       "2                                                   Sí       \n",
       "3                                                   Sí       \n",
       "4                                                   Sí       \n",
       "..                                                 ...       \n",
       "110                                                 Sí       \n",
       "111                                                 Sí       \n",
       "112                                                 Sí       \n",
       "113                                                 Sí       \n",
       "114                                                 No       \n",
       "\n",
       "[115 rows x 8 columns]"
      ]
     },
     "execution_count": 111,
     "metadata": {},
     "output_type": "execute_result"
    }
   ],
   "source": [
    "campos = dataset[[\"Género:\",\"Edad:\",\"Peso:\",\"Altura:\",\"IMC:\",\"1,\\t¿Cuáles de las 4 comidas diarias realizas en el día?\",\n",
    "                    \"9,\\t¿Con qué frecuencia a la semana realizas actividad física?\",\"10,\\t¿Consideras que tener buenos hábitos alimenticios?\"]]\n",
    "campos"
   ]
  },
  {
   "cell_type": "code",
   "execution_count": 98,
   "id": "cf4b8c49",
   "metadata": {},
   "outputs": [
    {
     "name": "stderr",
     "output_type": "stream",
     "text": [
      "C:\\Users\\hipol\\anaconda3\\lib\\site-packages\\seaborn\\distributions.py:2619: FutureWarning: `distplot` is a deprecated function and will be removed in a future version. Please adapt your code to use either `displot` (a figure-level function with similar flexibility) or `histplot` (an axes-level function for histograms).\n",
      "  warnings.warn(msg, FutureWarning)\n"
     ]
    },
    {
     "data": {
      "image/png": "[encoded data removed]",
      "text/plain": [
       "<Figure size 432x288 with 1 Axes>"
      ]
     },
     "metadata": {
      "needs_background": "light"
     },
     "output_type": "display_data"
    }
   ],
   "source": [
    "edad = dataset[\"Edad:\"]\n",
    "v = np.array(edad)\n",
    "#tamaño de la muestra\n",
    "n = len(v)\n",
    "#alcance\n",
    "inicio = np.min(v)\n",
    "fin = np.max(v)\n",
    "#rango\n",
    "rango = fin-inicio\n",
    "#cantidad de barras\n",
    "numintervalos = round(1 + np.log2(n))\n",
    "#ancho de barra\n",
    "intervalos = round(rango/numintervalos)\n",
    "#array de intervalos\n",
    "arr = np.arange(inicio,intervalos+fin,1+numintervalos)\n",
    "# generamos el distplot\n",
    "sns.distplot(v,arr) # grafica el histograma y le superpone la curva de densidad estimada \n",
    "plt.title(\"Porcentaje de rangos etarios\") # agrega el título\n",
    "plt.xlabel(\"Edad\") # agrega una etiqueta el eje de abscisas\n",
    "plt.ylabel(\"Porcentual de personas\")# agrega una etiqueta el eje de ordenadas\n",
    "plt.show()"
   ]
  },
  {
   "cell_type": "code",
   "execution_count": 95,
   "id": "cc72e073",
   "metadata": {},
   "outputs": [
    {
     "name": "stderr",
     "output_type": "stream",
     "text": [
      "C:\\Users\\hipol\\anaconda3\\lib\\site-packages\\seaborn\\_decorators.py:36: FutureWarning: Pass the following variable as a keyword arg: x. From version 0.12, the only valid positional argument will be `data`, and passing other arguments without an explicit keyword will result in an error or misinterpretation.\n",
      "  warnings.warn(\n"
     ]
    },
    {
     "data": {
      "image/png": "[encoded data removed]",
      "text/plain": [
       "<Figure size 432x288 with 1 Axes>"
      ]
     },
     "metadata": {
      "needs_background": "light"
     },
     "output_type": "display_data"
    }
   ],
   "source": [
    "gen = dataset[\"Género:\"]\n",
    "sns.countplot(gen,palette=\"Pastel1\") # Dark2, Set1, Set2, Pastel1, Pastel2, Accent\n",
    "plt.title(\"Cantidad de personas por género\") # agrega el título\n",
    "plt.xlabel(\"Género\") # agrega una etiqueta el eje de abscisas\n",
    "plt.ylabel(\"Cantidad de personas\")# agrega una etiqueta el eje de ordenadas\n",
    "plt.show()"
   ]
  },
  {
   "cell_type": "code",
   "execution_count": 110,
   "id": "3389e0f5",
   "metadata": {},
   "outputs": [
    {
     "name": "stdout",
     "output_type": "stream",
     "text": [
      "                                                    Edad:\n",
      "10,\\t¿Consideras que tener buenos hábitos alime...       \n",
      "No                                                     57\n",
      "Sí                                                     58\n"
     ]
    },
    {
     "ename": "ValueError",
     "evalue": "'explode' must be of length 'x'",
     "output_type": "error",
     "traceback": [
      "\u001b[1;31m---------------------------------------------------------------------------\u001b[0m",
      "\u001b[1;31mValueError\u001b[0m                                Traceback (most recent call last)",
      "\u001b[1;32m~\\AppData\\Local\\Temp/ipykernel_16952/723508155.py\u001b[0m in \u001b[0;36m<module>\u001b[1;34m\u001b[0m\n\u001b[0;32m      5\u001b[0m \u001b[0mexplode\u001b[0m \u001b[1;33m=\u001b[0m \u001b[1;33m(\u001b[0m\u001b[1;36m0.1\u001b[0m\u001b[1;33m,\u001b[0m \u001b[1;36m0.1\u001b[0m\u001b[1;33m,\u001b[0m \u001b[1;36m0.1\u001b[0m\u001b[1;33m,\u001b[0m \u001b[1;36m0.1\u001b[0m\u001b[1;33m,\u001b[0m\u001b[1;36m0.1\u001b[0m\u001b[1;33m)\u001b[0m\u001b[1;33m\u001b[0m\u001b[1;33m\u001b[0m\u001b[0m\n\u001b[0;32m      6\u001b[0m \u001b[0mfg\u001b[0m\u001b[1;33m,\u001b[0m \u001b[0max\u001b[0m\u001b[1;33m=\u001b[0m \u001b[0mplt\u001b[0m\u001b[1;33m.\u001b[0m\u001b[0msubplots\u001b[0m\u001b[1;33m(\u001b[0m\u001b[1;33m)\u001b[0m\u001b[1;33m\u001b[0m\u001b[1;33m\u001b[0m\u001b[0m\n\u001b[1;32m----> 7\u001b[1;33m \u001b[0max\u001b[0m\u001b[1;33m.\u001b[0m\u001b[0mpie\u001b[0m\u001b[1;33m(\u001b[0m\u001b[0mcont_data\u001b[0m\u001b[1;33m[\u001b[0m\u001b[1;34m'Edad:'\u001b[0m\u001b[1;33m]\u001b[0m\u001b[1;33m,\u001b[0m\u001b[0mautopct\u001b[0m\u001b[1;33m=\u001b[0m\u001b[1;34m'%1.1f%%'\u001b[0m\u001b[1;33m,\u001b[0m\u001b[0mcolors\u001b[0m\u001b[1;33m=\u001b[0m\u001b[0mcolor_list\u001b[0m\u001b[1;33m,\u001b[0m\u001b[0mexplode\u001b[0m\u001b[1;33m=\u001b[0m\u001b[0mexplode\u001b[0m\u001b[1;33m,\u001b[0m\u001b[0mshadow\u001b[0m\u001b[1;33m=\u001b[0m\u001b[1;32mTrue\u001b[0m\u001b[1;33m,\u001b[0m\u001b[0mframe\u001b[0m\u001b[1;33m=\u001b[0m\u001b[1;32mTrue\u001b[0m\u001b[1;33m)\u001b[0m\u001b[1;33m\u001b[0m\u001b[1;33m\u001b[0m\u001b[0m\n\u001b[0m\u001b[0;32m      8\u001b[0m \u001b[0max\u001b[0m\u001b[1;33m.\u001b[0m\u001b[0mlegend\u001b[0m\u001b[1;33m(\u001b[0m\u001b[0mcont_data\u001b[0m\u001b[1;33m.\u001b[0m\u001b[0mindex\u001b[0m\u001b[1;33m,\u001b[0m\u001b[0mloc\u001b[0m\u001b[1;33m=\u001b[0m\u001b[1;34m'upper right'\u001b[0m\u001b[1;33m,\u001b[0m\u001b[0mfontsize\u001b[0m\u001b[1;33m=\u001b[0m\u001b[1;36m8\u001b[0m\u001b[1;33m)\u001b[0m\u001b[1;33m\u001b[0m\u001b[1;33m\u001b[0m\u001b[0m\n\u001b[0;32m      9\u001b[0m \u001b[0max\u001b[0m\u001b[1;33m.\u001b[0m\u001b[0maxis\u001b[0m\u001b[1;33m(\u001b[0m\u001b[1;34m'equal'\u001b[0m\u001b[1;33m)\u001b[0m\u001b[1;33m\u001b[0m\u001b[1;33m\u001b[0m\u001b[0m\n",
      "\u001b[1;32m~\\anaconda3\\lib\\site-packages\\matplotlib\\__init__.py\u001b[0m in \u001b[0;36minner\u001b[1;34m(ax, data, *args, **kwargs)\u001b[0m\n\u001b[0;32m   1359\u001b[0m     \u001b[1;32mdef\u001b[0m \u001b[0minner\u001b[0m\u001b[1;33m(\u001b[0m\u001b[0max\u001b[0m\u001b[1;33m,\u001b[0m \u001b[1;33m*\u001b[0m\u001b[0margs\u001b[0m\u001b[1;33m,\u001b[0m \u001b[0mdata\u001b[0m\u001b[1;33m=\u001b[0m\u001b[1;32mNone\u001b[0m\u001b[1;33m,\u001b[0m \u001b[1;33m**\u001b[0m\u001b[0mkwargs\u001b[0m\u001b[1;33m)\u001b[0m\u001b[1;33m:\u001b[0m\u001b[1;33m\u001b[0m\u001b[1;33m\u001b[0m\u001b[0m\n\u001b[0;32m   1360\u001b[0m         \u001b[1;32mif\u001b[0m \u001b[0mdata\u001b[0m \u001b[1;32mis\u001b[0m \u001b[1;32mNone\u001b[0m\u001b[1;33m:\u001b[0m\u001b[1;33m\u001b[0m\u001b[1;33m\u001b[0m\u001b[0m\n\u001b[1;32m-> 1361\u001b[1;33m             \u001b[1;32mreturn\u001b[0m \u001b[0mfunc\u001b[0m\u001b[1;33m(\u001b[0m\u001b[0max\u001b[0m\u001b[1;33m,\u001b[0m \u001b[1;33m*\u001b[0m\u001b[0mmap\u001b[0m\u001b[1;33m(\u001b[0m\u001b[0msanitize_sequence\u001b[0m\u001b[1;33m,\u001b[0m \u001b[0margs\u001b[0m\u001b[1;33m)\u001b[0m\u001b[1;33m,\u001b[0m \u001b[1;33m**\u001b[0m\u001b[0mkwargs\u001b[0m\u001b[1;33m)\u001b[0m\u001b[1;33m\u001b[0m\u001b[1;33m\u001b[0m\u001b[0m\n\u001b[0m\u001b[0;32m   1362\u001b[0m \u001b[1;33m\u001b[0m\u001b[0m\n\u001b[0;32m   1363\u001b[0m         \u001b[0mbound\u001b[0m \u001b[1;33m=\u001b[0m \u001b[0mnew_sig\u001b[0m\u001b[1;33m.\u001b[0m\u001b[0mbind\u001b[0m\u001b[1;33m(\u001b[0m\u001b[0max\u001b[0m\u001b[1;33m,\u001b[0m \u001b[1;33m*\u001b[0m\u001b[0margs\u001b[0m\u001b[1;33m,\u001b[0m \u001b[1;33m**\u001b[0m\u001b[0mkwargs\u001b[0m\u001b[1;33m)\u001b[0m\u001b[1;33m\u001b[0m\u001b[1;33m\u001b[0m\u001b[0m\n",
      "\u001b[1;32m~\\anaconda3\\lib\\site-packages\\matplotlib\\axes\\_axes.py\u001b[0m in \u001b[0;36mpie\u001b[1;34m(self, x, explode, labels, colors, autopct, pctdistance, shadow, labeldistance, startangle, radius, counterclock, wedgeprops, textprops, center, frame, rotatelabels, normalize)\u001b[0m\n\u001b[0;32m   3059\u001b[0m             \u001b[1;32mraise\u001b[0m \u001b[0mValueError\u001b[0m\u001b[1;33m(\u001b[0m\u001b[1;34m\"'label' must be of length 'x'\"\u001b[0m\u001b[1;33m)\u001b[0m\u001b[1;33m\u001b[0m\u001b[1;33m\u001b[0m\u001b[0m\n\u001b[0;32m   3060\u001b[0m         \u001b[1;32mif\u001b[0m \u001b[0mlen\u001b[0m\u001b[1;33m(\u001b[0m\u001b[0mx\u001b[0m\u001b[1;33m)\u001b[0m \u001b[1;33m!=\u001b[0m \u001b[0mlen\u001b[0m\u001b[1;33m(\u001b[0m\u001b[0mexplode\u001b[0m\u001b[1;33m)\u001b[0m\u001b[1;33m:\u001b[0m\u001b[1;33m\u001b[0m\u001b[1;33m\u001b[0m\u001b[0m\n\u001b[1;32m-> 3061\u001b[1;33m             \u001b[1;32mraise\u001b[0m \u001b[0mValueError\u001b[0m\u001b[1;33m(\u001b[0m\u001b[1;34m\"'explode' must be of length 'x'\"\u001b[0m\u001b[1;33m)\u001b[0m\u001b[1;33m\u001b[0m\u001b[1;33m\u001b[0m\u001b[0m\n\u001b[0m\u001b[0;32m   3062\u001b[0m         \u001b[1;32mif\u001b[0m \u001b[0mcolors\u001b[0m \u001b[1;32mis\u001b[0m \u001b[1;32mNone\u001b[0m\u001b[1;33m:\u001b[0m\u001b[1;33m\u001b[0m\u001b[1;33m\u001b[0m\u001b[0m\n\u001b[0;32m   3063\u001b[0m             \u001b[0mget_next_color\u001b[0m \u001b[1;33m=\u001b[0m \u001b[0mself\u001b[0m\u001b[1;33m.\u001b[0m\u001b[0m_get_patches_for_fill\u001b[0m\u001b[1;33m.\u001b[0m\u001b[0mget_next_color\u001b[0m\u001b[1;33m\u001b[0m\u001b[1;33m\u001b[0m\u001b[0m\n",
      "\u001b[1;31mValueError\u001b[0m: 'explode' must be of length 'x'"
     ]
    },
    {
     "data": {
      "image/png": "[encoded data removed]",
      "text/plain": [
       "<Figure size 432x288 with 1 Axes>"
      ]
     },
     "metadata": {
      "needs_background": "light"
     },
     "output_type": "display_data"
    }
   ],
   "source": [
    "habitos = dataset[\"\t10,\\t¿Consideras que tener buenos hábitos alimenticios?\"]\n",
    "colors = ['#FF0000', '#0000FF', '#00FF00', '#AA1539', '#754196']\n",
    "plot = habitos.value_counts().plot(kind='pie', autopct='%.2f', colors = colors, figsize=(6,6), title='Paises por Continente')\n",
    "\n",
    "cont_data=dataset.groupby('10,\\t¿Consideras que tener buenos hábitos alimenticios?')[['Edad:']].count()\n",
    "print(cont_data)\n",
    "color_list=['#DDA0DD','#DA70D6','#BA55D3','#9400D3','#8B008B']\n",
    "explode = (0.1, 0.1, 0.1, 0.1,0.1)\n",
    "fg, ax= plt.subplots()\n",
    "ax.pie(cont_data['Edad:'],autopct='%1.1f%%',colors=color_list,explode=explode,shadow=True,frame=True)\n",
    "ax.legend(cont_data.index,loc='upper right',fontsize=8)\n",
    "ax.axis('equal')\n",
    "ax.set_facecolor(\"white\")\n",
    "plt.show()"
   ]
  },
  {
   "cell_type": "code",
   "execution_count": 114,
   "id": "d246fd95",
   "metadata": {},
   "outputs": [
    {
     "ename": "ValueError",
     "evalue": "'label' must be of length 'x'",
     "output_type": "error",
     "traceback": [
      "\u001b[1;31m---------------------------------------------------------------------------\u001b[0m",
      "\u001b[1;31mValueError\u001b[0m                                Traceback (most recent call last)",
      "\u001b[1;32m~\\AppData\\Local\\Temp/ipykernel_16952/1960470967.py\u001b[0m in \u001b[0;36m<module>\u001b[1;34m\u001b[0m\n\u001b[0;32m      3\u001b[0m \u001b[0mmylabels\u001b[0m \u001b[1;33m=\u001b[0m \u001b[1;33m[\u001b[0m\u001b[1;34m\"Sí\"\u001b[0m\u001b[1;33m,\u001b[0m \u001b[1;34m\"No\"\u001b[0m\u001b[1;33m]\u001b[0m\u001b[1;33m\u001b[0m\u001b[1;33m\u001b[0m\u001b[0m\n\u001b[0;32m      4\u001b[0m \u001b[1;33m\u001b[0m\u001b[0m\n\u001b[1;32m----> 5\u001b[1;33m \u001b[0mplt\u001b[0m\u001b[1;33m.\u001b[0m\u001b[0mpie\u001b[0m\u001b[1;33m(\u001b[0m\u001b[0my\u001b[0m\u001b[1;33m,\u001b[0m \u001b[0mlabels\u001b[0m \u001b[1;33m=\u001b[0m \u001b[0mmylabels\u001b[0m\u001b[1;33m)\u001b[0m\u001b[1;33m\u001b[0m\u001b[1;33m\u001b[0m\u001b[0m\n\u001b[0m\u001b[0;32m      6\u001b[0m \u001b[0mplt\u001b[0m\u001b[1;33m.\u001b[0m\u001b[0mshow\u001b[0m\u001b[1;33m(\u001b[0m\u001b[1;33m)\u001b[0m\u001b[1;33m\u001b[0m\u001b[1;33m\u001b[0m\u001b[0m\n",
      "\u001b[1;32m~\\anaconda3\\lib\\site-packages\\matplotlib\\pyplot.py\u001b[0m in \u001b[0;36mpie\u001b[1;34m(x, explode, labels, colors, autopct, pctdistance, shadow, labeldistance, startangle, radius, counterclock, wedgeprops, textprops, center, frame, rotatelabels, normalize, data)\u001b[0m\n\u001b[0;32m   3004\u001b[0m         \u001b[0mtextprops\u001b[0m\u001b[1;33m=\u001b[0m\u001b[1;32mNone\u001b[0m\u001b[1;33m,\u001b[0m \u001b[0mcenter\u001b[0m\u001b[1;33m=\u001b[0m\u001b[1;33m(\u001b[0m\u001b[1;36m0\u001b[0m\u001b[1;33m,\u001b[0m \u001b[1;36m0\u001b[0m\u001b[1;33m)\u001b[0m\u001b[1;33m,\u001b[0m \u001b[0mframe\u001b[0m\u001b[1;33m=\u001b[0m\u001b[1;32mFalse\u001b[0m\u001b[1;33m,\u001b[0m\u001b[1;33m\u001b[0m\u001b[1;33m\u001b[0m\u001b[0m\n\u001b[0;32m   3005\u001b[0m         rotatelabels=False, *, normalize=None, data=None):\n\u001b[1;32m-> 3006\u001b[1;33m     return gca().pie(\n\u001b[0m\u001b[0;32m   3007\u001b[0m         \u001b[0mx\u001b[0m\u001b[1;33m,\u001b[0m \u001b[0mexplode\u001b[0m\u001b[1;33m=\u001b[0m\u001b[0mexplode\u001b[0m\u001b[1;33m,\u001b[0m \u001b[0mlabels\u001b[0m\u001b[1;33m=\u001b[0m\u001b[0mlabels\u001b[0m\u001b[1;33m,\u001b[0m \u001b[0mcolors\u001b[0m\u001b[1;33m=\u001b[0m\u001b[0mcolors\u001b[0m\u001b[1;33m,\u001b[0m\u001b[1;33m\u001b[0m\u001b[1;33m\u001b[0m\u001b[0m\n\u001b[0;32m   3008\u001b[0m         \u001b[0mautopct\u001b[0m\u001b[1;33m=\u001b[0m\u001b[0mautopct\u001b[0m\u001b[1;33m,\u001b[0m \u001b[0mpctdistance\u001b[0m\u001b[1;33m=\u001b[0m\u001b[0mpctdistance\u001b[0m\u001b[1;33m,\u001b[0m \u001b[0mshadow\u001b[0m\u001b[1;33m=\u001b[0m\u001b[0mshadow\u001b[0m\u001b[1;33m,\u001b[0m\u001b[1;33m\u001b[0m\u001b[1;33m\u001b[0m\u001b[0m\n",
      "\u001b[1;32m~\\anaconda3\\lib\\site-packages\\matplotlib\\__init__.py\u001b[0m in \u001b[0;36minner\u001b[1;34m(ax, data, *args, **kwargs)\u001b[0m\n\u001b[0;32m   1359\u001b[0m     \u001b[1;32mdef\u001b[0m \u001b[0minner\u001b[0m\u001b[1;33m(\u001b[0m\u001b[0max\u001b[0m\u001b[1;33m,\u001b[0m \u001b[1;33m*\u001b[0m\u001b[0margs\u001b[0m\u001b[1;33m,\u001b[0m \u001b[0mdata\u001b[0m\u001b[1;33m=\u001b[0m\u001b[1;32mNone\u001b[0m\u001b[1;33m,\u001b[0m \u001b[1;33m**\u001b[0m\u001b[0mkwargs\u001b[0m\u001b[1;33m)\u001b[0m\u001b[1;33m:\u001b[0m\u001b[1;33m\u001b[0m\u001b[1;33m\u001b[0m\u001b[0m\n\u001b[0;32m   1360\u001b[0m         \u001b[1;32mif\u001b[0m \u001b[0mdata\u001b[0m \u001b[1;32mis\u001b[0m \u001b[1;32mNone\u001b[0m\u001b[1;33m:\u001b[0m\u001b[1;33m\u001b[0m\u001b[1;33m\u001b[0m\u001b[0m\n\u001b[1;32m-> 1361\u001b[1;33m             \u001b[1;32mreturn\u001b[0m \u001b[0mfunc\u001b[0m\u001b[1;33m(\u001b[0m\u001b[0max\u001b[0m\u001b[1;33m,\u001b[0m \u001b[1;33m*\u001b[0m\u001b[0mmap\u001b[0m\u001b[1;33m(\u001b[0m\u001b[0msanitize_sequence\u001b[0m\u001b[1;33m,\u001b[0m \u001b[0margs\u001b[0m\u001b[1;33m)\u001b[0m\u001b[1;33m,\u001b[0m \u001b[1;33m**\u001b[0m\u001b[0mkwargs\u001b[0m\u001b[1;33m)\u001b[0m\u001b[1;33m\u001b[0m\u001b[1;33m\u001b[0m\u001b[0m\n\u001b[0m\u001b[0;32m   1362\u001b[0m \u001b[1;33m\u001b[0m\u001b[0m\n\u001b[0;32m   1363\u001b[0m         \u001b[0mbound\u001b[0m \u001b[1;33m=\u001b[0m \u001b[0mnew_sig\u001b[0m\u001b[1;33m.\u001b[0m\u001b[0mbind\u001b[0m\u001b[1;33m(\u001b[0m\u001b[0max\u001b[0m\u001b[1;33m,\u001b[0m \u001b[1;33m*\u001b[0m\u001b[0margs\u001b[0m\u001b[1;33m,\u001b[0m \u001b[1;33m**\u001b[0m\u001b[0mkwargs\u001b[0m\u001b[1;33m)\u001b[0m\u001b[1;33m\u001b[0m\u001b[1;33m\u001b[0m\u001b[0m\n",
      "\u001b[1;32m~\\anaconda3\\lib\\site-packages\\matplotlib\\axes\\_axes.py\u001b[0m in \u001b[0;36mpie\u001b[1;34m(self, x, explode, labels, colors, autopct, pctdistance, shadow, labeldistance, startangle, radius, counterclock, wedgeprops, textprops, center, frame, rotatelabels, normalize)\u001b[0m\n\u001b[0;32m   3057\u001b[0m             \u001b[0mexplode\u001b[0m \u001b[1;33m=\u001b[0m \u001b[1;33m[\u001b[0m\u001b[1;36m0\u001b[0m\u001b[1;33m]\u001b[0m \u001b[1;33m*\u001b[0m \u001b[0mlen\u001b[0m\u001b[1;33m(\u001b[0m\u001b[0mx\u001b[0m\u001b[1;33m)\u001b[0m\u001b[1;33m\u001b[0m\u001b[1;33m\u001b[0m\u001b[0m\n\u001b[0;32m   3058\u001b[0m         \u001b[1;32mif\u001b[0m \u001b[0mlen\u001b[0m\u001b[1;33m(\u001b[0m\u001b[0mx\u001b[0m\u001b[1;33m)\u001b[0m \u001b[1;33m!=\u001b[0m \u001b[0mlen\u001b[0m\u001b[1;33m(\u001b[0m\u001b[0mlabels\u001b[0m\u001b[1;33m)\u001b[0m\u001b[1;33m:\u001b[0m\u001b[1;33m\u001b[0m\u001b[1;33m\u001b[0m\u001b[0m\n\u001b[1;32m-> 3059\u001b[1;33m             \u001b[1;32mraise\u001b[0m \u001b[0mValueError\u001b[0m\u001b[1;33m(\u001b[0m\u001b[1;34m\"'label' must be of length 'x'\"\u001b[0m\u001b[1;33m)\u001b[0m\u001b[1;33m\u001b[0m\u001b[1;33m\u001b[0m\u001b[0m\n\u001b[0m\u001b[0;32m   3060\u001b[0m         \u001b[1;32mif\u001b[0m \u001b[0mlen\u001b[0m\u001b[1;33m(\u001b[0m\u001b[0mx\u001b[0m\u001b[1;33m)\u001b[0m \u001b[1;33m!=\u001b[0m \u001b[0mlen\u001b[0m\u001b[1;33m(\u001b[0m\u001b[0mexplode\u001b[0m\u001b[1;33m)\u001b[0m\u001b[1;33m:\u001b[0m\u001b[1;33m\u001b[0m\u001b[1;33m\u001b[0m\u001b[0m\n\u001b[0;32m   3061\u001b[0m             \u001b[1;32mraise\u001b[0m \u001b[0mValueError\u001b[0m\u001b[1;33m(\u001b[0m\u001b[1;34m\"'explode' must be of length 'x'\"\u001b[0m\u001b[1;33m)\u001b[0m\u001b[1;33m\u001b[0m\u001b[1;33m\u001b[0m\u001b[0m\n",
      "\u001b[1;31mValueError\u001b[0m: 'label' must be of length 'x'"
     ]
    },
    {
     "data": {
      "image/png": "[encoded data removed]",
      "text/plain": [
       "<Figure size 432x288 with 1 Axes>"
      ]
     },
     "metadata": {
      "needs_background": "light"
     },
     "output_type": "display_data"
    }
   ],
   "source": [
    "habitos = dataset[\"9,\\t¿Con qué frecuencia a la semana realizas actividad física?\"]\n",
    "y = np.array(habitos)\n",
    "mylabels = [\"Sí\", \"No\"]\n",
    "\n",
    "plt.pie(y, labels = mylabels)\n",
    "plt.show() "
   ]
  },
  {
   "cell_type": "code",
   "execution_count": 115,
   "id": "68db7fb4",
   "metadata": {},
   "outputs": [
    {
     "name": "stderr",
     "output_type": "stream",
     "text": [
      "C:\\Users\\hipol\\anaconda3\\lib\\site-packages\\matplotlib\\backends\\backend_agg.py:240: RuntimeWarning: Glyph 9 missing from current font.\n",
      "  font.set_text(s, 0.0, flags=flags)\n",
      "C:\\Users\\hipol\\anaconda3\\lib\\site-packages\\matplotlib\\backends\\backend_agg.py:203: RuntimeWarning: Glyph 9 missing from current font.\n",
      "  font.set_text(s, 0, flags=flags)\n"
     ]
    },
    {
     "data": {
      "image/png": "[encoded data removed]",
      "text/plain": [
       "<Figure size 432x432 with 1 Axes>"
      ]
     },
     "metadata": {},
     "output_type": "display_data"
    }
   ],
   "source": [
    "comidas = dataset[\"1,\\t¿Cuáles de las 4 comidas diarias realizas en el día?\"]\n",
    "comidas.value_counts()\n",
    "plot = comidas.value_counts().plot(kind='pie', autopct='%.2f', colors=['#FF0000', '#0000FF', '#00FF00', '#AA1539', '#754196'], figsize=(6,6), title='Paises por Continente')"
   ]
  },
  {
   "cell_type": "code",
   "execution_count": 108,
   "id": "69f5d91b",
   "metadata": {},
   "outputs": [
    {
     "name": "stderr",
     "output_type": "stream",
     "text": [
      "C:\\Users\\hipol\\anaconda3\\lib\\site-packages\\seaborn\\_decorators.py:36: FutureWarning: Pass the following variable as a keyword arg: x. From version 0.12, the only valid positional argument will be `data`, and passing other arguments without an explicit keyword will result in an error or misinterpretation.\n",
      "  warnings.warn(\n"
     ]
    },
    {
     "data": {
      "image/png": "[encoded data removed]",
      "text/plain": [
       "<Figure size 432x288 with 1 Axes>"
      ]
     },
     "metadata": {
      "needs_background": "light"
     },
     "output_type": "display_data"
    }
   ],
   "source": [
    "actividad = dataset[\"9,\\t¿Con qué frecuencia a la semana realizas actividad física?\"]\n",
    "sns.countplot(actividad,palette=\"Set2\") # Dark2, Set1, Set2, Pastel1, Pastel2, Accent\n",
    "plt.title(\"Actividad física por semana\") # agrega el título\n",
    "plt.xlabel(\"Cantidad de días a la semana\") # agrega una etiqueta el eje de abscisas\n",
    "plt.ylabel(\"Cantidad de personas\")# agrega una etiqueta el eje de ordenadas\n",
    "plt.show()"
   ]
  },
  {
   "cell_type": "code",
   "execution_count": 76,
   "id": "8a15bad2",
   "metadata": {},
   "outputs": [
    {
     "name": "stdout",
     "output_type": "stream",
     "text": [
      "[11 20 29 38 47 56 65 74 83]\n"
     ]
    },
    {
     "data": {
      "image/png": "[encoded data removed]",
      "text/plain": [
       "<Figure size 432x288 with 1 Axes>"
      ]
     },
     "metadata": {
      "needs_background": "light"
     },
     "output_type": "display_data"
    }
   ],
   "source": [
    "edad = dataset[\"Edad:\"]\n",
    "v = np.array(edad)\n",
    "#tamaño de la muestra\n",
    "n = len(v)\n",
    "#alcance\n",
    "inicio = np.min(v)\n",
    "fin = np.max(v)\n",
    "#rango\n",
    "rango = fin-inicio\n",
    "#cantidad de barras\n",
    "numintervalos = round(1 + np.log2(n))\n",
    "#ancho de barra\n",
    "intervalos = round(rango/numintervalos)\n",
    "#Ii = [11,20,29,38,47,56,65,74,83]\n",
    "arr = np.arange(inicio,intervalos+fin,1+numintervalos); print(arr)\n",
    "plt.hist(v,arr)\n",
    "#Ii=np.linspace(inicio,fin,1+numintervalos); print(Ii)\n",
    "#plt.hist(v,Ii)\n",
    "plt.grid()"
   ]
  },
  {
   "cell_type": "code",
   "execution_count": null,
   "id": "0be870c0",
   "metadata": {},
   "outputs": [
    {
     "name": "stdout",
     "output_type": "stream",
     "text": [
      "[ 33.  42.  51.  60.  69.  78.  87.  96. 105. 114. 123.]\n"
     ]
    },
    {
     "data": {
      "image/png": "[encoded data removed]",
      "text/plain": [
       "<Figure size 432x288 with 1 Axes>"
      ]
     },
     "metadata": {
      "needs_background": "light"
     },
     "output_type": "display_data"
    }
   ],
   "source": [
    "peso = dataset[\"Peso:\"]\n",
    "v = np.array(peso)\n",
    "#tamaño de la muestra\n",
    "n = len(v)\n",
    "#alcance\n",
    "inicio = np.min(v)\n",
    "fin = np.max(v)\n",
    "#rango\n",
    "rango = fin-inicio\n",
    "#cantidad de barras\n",
    "numintervalos = round(1 + np.log2(n))\n",
    "#ancho de barra\n",
    "intervalos = round(rango/numintervalos)\n",
    "arr = np.arange(inicio,intervalos+fin,1+numintervalos); print(arr)\n",
    "plt.hist(v,arr)\n",
    "#Ii=np.linspace(inicio,fin,1+numintervalos); print(Ii)\n",
    "#plt.hist(v,Ii)\n",
    "plt.grid()"
   ]
  },
  {
   "cell_type": "code",
   "execution_count": null,
   "id": "e7ca9b2e",
   "metadata": {},
   "outputs": [],
   "source": [
    "edad = dataset[\"Edad:\"]\n",
    "v = np.array(edad)"
   ]
  },
  {
   "cell_type": "markdown",
   "id": "aab114f8",
   "metadata": {},
   "source": [
    "Cosas que puedo hacer:\n",
    "\n",
    "3 graficos cuantitativas:\n",
    "- histograma -> edades (segun género)\n",
    "- histograma discreto -> actividad física LISTO\n",
    "- boxplot -> peso (según habitos alimenticios)\n",
    "- densidad -> imc (por edades)\n",
    "\n",
    "2 categóricas\n",
    "- barras/barras adyacentes -> habitos alimenticios / genero \n",
    "- diagrama circular -> 4 comidas"
   ]
  },
  {
   "cell_type": "code",
   "execution_count": null,
   "id": "1f24d69c",
   "metadata": {},
   "outputs": [
    {
     "data": {
      "text/plain": [
       "array([['Femenino', 40],\n",
       "       ['Femenino', 49],\n",
       "       ['Masculino', 13],\n",
       "       ['Masculino', 17],\n",
       "       ['Femenino', 30],\n",
       "       ['Femenino', 14],\n",
       "       ['Masculino', 16],\n",
       "       ['Masculino', 70],\n",
       "       ['Masculino', 12],\n",
       "       ['Masculino', 18],\n",
       "       ['Femenino', 40],\n",
       "       ['Masculino', 43],\n",
       "       ['Femenino', 11],\n",
       "       ['Masculino', 17],\n",
       "       ['Masculino', 52],\n",
       "       ['Masculino', 40],\n",
       "       ['Masculino', 18],\n",
       "       ['Masculino', 57],\n",
       "       ['Masculino', 17],\n",
       "       ['Masculino', 17],\n",
       "       ['Femenino', 55],\n",
       "       ['Masculino', 34],\n",
       "       ['Femenino', 60],\n",
       "       ['Masculino', 14],\n",
       "       ['Masculino', 62],\n",
       "       ['Masculino', 17],\n",
       "       ['Masculino', 17],\n",
       "       ['Masculino', 44],\n",
       "       ['Femenino', 19],\n",
       "       ['Masculino', 12],\n",
       "       ['Femenino', 43],\n",
       "       ['Masculino', 14],\n",
       "       ['Masculino', 12],\n",
       "       ['Masculino', 13],\n",
       "       ['Masculino', 17],\n",
       "       ['Masculino', 43],\n",
       "       ['Masculino', 45],\n",
       "       ['Masculino', 12],\n",
       "       ['Femenino', 17],\n",
       "       ['Femenino', 54],\n",
       "       ['Masculino', 16],\n",
       "       ['Masculino', 16],\n",
       "       ['Femenino', 17],\n",
       "       ['Masculino', 16],\n",
       "       ['Masculino', 15],\n",
       "       ['Masculino', 16],\n",
       "       ['Masculino', 18],\n",
       "       ['Masculino', 15],\n",
       "       ['Masculino', 13],\n",
       "       ['Masculino', 15],\n",
       "       ['Masculino', 17],\n",
       "       ['Femenino', 16],\n",
       "       ['Masculino', 16],\n",
       "       ['Masculino', 15],\n",
       "       ['Masculino', 15],\n",
       "       ['Masculino', 17],\n",
       "       ['Masculino', 49],\n",
       "       ['Masculino', 22],\n",
       "       ['Masculino', 18],\n",
       "       ['Masculino', 20],\n",
       "       ['Femenino', 51],\n",
       "       ['Masculino', 15],\n",
       "       ['Masculino', 17],\n",
       "       ['Masculino', 18],\n",
       "       ['Masculino', 42],\n",
       "       ['Masculino', 52],\n",
       "       ['Femenino', 20],\n",
       "       ['Masculino', 56],\n",
       "       ['Femenino', 37],\n",
       "       ['Femenino', 16],\n",
       "       ['Masculino', 18],\n",
       "       ['Masculino', 56],\n",
       "       ['Masculino', 43],\n",
       "       ['Masculino', 18],\n",
       "       ['Femenino', 40],\n",
       "       ['Masculino', 44],\n",
       "       ['Masculino', 46],\n",
       "       ['Masculino', 68],\n",
       "       ['Masculino', 72],\n",
       "       ['Masculino', 43],\n",
       "       ['Masculino', 21],\n",
       "       ['Masculino', 80],\n",
       "       ['Femenino', 53],\n",
       "       ['Masculino', 56],\n",
       "       ['Masculino', 56],\n",
       "       ['Masculino', 15],\n",
       "       ['Masculino', 45],\n",
       "       ['Masculino', 51],\n",
       "       ['Masculino', 30],\n",
       "       ['Femenino', 50],\n",
       "       ['Masculino', 28],\n",
       "       ['Masculino', 33],\n",
       "       ['Masculino', 48],\n",
       "       ['Femenino', 56],\n",
       "       ['Masculino', 39],\n",
       "       ['Masculino', 15],\n",
       "       ['Masculino', 15],\n",
       "       ['Masculino', 19],\n",
       "       ['Masculino', 46],\n",
       "       ['Masculino', 14],\n",
       "       ['Femenino', 15],\n",
       "       ['Masculino', 74],\n",
       "       ['Masculino', 43],\n",
       "       ['Masculino', 16],\n",
       "       ['Masculino', 16],\n",
       "       ['Femenino', 18],\n",
       "       ['Femenino', 48],\n",
       "       ['Masculino', 17],\n",
       "       ['Femenino', 15],\n",
       "       ['Masculino', 17],\n",
       "       ['Masculino', 70],\n",
       "       ['Femenino', 56],\n",
       "       ['Masculino', 12],\n",
       "       ['Femenino', 15],\n",
       "       ['Femenino', 17]], dtype=object)"
      ]
     },
     "execution_count": 69,
     "metadata": {},
     "output_type": "execute_result"
    }
   ],
   "source": [
    "edad = dataset[[\"Género:\",\"Edad:\"]]\n",
    "v = np.array(edad)\n",
    "v"
   ]
  },
  {
   "cell_type": "code",
   "execution_count": null,
   "id": "42ce1fe7",
   "metadata": {},
   "outputs": [],
   "source": []
  }
 ],
 "metadata": {
  "kernelspec": {
   "display_name": "Python 3 (ipykernel)",
   "language": "python",
   "name": "python3"
  },
  "language_info": {
   "codemirror_mode": {
    "name": "ipython",
    "version": 3
   },
   "file_extension": ".py",
   "mimetype": "text/x-python",
   "name": "python",
   "nbconvert_exporter": "python",
   "pygments_lexer": "ipython3",
   "version": "3.9.7"
  }
 },
 "nbformat": 4,
 "nbformat_minor": 5
}

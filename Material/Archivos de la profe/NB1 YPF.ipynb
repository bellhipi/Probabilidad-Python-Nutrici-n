{
 "cells": [
  {
   "cell_type": "markdown",
   "metadata": {
    "slideshow": {
     "slide_type": "-"
    }
   },
   "source": [
    "# Introducción al Lenguaje Python- Universidad Austral-YPF\n",
    "\n",
    "### noviembre 2021\n",
    "\n",
    "* Docente: PhD. Débora Chan \n",
    "\n",
    "### Algunas recomendaciones:\n",
    "+ Este archivo y todos los de extensión .ipynb se abren con jupyter o Google Collaboratory y se dividen en bloques.\n",
    "+ Básicamente: bloques de texto (Markdown) y otros de código (Code, en Python). \n",
    "+ Cualquier bloque se ejecuta con shift+enter o utilizando el botón Run.\n",
    "\n",
    "\n",
    "### Uso Básico de Python para análisis de datos(con Jupyter Notebook):\n",
    "\n",
    "+ Se producen archivos *.ipynb (o también puede ser archivos Python del tipo *.py):\n",
    "\n",
    "**TIPS:**\n",
    "* Los bloques se pueden eliminar con el menú Edit. O con los botones correspondientes (cortar, copiar, pegar, desplazar).\n",
    "\n",
    "* El archivo se puede ejecutar en el entorno de Windows en la carpeta correspondiente (o desde cualquiera si se ha configurado el path) mediante el comando python en línea de comandos\n",
    "\n",
    "**En los bloques de texto** :\n",
    "\n",
    "* Mediante un doble clic en el bloque, posibilito la modificación del mismo.\n",
    "* Después del símbolo # se debe dejar un espacio.\n",
    "* Con uno, dos o tres numerales se maneja el tamaño de la letra.\n",
    "* Encerrando un texto entre uno o dos asteriscos se consigue texto en cursiva o negrita.\n",
    "\n",
    "**En los bloques de código** :\n",
    "* Si el renglón  empieza con # es comentario, si no, es instrucción.\n",
    "* En una línea de instrucción, se pueda agregar al final un comentario luego de #.\n",
    "\n",
    "\n",
    "### shift+enter para ejecutar (o botón Run), tanto en bloque de textos como de códigos\n",
    "\n",
    "### Si advierte que el programa no se está ejecutando use la opción Kernel-Restart and Clear Output\n",
    "\n"
   ]
  },
  {
   "cell_type": "markdown",
   "metadata": {
    "slideshow": {
     "slide_type": "skip"
    }
   },
   "source": [
    "## Instrucciones Básicas\n",
    "\n",
    "### Captura de Datos: input   \n",
    "### Muestra de Datos: print"
   ]
  },
  {
   "cell_type": "code",
   "execution_count": 1,
   "metadata": {},
   "outputs": [
    {
     "name": "stdout",
     "output_type": "stream",
     "text": [
      "La cadena que ingresó es:  \n",
      "El tipo del dato ingresado es  <class 'str'>\n",
      "La cadena que ingresó es: \"  \"\n"
     ]
    }
   ],
   "source": [
    "cadena = input(\"Introduce una cadena de texto:\")\n",
    "# Recibe el texto ingresado y lo almacena en la variable cadena que es string\n",
    "print (\"La cadena que ingresó es: \",cadena)\n",
    "print(\"El tipo del dato ingresado es \",type(cadena))\n",
    "print('La cadena que ingresó es: \"',cadena,'\"')\n",
    "\n",
    "# Para mostrar comillas dobles, debo usar comillas simples que la contengan."
   ]
  },
  {
   "cell_type": "code",
   "execution_count": 2,
   "metadata": {},
   "outputs": [
    {
     "name": "stdout",
     "output_type": "stream",
     "text": [
      "El nro ingresado es:  \n",
      "El tipo del dato ingresado es  <class 'str'>\n"
     ]
    }
   ],
   "source": [
    "# Se pide el ingreso de un número por teclado y se muestra el número y el tipo de dato.\n",
    "# Si no forzamos el tipo de dato en el ingreso, lo toma como string (cadena de caracteres)\n",
    "\n",
    "numero = input(\"Dígame un número: \")\n",
    "print(\"El nro ingresado es: \",numero)\n",
    "print(\"El tipo del dato ingresado es \",type(numero))"
   ]
  },
  {
   "cell_type": "code",
   "execution_count": 3,
   "metadata": {
    "scrolled": true
   },
   "outputs": [],
   "source": [
    "#Para que lo tome como número hay que forzarlo con la función int o float\n",
    "numero = int(input(\"Dígame un número: \"))\n",
    "print(\"El nro ingresado es: \",numero)\n",
    "print(\"El tipo del dato ingresado es \",type(numero), \"porque se lo forzó\")\n",
    "\n",
    "numero = float(input(\"Dígame un número: \"))\n",
    "print(\"El nro ingresado es: \",numero)\n",
    "print(\"El tipo del dato ingresado es \",type(numero), \"porque se lo forzó\")"
   ]
  },
  {
   "cell_type": "markdown",
   "metadata": {},
   "source": [
    "**Tipos de datos básicos en Python**\n",
    "\n",
    "int # datos enteros\n",
    "\n",
    "float # números decimales\n",
    "\n",
    "bool # valores lógicos\n",
    "\n",
    "str # cadena de caracteres\n",
    "\n",
    "**Cuando ingresa un número, decide cómo almacenarlo (si es entero: de 8 bits, de 16 bits, si es float de 32 bits, etc.**"
   ]
  },
  {
   "cell_type": "markdown",
   "metadata": {},
   "source": [
    "Si asignamos un valor numérico a una variable, esta define automáticamente el tipo.\n",
    "\n",
    "Los números reales se almacenan en variables tipo \"float\".\n",
    "\n",
    "Los valores que puede representar van desde ±2,2250738585072020 x 10-308 hasta ±1,7976931348623157×10308, ya que utilizan 64 bits.\n"
   ]
  },
  {
   "cell_type": "code",
   "execution_count": null,
   "metadata": {},
   "outputs": [],
   "source": [
    "#Asignación de valores\n",
    "nroi=12\n",
    "print(\"Asignacion de un número entero a una variable. El dato asignado es \",nroi,\" y su tipo es \",type(nroi))\n",
    "nrof=12.0\n",
    "print(\"Asignacion de un número real a una variable. El dato asignado es \",nrof,\" y su tipo es \",type(nrof))\n",
    "\n",
    "#Asignamos un entero largo\n",
    "nroL=456966786151987643\n",
    "print(\"El dato asignado a la variable es \", nroL, \"y su tipo es \",type(nroL))\n"
   ]
  },
  {
   "cell_type": "code",
   "execution_count": null,
   "metadata": {},
   "outputs": [],
   "source": [
    "#Se pueden hacer asignaciones simultáneas así como se concatena la muestra en pantalla\n",
    "float_1, float_2, float_3 = 0.358, 10.5, 1.5e2\n",
    "print (float_1, type(float_1))\n",
    "print (float_2, type(float_2))\n",
    "print (float_3, type(float_3))\n",
    "print(float_1,float_2,float_3)"
   ]
  },
  {
   "cell_type": "markdown",
   "metadata": {},
   "source": [
    "**Puede convertir tipos de datos numéricos con las funciones\n",
    "int(), float()**\n"
   ]
  },
  {
   "cell_type": "markdown",
   "metadata": {},
   "source": [
    "### Operaciones Aritméticas Elementales- Ejemplos"
   ]
  },
  {
   "cell_type": "markdown",
   "metadata": {},
   "source": [
    "### Operaciones aritméticas +, -, *, /, **"
   ]
  },
  {
   "cell_type": "code",
   "execution_count": null,
   "metadata": {},
   "outputs": [],
   "source": [
    "#Ingresando un número por teclado\n",
    "x = float(input(\"Dígame un número que llameremos x: \"))\n",
    "print(\"El nro ingresado es: \",x)\n",
    "\n",
    "print(\"Tipo de x:\")\n",
    "print(type(x))  # Imprime el tipo (o `clase`) de x\n",
    "print(\"Valor de x=\",x)\n",
    "print(\"x+1=\",x+1)\n",
    "print(\"x-1=\",x-1)\n",
    "print(\"x*2=\",x*2)\n",
    "print(\"x/2=\",x/2)\n",
    "print(\"x^2=\",x**2) \n",
    "print(\"Para imprimir varios valores en una línea:\")\n",
    "print(x,x*2,x/2) # imprime varios valores a la vez en la misma línea"
   ]
  },
  {
   "cell_type": "markdown",
   "metadata": {},
   "source": [
    "# **Ejercicio 1:**"
   ]
  },
  {
   "cell_type": "code",
   "execution_count": null,
   "metadata": {},
   "outputs": [],
   "source": [
    "#este bloque de código es para ejercitar:\n",
    "#a) Ingrese un número entero impar\n",
    "#b) Halle el cuadrado del mismo\n",
    "#c) Halle el cociente de dividirlo por 3\n",
    "#d) Muestre todos los resultados\n",
    "\n",
    "\n"
   ]
  },
  {
   "cell_type": "markdown",
   "metadata": {},
   "source": [
    "# **Ejercicio 2:**\n",
    "**En el siguiente bloque o en un nuevo cuaderno (notebook) definir** \n",
    "* (a) la variable **var1** que contenga al número 10. Luego a \n",
    "* (b) **var2** como el doble de var1\n",
    "* (c) **var3** como el resultado de una cuenta combinada a su gusto.\n",
    "* (d) Imprima los resultados"
   ]
  },
  {
   "cell_type": "code",
   "execution_count": null,
   "metadata": {},
   "outputs": [],
   "source": []
  },
  {
   "cell_type": "markdown",
   "metadata": {},
   "source": [
    "### Datos booleanos (True y False)\n",
    "### Operaciones Lógicas AND, OR y NOT"
   ]
  },
  {
   "attachments": {
    "image.png": {
     "image/png": "[encoded data removed]"
    }
   },
   "cell_type": "markdown",
   "metadata": {},
   "source": [
    "![image.png](attachment:image.png)"
   ]
  },
  {
   "cell_type": "code",
   "execution_count": null,
   "metadata": {},
   "outputs": [],
   "source": [
    "#Tipo de dato booleano: 'bool'\n",
    "v1 = True #el valor verdadero: True \n",
    "v2 = False #el valor falso: False\n",
    "\n",
    "print(\"Valor de v1: \",v1, \"Su tipo es: \", type(v1))\n",
    "print(\"Valor de v2: \",v2, \"Su tipo es: \", type(v2))\n",
    "print()\n",
    "\n",
    "#Operaciones Lógicas y, o y negación\n",
    "print(\"v1 and v2= \", v1 and v2) # y lógico; imprime False\n",
    "print(\"v1 or v2= \",v1 or v2)  # o lógico; imprime True\n",
    "print(\"v1 negado= \",not v1)   # negación lógica, imprime False\n"
   ]
  },
  {
   "cell_type": "markdown",
   "metadata": {},
   "source": [
    "### Operadores para comparar:\n",
    "\n",
    "#### == ;    !=  ;   <   ;    >  ;     <=   ;     >="
   ]
  },
  {
   "cell_type": "code",
   "execution_count": null,
   "metadata": {},
   "outputs": [],
   "source": [
    "#Comparaciones \n",
    "print (\"3==5\",3 == 5)  # Imprime False ya que son distintos\n",
    "print(\"3 !=6\",3 != 6)  # Imprime True ya que son distintos\n",
    "print(\"3<5\",3 < 5)  # Imprime True ya que 3 es menor que 5\n"
   ]
  },
  {
   "cell_type": "markdown",
   "metadata": {},
   "source": [
    "\n",
    "### Estructura de Decisión: if"
   ]
  },
  {
   "cell_type": "markdown",
   "metadata": {},
   "source": [
    "Su sintaxis es\n",
    "\n",
    "if condición : \n",
    "\n",
    "    cuerpo del if #indentado con 4 espacios\n",
    "    \n",
    "else:\n",
    "    \n",
    "    cuerpo del else #indentado con 4 espacios\n"
   ]
  },
  {
   "cell_type": "code",
   "execution_count": null,
   "metadata": {},
   "outputs": [],
   "source": [
    "#Ejemplo\n",
    "edad = 17\n",
    "\n",
    "print(\"La persona es\")\n",
    "if (edad < 18):\n",
    "    print(\"Menor\") \n",
    "else:\n",
    "    print(\"Mayor\")\n"
   ]
  },
  {
   "cell_type": "markdown",
   "metadata": {},
   "source": [
    "**Los ifs se pueden anidar**\n",
    "\n",
    "**Los ifs pueden servir a distintas alternativas **\n",
    "**Ejemplo de pseudocódigo con 4 alternativas**\n",
    "\n",
    "if condición_1:\n",
    "\n",
    "    bloque 1\n",
    "\n",
    "elif condición_2:\n",
    "    \n",
    "    bloque 2\n",
    "\n",
    "elif condición_3\n",
    "\n",
    "    bloque 3\n",
    "\n",
    "else:\n",
    "    \n",
    "    bloque 4"
   ]
  },
  {
   "cell_type": "markdown",
   "metadata": {},
   "source": [
    "##### Ejemplo opciones múltiples\n",
    "\n",
    "edad=int(input(\"Ingrese edad: \"))\n",
    "if edad<0:\n",
    "    print(\"Error\")\n",
    "elif edad<18:\n",
    "    print(\"Menor de edad\")\n",
    "else:\n",
    "    print(\"Mayor de edad\")"
   ]
  },
  {
   "cell_type": "code",
   "execution_count": null,
   "metadata": {},
   "outputs": [],
   "source": [
    "#el mismo ejemplo pero usando operadores lógicos\n",
    "edad=int(input(\"Ingrese edad: \"))\n",
    "if edad>=18:\n",
    "    print(\"Mayor de edad\")\n",
    "else:\n",
    "    if (edad>=0 and edad<18):\n",
    "        print(\"Menor de edad\")\n",
    "    else: \n",
    "        print(\"Error\")"
   ]
  },
  {
   "cell_type": "code",
   "execution_count": null,
   "metadata": {},
   "outputs": [],
   "source": [
    "#Comparaciones\n",
    "nro1=int(input('Ingrese nro: '))\n",
    "nro2=int(input('Ingrese nro: '))\n",
    "if nro1==nro2:\n",
    "    print('\\nLos números ingresados son iguales')\n",
    "else:\n",
    "    print('\\nLos números  ingresados son diferentes')"
   ]
  },
  {
   "cell_type": "code",
   "execution_count": null,
   "metadata": {},
   "outputs": [],
   "source": [
    "#Comparaciones\n",
    "nro1=int(input('Ingrese nro: '))\n",
    "nro2=int(input('Ingrese nro: '))\n",
    "if nro1!=nro2:\n",
    "    print('\\nLos números ingresados son distintos')\n",
    "else:\n",
    "    print('\\nLos números ingresados son iguales')"
   ]
  },
  {
   "cell_type": "code",
   "execution_count": null,
   "metadata": {},
   "outputs": [],
   "source": [
    "#Comparaciones\n",
    "nro1=int(input('Ingrese nro: '))\n",
    "nro2=int(input('Ingrese nro: '))\n",
    "if nro1>=nro2:\n",
    "    print('\\nEl primer número es mayor o igual que el segundo')\n",
    "else:\n",
    "    print('\\nEl primer número es menor que el segundo')"
   ]
  },
  {
   "cell_type": "markdown",
   "metadata": {},
   "source": [
    "# **Ejercicio 3:**\n",
    "\n",
    "#a)Ingrese dos números  a y b enteros.\n",
    "\n",
    "#b) Si la suma de los mayor a 10, calcule el primero elevado al segundo\n",
    "\n",
    "#c) Si por el contrario la suma es menor o igual a 10, calcule el segundo elevado al primero"
   ]
  },
  {
   "cell_type": "code",
   "execution_count": null,
   "metadata": {},
   "outputs": [],
   "source": []
  },
  {
   "cell_type": "markdown",
   "metadata": {},
   "source": [
    "# Listas"
   ]
  },
  {
   "cell_type": "code",
   "execution_count": null,
   "metadata": {},
   "outputs": [],
   "source": [
    "lista=['gato', 1, 2,3] # una lista puede contener objetos de distinto tipo\n",
    "print('lista vieja ',lista)\n",
    "lista[0]=5\n",
    "print('lista nueva:', lista)\n"
   ]
  },
  {
   "cell_type": "code",
   "execution_count": null,
   "metadata": {},
   "outputs": [],
   "source": [
    "lista_nueva = list.copy(lista)\n",
    "#agrego elemento\n",
    "lista_nueva.append('perro')\n",
    "print(\"Lista vieja\",lista)\n",
    "print('Nueva lista: ', lista_nueva)\n"
   ]
  },
  {
   "cell_type": "markdown",
   "metadata": {},
   "source": [
    "### Operadores in y not in"
   ]
  },
  {
   "cell_type": "code",
   "execution_count": null,
   "metadata": {},
   "outputs": [],
   "source": [
    "#Definamos una Lista\n",
    "#Para hacerlo se usan corchetes y se separan los elementos mediante coma\n",
    "lista=[1,3,5]\n",
    "\n",
    "print(2 in lista)\n",
    "print(6 not in lista)"
   ]
  },
  {
   "cell_type": "markdown",
   "metadata": {},
   "source": [
    "### Estructuras de Repetición : for"
   ]
  },
  {
   "cell_type": "code",
   "execution_count": null,
   "metadata": {},
   "outputs": [],
   "source": [
    "# Ejemplo for en lista\n",
    "# Permite recorrer todos los elementos de una lista\n",
    "# En el mismo for se le pone nombre a la variable que almacena cada elemento\n",
    "# En este caso la lista se llama mis_numeros y cada elemento es un numero\n",
    "\n",
    "# El objetivo del código es sumar todos los elementos de la lista\n",
    "# El acumulador debe inicializarse en 0\n",
    "# De lo contrario guardará el valor en caso de hacerse otras corridas\n",
    "\n",
    "suma=0\n",
    "mis_numeros=[4,8,12,-18] \n",
    "#la variable numero designará a los elementos de la lista\n",
    "for numero in mis_numeros:\n",
    "    suma=suma+numero\n",
    "    print(\"va por el \",numero)\n",
    "\n",
    "print()\n",
    "print(\"esto se imprime fuera del ciclo\")\n",
    "print('La lista es',mis_numeros)\n",
    "print(\"La suma de los números de la lista es:\")\n",
    "print(suma)\n"
   ]
  },
  {
   "cell_type": "markdown",
   "metadata": {},
   "source": [
    "**Función range:**\n",
    "    #con un parámetro, este indica la cantidad de elementos. Empieza en 0, salto implícito 1.\n",
    "    #con dos parámetros, el primero indica el principio, el otro el final que es abierto (no lo incluye).\n",
    "    #con tres parámetros, indican principio, el final abierto, el paso o salto.\n",
    "\n",
    "**El intervalo es abierto a derecha**\n",
    "\n",
    "Ejemplos:\n",
    "\n",
    "range(3): 0 1 2\n",
    "\n",
    "range(2,6): 2, 3, 4, 5\n",
    "\n",
    "range(1,7,2): 1,3,5  \n"
   ]
  },
  {
   "cell_type": "code",
   "execution_count": null,
   "metadata": {},
   "outputs": [],
   "source": [
    "print(\"Un for para range de 0 a 3\")\n",
    "for i in range(4):\n",
    "    print(i)\n",
    "print()    \n",
    "\n",
    "print(\"Un for para range de 2 a 5:\")\n",
    "for j in range(2,6):\n",
    "    print(j)\n",
    "print()\n",
    "\n",
    "print(\"Un for para range de 2 a 11, salto 3\")# Observar que no incluirá el 11\n",
    "for z in range(2,12,3):\n",
    "    print(z)\n",
    "print()"
   ]
  },
  {
   "cell_type": "code",
   "execution_count": null,
   "metadata": {},
   "outputs": [],
   "source": [
    "#Ingreso números (variable que llamo dato)\n",
    "#range(n) me indica que ingresaré n números\n",
    "#los acumulo en una variable, en este caso llamada suma\n",
    "#Muestro la suma\n",
    "\n",
    "suma=0\n",
    "for z in range(4):\n",
    "    dato=int(input(\"ingrese número:\"))\n",
    "    suma+=dato\n",
    "print(\"suma= \", suma)\n",
    "print(\"Promedio\",suma/(z+1))\n",
    "\n",
    "\n"
   ]
  },
  {
   "cell_type": "markdown",
   "metadata": {},
   "source": [
    "# **Ejercicio 4:**\n",
    "\n",
    "#a) Ingrese cinco números\n",
    "\n",
    "#b) Calcule el producto de todos ellos\n",
    "\n",
    "#c) Calcule la raiz quinta de este producto (estamos hallando la media geométrica)\n",
    "\n",
    "#d) Calcule el promedio y compare."
   ]
  },
  {
   "cell_type": "code",
   "execution_count": null,
   "metadata": {},
   "outputs": [],
   "source": []
  },
  {
   "cell_type": "markdown",
   "metadata": {},
   "source": [
    "### Funciones Definidas por el Usuario"
   ]
  },
  {
   "cell_type": "markdown",
   "metadata": {},
   "source": [
    "*Las funciones se definen con la palabra clave def*\n",
    "\n",
    "**Sintaxis**\n",
    "\n",
    "def nombre_funcion(parametros):\n",
    "    \n",
    "    Cuerpo de la función\n",
    "    \n",
    "    return\n"
   ]
  },
  {
   "cell_type": "code",
   "execution_count": null,
   "metadata": {},
   "outputs": [],
   "source": [
    "def sumar(a,b):\n",
    "    return a+b\n",
    "def restar(a,b):\n",
    "    return a-b"
   ]
  },
  {
   "cell_type": "markdown",
   "metadata": {},
   "source": [
    "**Llamada a la función**"
   ]
  },
  {
   "cell_type": "code",
   "execution_count": null,
   "metadata": {},
   "outputs": [],
   "source": [
    "c=sumar(2,5)\n",
    "print(\"La suma es\")\n",
    "print(c)\n",
    "d=restar(2,5)\n",
    "print(\"La diferencia es:\")\n",
    "print(d)"
   ]
  },
  {
   "cell_type": "code",
   "execution_count": null,
   "metadata": {},
   "outputs": [],
   "source": [
    "#Definir y usar una función que dé el signo de un número\n",
    "def signo(x):\n",
    "    if x > 0:\n",
    "        return 'positivo'\n",
    "    elif x < 0:\n",
    "        return 'negativo'\n",
    "    else:\n",
    "        return 'cero'"
   ]
  },
  {
   "cell_type": "markdown",
   "metadata": {},
   "source": [
    "**Llamada a la función**"
   ]
  },
  {
   "cell_type": "code",
   "execution_count": null,
   "metadata": {},
   "outputs": [],
   "source": [
    "for x in [-10, 0, 15]:\n",
    "    print(x,signo(x))\n",
    "# Imprime en pantalla \"negativo\", \"cero\", \"positivo\""
   ]
  },
  {
   "cell_type": "markdown",
   "metadata": {},
   "source": [
    "# **Ejercicio 5:**\n",
    "* defina una función sencilla con dos parámetros como la del ejemplo\n",
    "* impleméntela en dos valores concretos"
   ]
  },
  {
   "cell_type": "code",
   "execution_count": null,
   "metadata": {},
   "outputs": [],
   "source": [
    "\n",
    "   "
   ]
  },
  {
   "cell_type": "markdown",
   "metadata": {},
   "source": [
    "**Importar librerias**\n",
    "** Python posee ya muchas librerías con funciones específicas según la tarea que querramos realizar. Existen librerías de cálculo, de visulización, de estadística, procesamiento de señales, de algebra lineal y de redes neuronales artificiales (entre muchas mas). Nuestro primer paso será importar Numpy, una importante librería que nos permitirá realizar operaciones numéricas con matrices, vectores y escalares**"
   ]
  },
  {
   "cell_type": "markdown",
   "metadata": {},
   "source": [
    "\n",
    "### Qué es una librería?\n",
    "** Librerías\n",
    "** En informática, una biblioteca o, llamada por vicio del lenguaje librería (del inglés library) es un conjunto de implementaciones funciones, codificadas en un lenguaje de programación, que realizan una serie de tareas específicas y se incluyen o importan en el programa evitando tener que reescribir esos códigos."
   ]
  },
  {
   "cell_type": "markdown",
   "metadata": {},
   "source": [
    "## Librería numpy"
   ]
  },
  {
   "cell_type": "markdown",
   "metadata": {},
   "source": [
    "### Observaciones:\n",
    "Los tipos de datos predefinidos en Python no precisan el agregado de librerías\n",
    "Otros tipos de datos precisan la importación de librerías específicas. \n",
    "Una de las librerías más importantes para nosotros es numpy.\n",
    "\n",
    "* Librería **numpy**: sirve para realizar operaciones matriciales en Python. \n",
    "* La forma de \"llamar\", \"cargar\" o importar una libreria xxxxxx es la siguiente: \n",
    "* import xxxxxx as xx \n",
    "* donde xx es el nombre corto que le asignamos para poder llamar sus funciones, por ejemplo:\n"
   ]
  },
  {
   "cell_type": "code",
   "execution_count": null,
   "metadata": {},
   "outputs": [],
   "source": [
    "import numpy as np #shift+entr para ejecutar (o botón Run)\n",
    "#No es necesario asignarle un nombre corto, pero es útil"
   ]
  },
  {
   "cell_type": "markdown",
   "metadata": {},
   "source": [
    "\n",
    "### Algunas funciones numpy para arreglos - Alias np\n",
    "Primeras operaciones con Numpy: Con \"np. + comando\" de numpy podremos realizar muchas operaciones.\n",
    "Como por ejemplo crear una matriz de 2x2 de ceros."
   ]
  },
  {
   "cell_type": "code",
   "execution_count": null,
   "metadata": {},
   "outputs": [],
   "source": [
    "# Importamos todo lo que vamos a usar, nada nuevo por ahora\n",
    "import sympy as sym\n",
    "import numpy as np\n",
    "from IPython.display import display, Math\n",
    "A = np.array( [ [1,2],[3,4] ] ) # Las matrices son un array para Python\n",
    "# Entre corchetes y separados por coma, puedo colocar las fila \n",
    "print(A)\n",
    "\n",
    "# Lucen feas pero las podemos embellecer aunque es medio pesado...\n",
    "display(Math(sym.latex(sym.sympify(A))))"
   ]
  },
  {
   "cell_type": "code",
   "execution_count": null,
   "metadata": {},
   "outputs": [],
   "source": [
    "import sympy as sym\n",
    "import numpy as np\n",
    "from IPython.display import display, Math\n",
    "# creamos la matriz de 2x2 llena de ceros con el comando np.zeros()\n",
    "N = np.zeros((2,2))\n",
    "# creamos un vector de longitud 2 lleno de ceros\n",
    "N2=np.zeros(2)\n",
    "# La visualizamos en pantalla\n",
    "print('nula')\n",
    "display(Math(sym.latex(sym.sympify(N))))\n",
    "print('nula2')\n",
    "display(Math(sym.latex(sym.sympify(N2))))"
   ]
  },
  {
   "cell_type": "code",
   "execution_count": null,
   "metadata": {},
   "outputs": [],
   "source": [
    "# con type nos fijamos que tipo de variable es \"nula\"\n",
    "# python permite muchos tipos de variables, en este caso es un numpy array\n",
    "print('tipo de nula',type(N))\n",
    "# con np.shape() podremos saber las dimensiones de la variable en cuestion\n",
    "print('dimensiones de nula',np.shape(N))\n",
    "print('tipo de nula2',type(N2))\n",
    "print('dimensiones de nula2',np.shape(N2))"
   ]
  },
  {
   "cell_type": "markdown",
   "metadata": {},
   "source": [
    "**Las posiciones en python comienzan en 0. Entonces si tenemos un elemento de 4 posiciones, la primera sera la posicion 0 y\n",
    "la ultima posicion sera la 3. Cuando tenemos matrices (arrays)**"
   ]
  },
  {
   "cell_type": "code",
   "execution_count": null,
   "metadata": {},
   "outputs": [],
   "source": [
    "# Una vez declarada en python, podemos modificar alguno de los elementos de la matriz (numpy array) nula.\n",
    "N[0,0]=3\n",
    "N[0,1]=-1\n",
    "display(Math(sym.latex(sym.sympify(N))))\n",
    "# si quisieramos acceder al elemento 1,0 de nula \n",
    "print('posicion 1,0 de nula',N[1,0])\n",
    "\n"
   ]
  },
  {
   "cell_type": "code",
   "execution_count": null,
   "metadata": {},
   "outputs": [],
   "source": [
    "# tambien podriamos crear una nueva matriz con datos ingresados \n",
    "a=np.array([ [1  ,-4],[12 , 3]])\n",
    "display(Math(sym.latex(sym.sympify(a))))"
   ]
  },
  {
   "cell_type": "markdown",
   "metadata": {},
   "source": [
    "**Podriamos realizar operaciones logicas y obtener resultados \"booleanos\" (True or False). \n",
    "Por ejemplo, preguntamos que elementos son mayores a cero.**"
   ]
  },
  {
   "cell_type": "code",
   "execution_count": null,
   "metadata": {},
   "outputs": [],
   "source": [
    "N > 0"
   ]
  },
  {
   "cell_type": "markdown",
   "metadata": {},
   "source": [
    "**Calculamos raiz cuadrada de todos los elementos de la matriz nula con el comando np.sqrt(). \n",
    "SQRT significa square root en ingles.**"
   ]
  },
  {
   "cell_type": "code",
   "execution_count": null,
   "metadata": {},
   "outputs": [],
   "source": [
    "m=(abs(N))\n",
    "q=np.sqrt(m)\n",
    "r=q**2\n",
    "display(Math(sym.latex(sym.sympify(m))))\n",
    "display(Math(sym.latex(sym.sympify(q))))\n",
    "display(Math(sym.latex(sym.sympify(r))))"
   ]
  },
  {
   "cell_type": "markdown",
   "metadata": {},
   "source": [
    "**Numpy tambien nos permite crear matrices de la dimension que querramos con numeros aleatorios\n",
    "mediante el comando \"np.random.rand()\"**"
   ]
  },
  {
   "cell_type": "code",
   "execution_count": null,
   "metadata": {},
   "outputs": [],
   "source": [
    "# creamos un array de 3x3 con todos sus elementos completados nros aleatorios de una distribución uniforme \n",
    "# np.random.seed (123)\n",
    "array_uniform = np.random.rand(3,3)\n",
    "array_uniform\n",
    "np.round(array_uniform,3) # redondeamos a tres cifras para que sea visualmente más agradable"
   ]
  },
  {
   "cell_type": "markdown",
   "metadata": {},
   "source": [
    "# **Ejercicio 6: (resuelto)**\n",
    "\n",
    "Defina una matriz de unos de dimensión 3x2.\n",
    "\n",
    "Multiplique la primera fila por 3.\n",
    "\n",
    "Multiplique la última fila por 2.\n",
    "\n",
    "Muestre la matriz obtenida y su traspuesta.\n",
    "\n"
   ]
  },
  {
   "cell_type": "code",
   "execution_count": null,
   "metadata": {},
   "outputs": [],
   "source": [
    "#Resolución\n",
    "A=np.ones((3,2))\n",
    "print(\"A=\")\n",
    "display(Math(sym.latex(sym.sympify(A))))\n",
    "print()\n",
    "A.T[1:]=3*A.T[1:]#para multiplicar la columna usamos la fila de la traspuesta\n",
    "print(\"A=\")\n",
    "display(Math(sym.latex(sym.sympify(A))))\n",
    "A[2:]=2*A[2:]\n",
    "print(\"A=\")\n",
    "display(Math(sym.latex(sym.sympify(A))))\n",
    "# Trasponer un numpy array con \".T\" al final\n",
    "# vamos a transponer la matriz A\n",
    "A_t = A.T\n",
    "print(\"A_T=\")\n",
    "display(Math(sym.latex(sym.sympify(A_t))))"
   ]
  },
  {
   "cell_type": "markdown",
   "metadata": {},
   "source": [
    "# *Ejercicio 7:*\n",
    "\n",
    "Defina una matriz de unos de dimensión 2x3.\n",
    "\n",
    "Multiplique la primera fila por 2.\n",
    "\n",
    "Multiplique la segunda fila por -3.\n",
    "\n",
    "Muestre la matriz obtenida y su traspuesta.\n",
    "\n",
    "Repita el trabajo con una matriz de 2x2 de números aleatorios"
   ]
  },
  {
   "cell_type": "code",
   "execution_count": null,
   "metadata": {},
   "outputs": [],
   "source": []
  },
  {
   "cell_type": "markdown",
   "metadata": {},
   "source": [
    "Podemos tambien crear vectores, solamente especificando una sola dimension."
   ]
  },
  {
   "cell_type": "code",
   "execution_count": null,
   "metadata": {},
   "outputs": [],
   "source": [
    "# generamos un vector de 10 posiciones completados desde nros. aleatorios entre 0 y 1\n",
    "vector_uniform = np.random.rand(10)\n",
    "np.round(vector_uniform,3) # nos quedamos con tres cifras decimales"
   ]
  },
  {
   "cell_type": "markdown",
   "metadata": {},
   "source": [
    "# **Ejercicio 8:**\n",
    "Crear una matriz  de 2x3 con valores determinados por el usuario\n",
    "Crear otra matriz 3x2 con datos aleatorios"
   ]
  },
  {
   "cell_type": "code",
   "execution_count": null,
   "metadata": {},
   "outputs": [],
   "source": [
    "\n"
   ]
  },
  {
   "cell_type": "markdown",
   "metadata": {},
   "source": [
    "**Distribuciones de probabilidad con numpy\n",
    "Generamos un vector cuyas posiciones sean numeros aleatorios provenientes de una distribucion normal con media y desvio standard determinado.**"
   ]
  },
  {
   "cell_type": "code",
   "execution_count": null,
   "metadata": {},
   "outputs": [],
   "source": [
    "import numpy as np\n",
    "import random\n",
    "# declaramos las variables numericas \"mu\" y \"sigma\"\n",
    "mu = 100 # valor medio elegido\n",
    "sigma = 60 # valor del desvio standard elegido\n",
    "# con las variables declaradas generamos un vector de 100 posiciones\n",
    "# cada posicion es un numero aleatorio extraido de una distribucion normal\n",
    "#random.seed (123) #para fijar una semilla y reproducir siempre la misma muestra\n",
    "muestra_normal = np.random.normal(mu, sigma, 100)\n",
    "# si quisieramos saber que tipo de variable es \"normal_sample\" usamos el comando type\n",
    "type(muestra_normal)"
   ]
  },
  {
   "cell_type": "code",
   "execution_count": null,
   "metadata": {},
   "outputs": [],
   "source": [
    "# imprimimos en pantalla el vector correspondiente con tres cifras decimales\n",
    "np.round(muestra_normal,3)"
   ]
  },
  {
   "cell_type": "markdown",
   "metadata": {},
   "source": [
    "# **Visualizaciones con librerías Matplotlib y Seaborn**\n",
    "Ambas librerías proveen herramientas para realizar visualizaciones. \n",
    "\n",
    "Existen muchas formas de visualizar datos estructurados\n",
    "en un vector o matriz. \n",
    "\n",
    "\n",
    "En esta primer clase vamos a ver algunos como: los histogramas, los boxplots, los gráficos de densidad, los diagramas de dispersión entre otros.**"
   ]
  },
  {
   "cell_type": "code",
   "execution_count": null,
   "metadata": {},
   "outputs": [],
   "source": [
    "# importamos las librerias que nos serviran para visualizar\n",
    "import matplotlib.pyplot as plt"
   ]
  },
  {
   "cell_type": "code",
   "execution_count": null,
   "metadata": {},
   "outputs": [],
   "source": [
    "#!pip install seaborn \n",
    "import seaborn as sns"
   ]
  },
  {
   "cell_type": "markdown",
   "metadata": {},
   "source": [
    "**Con \"sns.distplot()\" seaborn nos permite poder realizar un histograma y una aproximacion a la distribución de los datos en cuestion. En este caso realizaremos el distplot con el vector \"normal_sample\".**"
   ]
  },
  {
   "cell_type": "code",
   "execution_count": null,
   "metadata": {},
   "outputs": [],
   "source": [
    "# generamos el distplot\n",
    "sns.distplot(muestra_normal) # grafica el histograma y le superpone la curva de densidad estimada \n",
    "plt.title(\"histograma del vector 'muestra_normal' \") # agrega el título\n",
    "plt.xlabel(\"valores muestreados\") # agrega una etiqueta el eje de abscisas\n",
    "plt.text(-58, .006, r'$\\mu=100,\\ \\sigma=60$') # definimos una posición para agregar el cartel\n",
    "plt.ylabel(\"densidad empírica\")# agrega una etiqueta el eje de ordenadas\n",
    "plt.show()"
   ]
  },
  {
   "cell_type": "markdown",
   "metadata": {},
   "source": [
    "# **Ejercicio 9:**\n",
    "* Generar un vector aleatorio con distribución normal de 200 datos con media $\\mu=10$ y desvío $\\sigma=3$\n",
    "* Mostrar los valores\n",
    "* Graficar un histograma y superponerle una curva de densidad\n",
    "* Incluir un cartel para el eje x que diga ´datos muestreados´\n",
    "* Incluir un cartel para el eje y que diga ´frecuencias´\n",
    "* Incluir una leyenda con los valores de media y desvío de la muestra\n",
    "* Póngale un título a su gusto al gráfico\n",
    "\n"
   ]
  },
  {
   "cell_type": "code",
   "execution_count": null,
   "metadata": {},
   "outputs": [],
   "source": []
  },
  {
   "cell_type": "markdown",
   "metadata": {},
   "source": [
    "**Librería Pandas: Gestion de datos estructurados (tablas)\n",
    "Pandas es una importante libreria de python para manipular datos con formato de tablas (.csv, .txt, .xls, xlsx). **\n",
    "\n",
    "**Con Pandas podremos importar datos obtenidos en los formatos mencionados, por ejemplo el portal de datos abiertos de la Ciudad de Buenos Aires.**\n",
    "\n",
    "**Puntualmente trabajaremos con los datos de países por continente disponibles en el link \"https://raw.githubusercontent.com/cs109/2014_data/master/countries.csv\". \n",
    "\n",
    "**Una vez que descargues el dataset  guardalo en alguna carpeta de tu computadora y con click derecho \"propiedades\" fijate cual es la ruta de carpetas donde esta alojado el archivo .csv que descargaste.**"
   ]
  },
  {
   "cell_type": "code",
   "execution_count": null,
   "metadata": {},
   "outputs": [],
   "source": [
    "# importamos la libreria pandas con su nombre abreviado a pd\n",
    "import pandas as pd\n"
   ]
  },
  {
   "cell_type": "markdown",
   "metadata": {},
   "source": [
    "**El comando de pandas \"pd.read_csv\" permite importar archivos .csv alojados en la computadora a Jupyter. \n",
    "El archivo sera importado como una tabla con renglones (rows) y columnas (columns). \n",
    "A las tablas generadas desde Pandas las llamamos \"DataFrame\". \n",
    "Ver que el parametro que solicita el comando \"pd.read_csv()\" es la ruta de la carpeta donde esta alojado el archivo\n",
    "(la ruta incluye el nombre del archivo).\n",
    "Eso quiere decir que una vez que descarguen el archivo, lo guardaran en alguna carpeta que creas conveniente y\n",
    "luego obtendrás la ruta.**\n",
    "\n",
    "**Aclaración usuarios windows: en algunos casos de usuarios con windows, muchas veces se genera un error y es necesario agregar la letra \"r\" antes de la ruta (algo asi como pd.read_csv(r'Ruta donde el CSV esta guardado\\nombre.csv')). Para mas información ver como importar archivos .csv en windows desde este blogpost https://datatofish.com/import-csv-file-python-using-pandas/**"
   ]
  },
  {
   "cell_type": "code",
   "execution_count": null,
   "metadata": {},
   "outputs": [],
   "source": [
    "#  link de los datos\n",
    "csv_from_url = \"https://raw.githubusercontent.com/cs109/2014_data/master/countries.csv\"\n",
    "\n",
    "# importamos los datos de la  url\n",
    "df_import_url = pd.read_csv(csv_from_url)\n",
    "df_import_url.head() #visualizamos las primeras 5 líneas de la base de datos"
   ]
  },
  {
   "cell_type": "code",
   "execution_count": null,
   "metadata": {},
   "outputs": [],
   "source": [
    "# importamos el archivo  y lo guardamos en la variable \"paises\".\n",
    "paises = pd.read_excel('C:/Users/Debora/Dropbox/AustralPosgrado/DataScience/Datos/paises.xlsx', header = 0)\n",
    "#paises = pd.read_excel('C:\\Users\\Debora\\Dropbox\\AustralPosgrado\\DataScience\\Datos\\paises.xlsx')\n",
    "paises\n"
   ]
  },
  {
   "cell_type": "code",
   "execution_count": null,
   "metadata": {},
   "outputs": [],
   "source": [
    "# averiguamos que tipo de objeto es paises: un DataFrame de Pandas.\n",
    "type(paises)"
   ]
  },
  {
   "cell_type": "code",
   "execution_count": null,
   "metadata": {},
   "outputs": [],
   "source": [
    "# Con np.shape() nos fijamos que dimension tiene el archivo (renglones, columnas)\n",
    "np.shape(paises)"
   ]
  },
  {
   "cell_type": "markdown",
   "metadata": {},
   "source": [
    "**Al DataFrame \"paises\" podemos solicitarle información como visualizar los primeros renglones agregando al nombre del dataframe el comando \".head()\". Por default aparecen 5 renglones. Observaremos que además del contenido de cada registro de paises, el dataframe se caracteriza por tener un indice (el nombre de cada renglon)\n",
    "y columnas (cada columna tiene un nombre).**"
   ]
  },
  {
   "cell_type": "code",
   "execution_count": null,
   "metadata": {},
   "outputs": [],
   "source": [
    "# con .head() visualizamos los primeros 5 renglones del dataframe.\n",
    "paises.head()"
   ]
  },
  {
   "cell_type": "code",
   "execution_count": null,
   "metadata": {},
   "outputs": [],
   "source": [
    "# podemos tambien acceder al listado de columnas \n",
    "paises.columns"
   ]
  },
  {
   "cell_type": "code",
   "execution_count": null,
   "metadata": {},
   "outputs": [],
   "source": [
    "# tambien podemos acceder al vector de indices\n",
    "paises.index"
   ]
  },
  {
   "cell_type": "markdown",
   "metadata": {},
   "source": [
    "**El vector de indices es impreso en pantalla como un elemento \"RangeIndex\" con comienzo en 0 y fin en 193, que equivale a la cantidad de renglones. Python en algunos casos en vez de imprimir literalmente un vector que vaya de 0 a 193 con incrementos de +1,\n",
    "utiliza el formato \"range\" indicando el inicio, fin y el \"paso\" entre cada registro.**\n",
    "\n",
    "** Seleccionar columnas especificas del dataframe de Pandas **\n",
    "**Supongamos que tenemos interes en la columna \"Continente\". Nombrando \"paises.Continente\" o \"paises['Continente'] \n",
    "seleccionaremos la columna en cuestion. A esa columna seleccionada podemos guardarla en una variable nueva llamada \"continente\". Luego con la variable \"continente\" realizaremos una visualización."
   ]
  },
  {
   "cell_type": "code",
   "execution_count": null,
   "metadata": {},
   "outputs": [],
   "source": [
    "# Seleccionamos la columna \"Continente\" y la guardamos en la variable \"continente\".\n",
    "continente = paises.Continente\n",
    "continente"
   ]
  },
  {
   "cell_type": "markdown",
   "metadata": {},
   "source": [
    "**Seaborn tambien posee el comando \"countplot\", que cuenta la cantidad de registros con un determinado valor dentro de un dataframe de pandas (también en un numpy array). En este caso con \"countplot\"\n",
    "vamos a contar cuantos paises tiene cada uno de los continentes.**"
   ]
  },
  {
   "cell_type": "code",
   "execution_count": null,
   "metadata": {},
   "outputs": [],
   "source": [
    "# realizamos un gráfico de barras con seaborn con los datos de continente de la base paises\n",
    "sns.countplot(continente,palette=\"Accent\") # Dark2, Set1, Set2, Pastel1, Pastel2, Accent\n",
    "plt.title(\"Cantidad de paises por Continente\")\n",
    "plt.show()"
   ]
  },
  {
   "cell_type": "code",
   "execution_count": null,
   "metadata": {},
   "outputs": [],
   "source": [
    "# Diagrama Circular\n",
    "\n",
    "plot =paises['Continente'].value_counts().plot(kind='pie', autopct='%.2f',\n",
    "                                            colors=['#FF0000', '#0000FF', '#00FF00', '#AA1539', '#754196'], \n",
    "                                            figsize=(6,6),\n",
    "                                            title='Paises por Continente')\n",
    "\n"
   ]
  },
  {
   "cell_type": "code",
   "execution_count": null,
   "metadata": {},
   "outputs": [],
   "source": [
    "#Diaagrama Circular\n",
    "\n",
    "import pandas as pd\n",
    "from matplotlib import pyplot as plt\n",
    "\n",
    "cont_data=paises.groupby('Continente')[['Pais']].count()\n",
    "print(cont_data)\n",
    "color_list=['#DDA0DD','#DA70D6','#BA55D3','#9400D3','#8B008B']\n",
    "explode = (0.1, 0.1, 0.1, 0.1,0.1)\n",
    "fg, ax= plt.subplots()\n",
    "ax.pie(cont_data['Pais'],autopct='%1.1f%%',colors=color_list,explode=explode,shadow=True,frame=True)\n",
    "ax.legend(cont_data.index,loc='upper right',fontsize=8)\n",
    "ax.axis('equal')\n",
    "ax.set_facecolor(\"white\")\n",
    "plt.show()"
   ]
  },
  {
   "cell_type": "markdown",
   "metadata": {},
   "source": [
    "# **Ejercicio 10:**\n",
    "* Importar la base razaperros guardarla en el objeto perros\n",
    "* Estudiar la dimensión de la base y el tipo de objeto que es\n",
    "* Seleccionar la variable funcion y realizar un gráfico de barras\n",
    "* Con la variable inteligencia realizar un diagrama circular\n",
    "* Realizar algún comentario de los gráficos\n"
   ]
  },
  {
   "cell_type": "code",
   "execution_count": null,
   "metadata": {},
   "outputs": [],
   "source": []
  },
  {
   "cell_type": "markdown",
   "metadata": {},
   "source": [
    "**Fusionar, unir y concatenar \n",
    "pandas proporciona varias facilidades para combinar fácilmente Series o DataFrame con varios \n",
    "tipos de lógica de conjunto para los índices y la funcionalidad de álgebra relacional en el caso\n",
    "de operaciones de tipo unión / fusión.**\n",
    "**Concatenar objetos \n",
    "La concat()función (en el espacio de nombres de pandas principal) hace todo el trabajo pesado de realizar operaciones de concatenación a lo largo de un eje mientras realiza la lógica de conjunto opcional (unión o intersección) de los índices (si los hay) en los otros ejes. Tenga en cuenta que digo \"si hay alguno\" porque solo hay un único eje posible de concatenación para Series.\n",
    "Antes de sumergirse en todos los detalles concat y lo que puede hacer, aquí hay un ejemplo simple:**\n",
    "\n"
   ]
  },
  {
   "cell_type": "code",
   "execution_count": null,
   "metadata": {},
   "outputs": [],
   "source": [
    "df1 = pd.DataFrame({'provincia': ['Salta', 'Jujuy', 'Formosa', 'Tucumán'],\n",
    "                        'consumo': [30,25,18,42],\n",
    "                       'demanda': [28,26,21,37],\n",
    "                        'mes': ['E', 'F', 'M', 'Ab'],\n",
    "                   'cuatrimestre': [1,1,1,1]},\n",
    "                       index=[0, 1, 2, 3])\n",
    "   \n",
    "\n",
    "df2 = pd.DataFrame({'provincia': ['Salta', 'Jujuy', 'Formosa', 'Tucumán'],\n",
    "                        'consumo': [33,29,28,45],\n",
    "                       'demanda': [26,22,21,30],\n",
    "                        'mes': ['My', 'Jn', 'Jl', 'Ag'],\n",
    "                   'cuatrimestre': [2,2,2,2]},\n",
    "                       index=[4, 5, 6, 7])\n",
    "   \n",
    "\n",
    "df3 = pd.DataFrame({'provincia': ['Salta', 'Jujuy', 'Formosa', 'Tucumán'],\n",
    "                        'consumo': [40,35,27,22],\n",
    "                       'demanda': [29,28,21,17],\n",
    "                        'mes': ['S', 'O', 'N', 'D'],\n",
    "                   'cuatrimestre': [3,3,3,3]},\n",
    "                       index=[8, 9, 10, 11])\n",
    "    \n",
    "\n",
    "frames = [df1, df2, df3]\n",
    "\n",
    "result = pd.concat(frames)\n",
    "print(result)"
   ]
  },
  {
   "cell_type": "markdown",
   "metadata": {},
   "source": [
    "**Vale la pena comprender la estructura de las fusiones.\n",
    " \n",
    "Aquí hay un ejemplo muy básico con una combinación de teclas única:**"
   ]
  },
  {
   "cell_type": "code",
   "execution_count": null,
   "metadata": {},
   "outputs": [],
   "source": [
    "izquierda= pd.DataFrame({'Loc': ['Lanús', 'Olivos', 'Avellaneda', 'Quilmes'],\n",
    "                         'gasto': [20,30,40,50],\n",
    "                         'ingreso': [140,150,160,123]})\n",
    "    \n",
    "\n",
    "derecha = pd.DataFrame({'Loc': ['Lanús', 'Olivos', 'Avellaneda', 'Quilmes'],\n",
    "                         'deuda_previa': [45,28,69,93],\n",
    "                          'prestamo': [20,25,31,18]})\n",
    "    \n",
    "\n",
    "salida = pd.merge(izquierda, derecha, on='Loc')\n",
    "print(salida)"
   ]
  },
  {
   "cell_type": "markdown",
   "metadata": {},
   "source": [
    "# **Ejercicio 11:**\n",
    "* Armar una base con las notas de cuatro estudiantes del curso de Gestión y Estadística\n",
    "* Armar otra base con las notas de los mismos alumnos en Data Science e Innovación\n",
    "* Combinar ambas bases apoyándose en los nombres de los alumnos\n",
    "* Armar una tercer base con otros cinco estudiantes y sus notas de Gesión y Estadística\n",
    "* Combinar la primera y la tercera base."
   ]
  },
  {
   "cell_type": "code",
   "execution_count": null,
   "metadata": {},
   "outputs": [],
   "source": []
  },
  {
   "cell_type": "code",
   "execution_count": null,
   "metadata": {},
   "outputs": [],
   "source": [
    "import matplotlib.pyplot as plt\n",
    "import numpy as np\n",
    "import seaborn as sns\n",
    "import pandas as pd\n",
    "\n",
    "consumido=pd.DataFrame(result) # armamos un data frame\n",
    "print(consumido) # lo visualizamos\n",
    "boxplot = consumido.boxplot(column=['consumo', 'demanda']) #graficamos el boxplot de las variables consumo  y demanda\n",
    " \n",
    " "
   ]
  },
  {
   "cell_type": "markdown",
   "metadata": {},
   "source": [
    "**Haga un diagrama de caja de las columnas de un DataFrame opcionalmente agrupadas por otras columnas**.\n"
   ]
  },
  {
   "cell_type": "code",
   "execution_count": null,
   "metadata": {},
   "outputs": [],
   "source": [
    "boxplot = consumido.boxplot(column=['consumo', 'demanda'], by='cuatrimestre' , figsize = (6,6),layout=(1, 2))"
   ]
  },
  {
   "cell_type": "markdown",
   "metadata": {},
   "source": [
    "# **Mejoramos la interfaz gráfica del boxplot**"
   ]
  },
  {
   "cell_type": "code",
   "execution_count": null,
   "metadata": {},
   "outputs": [],
   "source": [
    "#!pip install plotly.express\n",
    "import plotly.express as px\n",
    "\n",
    "df = px.data.tips()\n",
    "fig = plt.figure(figsize=(10,6))\n",
    "fig = px.box(consumido, y=\"consumo\")\n",
    "fig.show()\n",
    "\n"
   ]
  },
  {
   "cell_type": "code",
   "execution_count": null,
   "metadata": {},
   "outputs": [],
   "source": [
    "import plotly.express as px\n",
    "df = px.data.tips()\n",
    "fig = px.box(consumido, x=\"cuatrimestre\", y=\"demanda\")\n",
    "fig.show()"
   ]
  },
  {
   "cell_type": "markdown",
   "metadata": {},
   "source": [
    "# *Tipping data*\n",
    "Descripción de la Base (Bryant & Smith 1995).\n",
    "Un camarero registró información sobre cada propina\n",
    "que recibió durante un período de unos pocos meses trabajando en un restaurante.\n",
    "\n",
    "Recogió varias variables:\n",
    "* day: día de la semana\n",
    "* time: hora del día\n",
    "* tips: propinas en dólares\n",
    "* Sex: sexo del cliente\n",
    "* Size: tamaño de la fiesta\n",
    "* Somke: si había fumadores en la fiesta\n",
    "    \n",
    "Un data frame con 244 filas y 7 variables\n",
    "\n",
    "\n",
    "\n",
    "\n"
   ]
  },
  {
   "cell_type": "code",
   "execution_count": null,
   "metadata": {},
   "outputs": [],
   "source": [
    "import plotly.express as px\n",
    "df = px.data.tips()\n",
    "\n",
    "fig = px.box(df, x=\"time\", y=\"total_bill\", color=\"smoker\",\n",
    "             notched=True, # used notched shape\n",
    "             title=\"Box plot of total bill\",\n",
    "             hover_data=[\"day\"] # add day column to hover data\n",
    "            )\n",
    "fig.show()"
   ]
  },
  {
   "cell_type": "markdown",
   "metadata": {},
   "source": [
    "# **Ejercicio 12:**\n",
    "* Importar la base IMCinfantil  guardarla en el objeto imc\n",
    "* Seleccionar la variable talla y realizar un gráfico de caja\n",
    "* Con la variable IMC realizar un gráfico de cajas donde se particione por la variable CatPeso\n",
    "* Realizar algún comentario de los gráficos\n",
    "\n"
   ]
  },
  {
   "cell_type": "code",
   "execution_count": null,
   "metadata": {},
   "outputs": [],
   "source": []
  },
  {
   "cell_type": "markdown",
   "metadata": {},
   "source": [
    "# **Graficos para dos variables**"
   ]
  },
  {
   "cell_type": "code",
   "execution_count": null,
   "metadata": {},
   "outputs": [],
   "source": [
    "plt.title(\"Diagrama de Dispersión\")\n",
    "plt.scatter(consumido['consumo'], consumido['demanda'],c='red',alpha=0.5)\n",
    "plt.xlabel('consumo')\n",
    "plt.ylabel('demanda')\n"
   ]
  },
  {
   "cell_type": "code",
   "execution_count": null,
   "metadata": {},
   "outputs": [],
   "source": [
    "import matplotlib.pyplot as plt\n",
    "import pandas as pd\n",
    "notas_hist = [89, 90, 70, 79, 60, 58, 56, 45, 40, 34]\n",
    "notas_mat = [38, 45, 49, 58, 60, 72, 74, 75, 80, 90]\n",
    "\n",
    "plt.scatter(notas_mat , notas_hist, color='b',marker='<',label=\"Notas\")\n",
    "\n",
    "plt.xlabel('Matemática')\n",
    "plt.ylabel('Historia')\n",
    "plt.legend()\n",
    "plt.grid(True)\n",
    "plt.show()\n",
    "\n"
   ]
  },
  {
   "cell_type": "code",
   "execution_count": null,
   "metadata": {},
   "outputs": [],
   "source": [
    "plt.title(\"Histograma\")\n",
    "plt.hist(consumido['demanda'], bins=5,color='blue',alpha=0.4)\n",
    "plt.style.use('ggplot')\n",
    "plt.xlabel('demanda')\n",
    "plt.xlim(15, 40)\n",
    "plt.ylim(0, 6)\n",
    "plt.ylabel('frecuencia')\n",
    "ax =plt.axes()\n",
    "ax.set_facecolor(\"#FF99FF\")\n",
    "plt.show()"
   ]
  },
  {
   "cell_type": "code",
   "execution_count": null,
   "metadata": {},
   "outputs": [],
   "source": [
    "##Si queremos importar un archivo desde excel\n",
    "\n",
    "df2= pd.read_excel(r'C:\\Users\\Debora\\Dropbox\\AustralPosgrado\\DataScience\\Datos\\galletitas.xlsx' )\n",
    "df2=pd.DataFrame(df2)\n",
    "print(df2)\n"
   ]
  },
  {
   "cell_type": "markdown",
   "metadata": {},
   "source": [
    "# **Ejercicio 13:**\n",
    "* Realizar un histograma para la variable sodio\n",
    "* Realizar un diagrama de dispersión para las variables Proteinas y Grasas\n",
    "* Comentar ambos gráficos\n"
   ]
  },
  {
   "cell_type": "code",
   "execution_count": null,
   "metadata": {},
   "outputs": [],
   "source": []
  },
  {
   "cell_type": "code",
   "execution_count": null,
   "metadata": {},
   "outputs": [],
   "source": [
    "# Construimos gráficos de densidad estimada para dos variables, los alineamos por fila y por columna\n",
    "\n",
    "# visualizamos dos histogramas en un mismo gráfico\n",
    "fig, axs = plt.subplots(2, 2)\n",
    "fig.suptitle('Verticalmente')\n",
    "plt.subplot(2,1,1)\n",
    "df2['Carbohidratos'].plot.density(color='green')\n",
    "plt.title('Curva de Densidad de Carbohidratos')\n",
    "plt.subplot(2,1,2)\n",
    "df2['Proteinas'].plot.density(color='blue')\n",
    "plt.title('Curva de Densidad de Proteinas')\n",
    "plt.show()"
   ]
  },
  {
   "cell_type": "code",
   "execution_count": null,
   "metadata": {},
   "outputs": [],
   "source": [
    "fig, (ax1, ax2) = plt.subplots(1, 2)\n",
    "fig.suptitle('Horizontalmente')\n",
    "plt.subplot(1,2,1)\n",
    "df2['Carbohidratos'].plot.density(color='green')\n",
    "plt.title('Densidad de Carbohidratos')\n",
    "plt.subplot(1,2,2)\n",
    "df2['Proteinas'].plot.density(color='blue')\n",
    "plt.title('Densidad de Proteinas')\n",
    "plt.show()"
   ]
  },
  {
   "cell_type": "markdown",
   "metadata": {},
   "source": [
    "a) Importar la base de datos futbol.xlsx\n",
    "b) Verificar que es un data frame\n",
    "c) listar los nombres de las variables\n",
    "d) indicar la dimensión de la base\n",
    "e) seleccionar un gráfico adecuado para partidos jugados\n",
    "f) realizar dicho gráfico para los campeones y no campeones\n",
    "g) estudiar la asociación entre partidos jugados y ganados de los campeones\n",
    "h) con los datos de galletitas hacer un diagrama circular y un boxplot"
   ]
  },
  {
   "cell_type": "code",
   "execution_count": null,
   "metadata": {},
   "outputs": [],
   "source": [
    "# Repasamos los resúmenes estadísticos básicos para medidas de tendencia central y dispersión\n",
    "import statistics as st\n",
    "import numpy as np\n",
    "\n",
    "media=np.mean(df2['Carbohidratos']) #calculamos la media aritmetica\n",
    "mediana=np.median(df2['Carbohidratos']) # calculamos la mediana de los datos\n",
    "moda= st.mode(df2['Carbohidratos'])\n",
    "varianza=np.var(df2['Carbohidratos'])\n",
    "desv_stand=np.std(df2['Carbohidratos'])\n",
    "p25 = (df2['Carbohidratos']).quantile(0.25)\n",
    "p75 = (df2['Carbohidratos']).quantile(0.75)\n",
    "maximo=np.max((df2['Carbohidratos']))\n",
    "minimo=np.min(df2['Carbohidratos'])\n",
    "print(\"media=\",np.round(media,3),\"mediana=\",np.round(mediana,3),\"moda=\",moda,\"varianza=\",np.round(varianza,3),\n",
    "      \"desvio standard=\",np.round(desv_stand,3), \"p25=\",np.round(p25,3),\"p75=\",np.round(p75,3),\n",
    "      \"maximo\",np.round(maximo,3),\"minimo\",np.round(minimo,3))"
   ]
  },
  {
   "cell_type": "code",
   "execution_count": null,
   "metadata": {},
   "outputs": [],
   "source": [
    "# De otra manera\n",
    "df2['Carbohidratos'].describe()"
   ]
  },
  {
   "cell_type": "code",
   "execution_count": null,
   "metadata": {},
   "outputs": [],
   "source": [
    "# Datos agrupados por Tipo\n",
    "grouped_data = df2.groupby('Tipo')\n",
    "grouped_data['Carbohidratos'].describe()"
   ]
  },
  {
   "cell_type": "markdown",
   "metadata": {},
   "source": [
    "# **Ejercicio 14:**\n",
    "* Realizar un resumen estadístico de la variable Calorías \n",
    "* Graficar la curva de densidad de la variable Calorías\n",
    "* Realizar un resumen estadístico de la variable Calorías por dulce y salada"
   ]
  },
  {
   "cell_type": "code",
   "execution_count": null,
   "metadata": {},
   "outputs": [],
   "source": []
  },
  {
   "cell_type": "markdown",
   "metadata": {},
   "source": [
    "# Analizamos la base de pasajeros del Titanic\n",
    "#Las variables de esta base son:\n",
    "* clase = modelo solo con la clase (Pclass)\n",
    "* sobrevivió (sí=1 o no=0) (survived)\n",
    "* nombre del pasajero (name)\n",
    "* sexo del pasajero (male y female) (sex)\n",
    "* edad= modelo solo con la edad (age)\n",
    "* tiene hermanos o cónyugue en el Titanic (sibsp)\n",
    "* cantidad de padres/ hijos a bordo (parch)\n",
    "* puerto en el cual embarcó (S: Southampton, Q: Queenstown , C: Cherbourg)\n",
    "\n"
   ]
  },
  {
   "cell_type": "code",
   "execution_count": null,
   "metadata": {},
   "outputs": [],
   "source": [
    "   \n",
    "import pandas as pd\n",
    "import numpy as np\n",
    "import seaborn as sns\n",
    "import matplotlib.pyplot as plt\n",
    "# importando el conjunto de datos de Titanic\n",
    "df3= pd.read_excel(r'C:\\Users\\Debora\\Dropbox\\AustralPosgrado\\DataScience\\Datos\\titanic.xls' )\n",
    "df3.head(5)\n",
    "\n"
   ]
  },
  {
   "cell_type": "code",
   "execution_count": null,
   "metadata": {},
   "outputs": [],
   "source": [
    "df3.columns # para obtener los nombres de las columnas\n"
   ]
  },
  {
   "cell_type": "code",
   "execution_count": null,
   "metadata": {},
   "outputs": [],
   "source": [
    "df3.describe()\n"
   ]
  },
  {
   "cell_type": "code",
   "execution_count": null,
   "metadata": {},
   "outputs": [],
   "source": [
    "# Realizamos un conteo de los sobrevivientes  por Clase y por Sexo\n",
    "\n",
    "df3.sex # para acceder a los datos de una columna\n",
    "clasif1= df3.groupby([\"pclass\", \"sex\"])[\"survived\"].sum()\n",
    "clasif1 # que se aprecia en esta tabla??"
   ]
  },
  {
   "cell_type": "markdown",
   "metadata": {},
   "source": [
    "# **Ejercicio 15:**\n",
    "* Realizar un conteo de los sobrevivientes por Sexo y Puerto de Embarque\n"
   ]
  },
  {
   "cell_type": "code",
   "execution_count": null,
   "metadata": {},
   "outputs": [],
   "source": []
  },
  {
   "cell_type": "code",
   "execution_count": null,
   "metadata": {},
   "outputs": [],
   "source": [
    "fig = plt.figure(figsize=(30,10)) #creamos un canva o figura de 30X10 pixeles\n",
    "# Yo quiero ver un plot al costado del otro\n",
    "plt.subplot2grid((3,3),(0,0))\n",
    "df3.survived.value_counts().plot(kind=\"bar\", alpha=0.4)\n",
    "plt.title(\"sobrevivieron -  total \")"
   ]
  },
  {
   "cell_type": "code",
   "execution_count": null,
   "metadata": {},
   "outputs": [],
   "source": [
    "#podemos hacer barras horizontales\n",
    "fig = plt.figure(figsize=(8,4))\n",
    "df3.sex[df3.survived == 1].value_counts(normalize = True).plot(kind=\"barh\", alpha=0.5)\n",
    "plt.title(\"Sobrevivientes por Sexo\")\n",
    "plt.show()"
   ]
  },
  {
   "cell_type": "code",
   "execution_count": null,
   "metadata": {},
   "outputs": [],
   "source": [
    "#o barras adyacentes\n",
    "sns.countplot(x='sex', hue='survived', data=df3)\n",
    "plt.title('Supervivencia desagregada por genero')\n",
    "plt.show()"
   ]
  },
  {
   "cell_type": "code",
   "execution_count": null,
   "metadata": {},
   "outputs": [],
   "source": [
    "#Veamos ahora la supervivencia por clase\n",
    "fig = plt.figure(figsize=(10,5))\n",
    "#colors ``\n",
    "df3.pclass[df3.survived == 1].value_counts(normalize = True).plot(kind=\"barh\", alpha=0.8)\n",
    "plt.title(\"Sobrevivientes por clase de ticket\")\n",
    "plt.show()"
   ]
  },
  {
   "cell_type": "markdown",
   "metadata": {},
   "source": [
    "# ***Ejercicio 16:***\n",
    "* Realizar un gráfico de barras verticales de sobrevivientes por sexo y puerto de embarque\n",
    "* Realizar un gráfico de barras horizontales de sobrevivientes por clase y puerto de embarque"
   ]
  },
  {
   "cell_type": "code",
   "execution_count": null,
   "metadata": {},
   "outputs": [],
   "source": []
  },
  {
   "cell_type": "code",
   "execution_count": null,
   "metadata": {},
   "outputs": [],
   "source": [
    "#Superponemos varios gráficos de densidad para comparar la forma de la distribuciónde un variable en varios grupos\n",
    "fig = plt.figure(figsize=(6,4))\n",
    "for t_class in [1,2,3]:\n",
    "    df3.age[df3.pclass == t_class].plot(kind=\"kde\")\n",
    "    \n",
    "plt.legend({\"primera clase\", \"segunda clase\", \"tercera clase\"})\n",
    "plt.show()"
   ]
  },
  {
   "cell_type": "code",
   "execution_count": null,
   "metadata": {},
   "outputs": [],
   "source": [
    "# Sombreado, usando seaborn\n",
    "import seaborn as sns\n",
    "\n",
    "fig = sns.FacetGrid(df3, hue=\"pclass\",aspect=2)\n",
    "fig.map(sns.kdeplot,'age',shade= True)\n",
    "oldest = df3['age'].max()\n",
    "fig.set(xlim=(0,oldest))\n",
    "fig.add_legend()"
   ]
  },
  {
   "cell_type": "code",
   "execution_count": null,
   "metadata": {},
   "outputs": [],
   "source": [
    "#Realizamos un tabulación cruzada\n",
    "\n",
    "import pandas as pd\n",
    "print(pd.crosstab(df3.survived,df3.sex)) #imprimimos la tabla\n",
    "pd.crosstab(df3.survived,df3.sex).plot(kind=\"bar\") #graficamos la tabla\n",
    "plt.title(\"Supervivencia por Género\")\n",
    "plt.ylabel(\"Conteo\")\n",
    "plt.xlabel(\"Sobrevivientes\")"
   ]
  },
  {
   "cell_type": "code",
   "execution_count": null,
   "metadata": {},
   "outputs": [],
   "source": [
    "# Realizamos un gráfico que marca para cada categoría el punto medio que representa la proporción  de sobrevida de cada clase\n",
    "# La barra vertical indica un intervalo de confianza para dicha proporción\n",
    "\n",
    "import seaborn as sns\n",
    "\n",
    "sns.catplot('pclass','survived',data=df3,kind=\"point\",color=\"g\")\n"
   ]
  },
  {
   "cell_type": "code",
   "execution_count": null,
   "metadata": {},
   "outputs": [],
   "source": [
    "# Gráfico de violín integra conjuntamente el boxplot y la curva de densidad\n",
    "import seaborn as sns\n",
    "\n",
    "sns.violinplot(x=\"pclass\", y=\"age\", hue=\"survived\", split=True, data=df3, palette={0:\"#66CDAA\", 1: \"#008B8B\"});"
   ]
  },
  {
   "cell_type": "code",
   "execution_count": null,
   "metadata": {},
   "outputs": [],
   "source": [
    "#Gráfico de correlación o corrplot\n",
    "corr=df2.corr()\n",
    "print(df2.corr())\n",
    "plt.matshow(df2.corr())\n",
    "\n",
    "sns.heatmap(corr, \n",
    "      xticklabels=corr.columns.values, \n",
    "      yticklabels=corr.columns.values) \n"
   ]
  },
  {
   "cell_type": "code",
   "execution_count": null,
   "metadata": {},
   "outputs": [],
   "source": [
    "import seaborn as sns\n",
    "from seaborn import load_dataset\n",
    "g = sns.PairGrid(df2, hue=\"Tipo\")\n",
    "g.map_upper(sns.scatterplot)\n",
    "g.map_lower(sns.scatterplot)\n",
    "g.map_diag(sns.kdeplot, legend=False) # chusmear!\n",
    "g.add_legend()"
   ]
  },
  {
   "cell_type": "code",
   "execution_count": null,
   "metadata": {},
   "outputs": [],
   "source": [
    "g = sns.PairGrid(df2)\n",
    "g.map_upper(sns.scatterplot)\n",
    "g.map_lower(sns.kdeplot)\n",
    "g.map_diag(sns.kdeplot, lw=3, legend=False)\n"
   ]
  },
  {
   "cell_type": "code",
   "execution_count": null,
   "metadata": {},
   "outputs": [],
   "source": [
    "#**Ejerdicio Integrador**\n"
   ]
  }
 ],
 "metadata": {
  "celltoolbar": "Raw Cell Format",
  "kernelspec": {
   "display_name": "Python 3",
   "language": "python",
   "name": "python3"
  },
  "language_info": {
   "codemirror_mode": {
    "name": "ipython",
    "version": 3
   },
   "file_extension": ".py",
   "mimetype": "text/x-python",
   "name": "python",
   "nbconvert_exporter": "python",
   "pygments_lexer": "ipython3",
   "version": "3.9.7"
  }
 },
 "nbformat": 4,
 "nbformat_minor": 2
}

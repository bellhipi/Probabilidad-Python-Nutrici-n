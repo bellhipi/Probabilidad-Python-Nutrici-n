{
 "cells": [
  {
   "cell_type": "markdown",
   "metadata": {
    "slideshow": {
     "slide_type": "-"
    }
   },
   "source": [
    "# Curso- Procesamiento de Gestión de Datos con Python \n",
    "\n",
    "### marzo 2020\n",
    "\n",
    "* Docentes: Débora Chan - Marcelo Howlin\n",
    "\n",
    "### Algunas recomendaciones:\n",
    "+ Este archivo y todos los de extensión .ipynb se abren con jupyter o Google Collaboratory y se dividen en bloques.\n",
    "+ Básicamente: bloques de texto (Markdown) y otros de código (Code, en Python). \n",
    "+ Cualquier bloque se ejecuta con shift+enter o utilizando el botón Run.\n",
    "\n",
    "\n",
    "### Uso Básico de Python (con Jupyter Notebook):\n",
    "\n",
    "+ Se producen archivos *.ipynb (o también puede ser archivos Python del tipo *.py):\n",
    "\n",
    "**TIPS:**\n",
    "* Los bloques se pueden eliminar con el menú Edit. O con los botones correspondientes (cortar, copiar, pegar, desplazar).\n",
    "\n",
    "* El archivo se puede ejecutar en el entorno de Windows en la carpeta correspondiente (o desde cualquiera si se ha configurado el path) mediante el comando python en línea de comandos\n",
    "\n",
    "**En los bloques de texto** :\n",
    "\n",
    "* Mediante un doble clic en el bloque, posibilito la modificación del mismo.\n",
    "* Después del símbolo # se debe dejar un espacio.\n",
    "* Con uno, dos o tres numerales se maneja el tamaño de la letra.\n",
    "* Encerrando un texto entre uno o dos asteriscos se consigue texto en cursiva o negrita.\n",
    "\n",
    "**En los bloques de código** :\n",
    "* Si el renglón  empieza con # es comentario, si no, es instrucción.\n",
    "* En una línea de instrucción, se pueda agregar al final un comentario luego de #.\n",
    "\n",
    "\n",
    "### shift+enter para ejecutar (o botón Run), tanto en bloque de textos como de códigos\n",
    "\n",
    "### Si advierte que el programa no se está ejecutando use la opción Kernel-Restart and Clear Output\n",
    "\n"
   ]
  },
  {
   "cell_type": "markdown",
   "metadata": {},
   "source": [
    "## Instrucciones Básicas\n",
    "\n",
    "### Captura de Datos: input   \n",
    "### Muestra de Datos: print"
   ]
  },
  {
   "cell_type": "code",
   "execution_count": null,
   "metadata": {},
   "outputs": [],
   "source": [
    "cadena = input(\"Introduce una cadena de texto:\")\n",
    "# Recibe el texto ingresado y lo almacena en la variable cadena que es string\n",
    "print (\"La cadena que ingresó es: \",cadena)\n",
    "print(\"El tipo del dato ingresado es \",type(cadena))\n",
    "print('La cadena que ingresó es: \"',cadena,'\"')\n",
    "\n",
    "# Para mostrar comillas dobles, debo usar comillas simples que la contengan."
   ]
  },
  {
   "cell_type": "code",
   "execution_count": null,
   "metadata": {},
   "outputs": [],
   "source": [
    "# Se pide el ingreso de un número por teclado y se muestra el número y el tipo de dato.\n",
    "# Si no forzamos el tipo de dato en el ingreso, lo toma como string (cadena de caracteres)\n",
    "\n",
    "numero = input(\"Dígame un número: \")\n",
    "print(\"El nro ingresado es: \",numero)\n",
    "print(\"El tipo del dato ingresado es \",type(numero))"
   ]
  },
  {
   "cell_type": "code",
   "execution_count": null,
   "metadata": {
    "scrolled": true
   },
   "outputs": [],
   "source": [
    "#Para que lo tome como número hay que forzarlo con la función int o float\n",
    "numero = int(input(\"Dígame un número: \"))\n",
    "print(\"El nro ingresado es: \",numero)\n",
    "print(\"El tipo del dato ingresado es \",type(numero), \"porque se lo forzó\")\n",
    "\n",
    "numero = float(input(\"Dígame un número: \"))\n",
    "print(\"El nro ingresado es: \",numero)\n",
    "print(\"El tipo del dato ingresado es \",type(numero), \"porque se lo forzó\")"
   ]
  },
  {
   "cell_type": "markdown",
   "metadata": {},
   "source": [
    "**Tipos de datos básicos en Python**\n",
    "\n",
    "int # datos enteros\n",
    "\n",
    "float # números decimales\n",
    "\n",
    "bool # valores lógicos\n",
    "\n",
    "str # cadena de caracteres\n",
    "\n",
    "**Cuando ingresa un número, decide cómo almacenarlo (si es entero: de 8 bits, de 16 bits, si es float de 32 bits, etc.**"
   ]
  },
  {
   "cell_type": "markdown",
   "metadata": {},
   "source": [
    "Si asignamos un valor numérico a una variable, esta define automáticamente el tipo.\n",
    "\n",
    "Los números reales se almacenan en variables tipo \"float\".\n",
    "\n",
    "Los valores que puede representar van desde ±2,2250738585072020 x 10-308 hasta ±1,7976931348623157×10308, ya que utilizan 64 bits.\n"
   ]
  },
  {
   "cell_type": "code",
   "execution_count": null,
   "metadata": {},
   "outputs": [],
   "source": [
    "#Asignación de valores\n",
    "nroi=25\n",
    "print(\"Asignacion de un número entero a una variable. El dato asignado es \",nroi,\" y su tipo es \",type(nroi))\n",
    "nrof=32.8\n",
    "print(\"Asignacion de un número real a una variable. El dato asignado es \",nrof,\" y su tipo es \",type(nrof))\n",
    "\n",
    "#Asignamos un entero largo\n",
    "nroL=45696678615198\n",
    "print(\"El dato asignado a la variable es \", nroL, \"y su tipo es \",type(nroL))\n"
   ]
  },
  {
   "cell_type": "markdown",
   "metadata": {},
   "source": [
    "**También se pueden asignar valores utilizando notación científica**"
   ]
  },
  {
   "cell_type": "code",
   "execution_count": null,
   "metadata": {},
   "outputs": [],
   "source": [
    "nror=2e5\n",
    "print(nror)\n",
    "print(\"El tipo de dato asignado con notación científica es \",type(nror))"
   ]
  },
  {
   "cell_type": "markdown",
   "metadata": {},
   "source": [
    "#### En las versiones actuales no hace falta definir enteros long. Toma tantos bits para almacenar como haga falta"
   ]
  },
  {
   "cell_type": "code",
   "execution_count": null,
   "metadata": {},
   "outputs": [],
   "source": [
    "#Se puede calcular el valor absoluto de un número sin recurrir a librerías \n",
    "nro=-3.2\n",
    "print(\"nro=\",nro)\n",
    "print(\"abs(nro)=\",abs(nro))\n",
    "c=abs(nro)\n",
    "print(\"c=\",c)\n"
   ]
  },
  {
   "cell_type": "code",
   "execution_count": null,
   "metadata": {},
   "outputs": [],
   "source": [
    "#Se pueden hacer asignaciones simultáneas así como se concatena la muestra en pantalla\n",
    "float_1, float_2, float_3 = 0.358, 10.5, 1.5e2\n",
    "print (float_1, type(float_1))\n",
    "print (float_2, type(float_2))\n",
    "print (float_3, type(float_3))\n",
    "print(float_1,float_2,float_3)"
   ]
  },
  {
   "cell_type": "markdown",
   "metadata": {},
   "source": [
    "**Puede convertir tipos de datos numéricos con las funciones\n",
    "int(), float()**\n"
   ]
  },
  {
   "cell_type": "markdown",
   "metadata": {},
   "source": [
    "# **Ejercicio 1**"
   ]
  },
  {
   "cell_type": "code",
   "execution_count": null,
   "metadata": {},
   "outputs": [],
   "source": [
    "h=type(3.4)\n",
    "o=int(3.4)\n",
    "l=abs(3.4-5)\n",
    "a=float(3.4)\n",
    "print(h, o, l, a)\n",
    "#float(l) #función inválida para dato complejo\n",
    "#float(\"palabra\") #función inválida para dato string"
   ]
  },
  {
   "cell_type": "markdown",
   "metadata": {},
   "source": [
    "**Muestren que son uno genios**"
   ]
  },
  {
   "cell_type": "markdown",
   "metadata": {},
   "source": [
    "# **Ejercicio 2**"
   ]
  },
  {
   "cell_type": "code",
   "execution_count": null,
   "metadata": {},
   "outputs": [],
   "source": [
    "#este bloque de código es para que ejercitemos:\n",
    "#a) definir un número con tres decimales como float\n",
    "#b) calcular su valor absoluto\n",
    "#c) hallar su parte entera\n",
    "#d) mostrar todos los resultados\n",
    "\n",
    "a=float(input(\"ingrese un nro:\"))\n",
    "print(a)\n",
    "b=abs(a)\n",
    "print(b)\n",
    "c=int(a)\n",
    "print(c)"
   ]
  },
  {
   "cell_type": "markdown",
   "metadata": {},
   "source": [
    "### Operaciones Aritméticas Elementales- Ejemplos"
   ]
  },
  {
   "cell_type": "markdown",
   "metadata": {},
   "source": [
    "### Operaciones aritméticas +, -, *, /, **"
   ]
  },
  {
   "cell_type": "code",
   "execution_count": null,
   "metadata": {},
   "outputs": [],
   "source": [
    "#Ingresando un número por teclado\n",
    "x = float(input(\"Dígame un número que llameremos x: \"))\n",
    "print(\"El nro ingresado es: \",x)\n",
    "\n",
    "print(\"Tipo de x:\")\n",
    "print(type(x))  # Imprime el tipo (o `clase`) de x\n",
    "print(\"Valor de x=\",x)\n",
    "print(\"x+1=\",x+1)\n",
    "print(\"x-1=\",x-1)\n",
    "print(\"x*2=\",x*2)\n",
    "print(\"x/2=\",x/2)\n",
    "print(\"x^2=\",x**2) \n",
    "print(\"Para imprimir varios valores en una línea:\")\n",
    "print(x,x*2,x/2) # imprime varios valores a la vez en la misma línea"
   ]
  },
  {
   "cell_type": "code",
   "execution_count": null,
   "metadata": {},
   "outputs": [],
   "source": [
    "#Operaciones entre números enteros: cociente y resto (o módulo)\n",
    "a= 9\n",
    "b=2\n",
    "print(a//b)#Cociente entre enteros- Devuelve 4\n",
    "print(a%b)#Resto entre enteros- Devuelve 1"
   ]
  },
  {
   "cell_type": "markdown",
   "metadata": {},
   "source": [
    "# **Ejercicio 3**"
   ]
  },
  {
   "cell_type": "code",
   "execution_count": null,
   "metadata": {},
   "outputs": [],
   "source": [
    "#este bloque de código es para ejercitar:\n",
    "#a) Ingrese un número entero impar\n",
    "#b) Halle el resto de dividirlo por 2\n",
    "#c) Halle el cociente de dividirlo por 3\n",
    "#d) Elevelo al cuadrado y súmele 5\n",
    "#e) Muestre todos los resultados\n",
    "\n",
    "x=int(input(\"Ingrese un numero impar:\"))\n",
    "print(\"Su numero es:\",x)\n",
    "resto=x%2\n",
    "print(\"El resto de dividir por 2 es:\",resto)\n",
    "coc=x//3\n",
    "print(\"cociente de dividir por 3 es:\",coc)\n",
    "y=x**2+5\n",
    "print(\"x**2+5=\",y)"
   ]
  },
  {
   "cell_type": "markdown",
   "metadata": {},
   "source": [
    "# **Ejercicio 4:**\n",
    "**En el siguiente bloque o en un nuevo cuaderno (notebook) definir** \n",
    "* (a) la variable **var1** que contenga al número 10. Luego a \n",
    "* (b) **var2** como el doble de var1\n",
    "* (c) **var3** como el resultado de una cuenta combinada a su gusto.\n",
    "* (d) Imprima los resultados"
   ]
  },
  {
   "cell_type": "code",
   "execution_count": null,
   "metadata": {},
   "outputs": [],
   "source": [
    "var1=int(10)\n",
    "var2=2*var1\n",
    "var3=var1/var2\n",
    "print(var1,var2,var3)"
   ]
  },
  {
   "cell_type": "markdown",
   "metadata": {},
   "source": [
    "**Lista de Operadores de Asignación**\n",
    "\n",
    "Operador =\n",
    "\n",
    "Operador +=\n",
    "\n",
    "Operador -=\n",
    "\n",
    "Operador *=\n",
    "\n",
    "Operador /=\n",
    "\n",
    "Operador**=\n",
    "\n",
    "Operador //=\n",
    "\n",
    "Operador %=\n",
    "\n"
   ]
  },
  {
   "cell_type": "code",
   "execution_count": null,
   "metadata": {},
   "outputs": [],
   "source": [
    "a=17\n",
    "a+=2\n",
    "print(a)\n",
    "a//=2\n",
    "print(a)\n",
    "a/=3\n",
    "print(a)\n",
    "print(round(a))"
   ]
  },
  {
   "cell_type": "markdown",
   "metadata": {},
   "source": [
    "### Datos booleanos (True y False)\n",
    "### Operaciones Lógicas AND, OR y NOT"
   ]
  },
  {
   "attachments": {
    "image.png": {
     "image/png": "[encoded data removed]"
    }
   },
   "cell_type": "markdown",
   "metadata": {},
   "source": [
    "![image.png](attachment:image.png)"
   ]
  },
  {
   "cell_type": "code",
   "execution_count": null,
   "metadata": {},
   "outputs": [],
   "source": [
    "#Tipo de dato booleano: 'bool'\n",
    "v1 = False #el valor verdadero: True \n",
    "v2 = False #el valor falso: False\n",
    "\n",
    "print(\"Valor de v1: \",v1, \"Su tipo es: \", type(v1))\n",
    "print(\"Valor de v2: \",v2, \"Su tipo es: \", type(v2))\n",
    "print()\n",
    "\n",
    "#Operaciones Lógicas y, o y negación\n",
    "print(\"v1 and v2= \", v1 and v2) # y lógico; imprime False\n",
    "print(\"v1 or v2= \",v1 or v2)  # o lógico; imprime True\n",
    "print(\"v1 negado= \",not v1)   # negación lógica, imprime False\n"
   ]
  },
  {
   "cell_type": "markdown",
   "metadata": {},
   "source": [
    "### Operadores para comparar:\n",
    "\n",
    "#### == ;    !=  ;   <   ;    >  ;     <=   ;     >="
   ]
  },
  {
   "cell_type": "code",
   "execution_count": null,
   "metadata": {},
   "outputs": [],
   "source": [
    "#Comparaciones \n",
    "print (\"3==3\",3 == 3)  # Imprime False ya que son distintos\n",
    "print(\"3 !=6\",3 != 6)  # Imprime True ya que son distintos\n",
    "print(\"3<5\",3 < 5)  # Imprime True ya que 3 es menor que 5\n"
   ]
  },
  {
   "cell_type": "markdown",
   "metadata": {},
   "source": [
    "\n",
    "### Estructura de Decisión: if"
   ]
  },
  {
   "cell_type": "markdown",
   "metadata": {},
   "source": [
    "Su sintaxis es\n",
    "\n",
    "if condición : \n",
    "\n",
    "    cuerpo del if #indentado con 4 espacios\n",
    "    \n",
    "else:\n",
    "    \n",
    "    cuerpo del else #indentado con 4 espacios\n"
   ]
  },
  {
   "cell_type": "code",
   "execution_count": null,
   "metadata": {},
   "outputs": [],
   "source": [
    "#Ejemplo\n",
    "edad = 22\n",
    "\n",
    "print(\"La persona es\")\n",
    "if (edad < 18):\n",
    "    print(\"Menor\") \n",
    "else:\n",
    "    print(\"Mayor\")\n"
   ]
  },
  {
   "cell_type": "markdown",
   "metadata": {},
   "source": [
    "**Los ifs se pueden anidar**\n",
    "\n",
    "**Los ifs pueden servir a distintas alternativas **\n",
    "**Ejemplo de pseudocódigo con 4 alternativas**\n",
    "\n",
    "if condición_1:\n",
    "\n",
    "    bloque 1\n",
    "\n",
    "elif condición_2:\n",
    "    \n",
    "    bloque 2\n",
    "\n",
    "elif condición_3\n",
    "\n",
    "    bloque 3\n",
    "\n",
    "else:\n",
    "    \n",
    "    bloque 4"
   ]
  },
  {
   "cell_type": "code",
   "execution_count": null,
   "metadata": {},
   "outputs": [],
   "source": [
    "#Ejemplo opciones múltiples\n",
    "\n",
    "edad=int(input(\"Ingrese edad: \"))\n",
    "if edad<0:\n",
    "    print(\"Error\")\n",
    "elif edad<18:\n",
    "    print(\"Menor de edad\")\n",
    "else:\n",
    "    print(\"Mayor de edad\")"
   ]
  },
  {
   "cell_type": "code",
   "execution_count": null,
   "metadata": {},
   "outputs": [],
   "source": [
    "#el mismo ejemplo pero usando operadores lógicos\n",
    "edad=int(input(\"Ingrese edad: \"))\n",
    "if edad>=18:\n",
    "    print(\"Mayor de edad\")\n",
    "else:\n",
    "    if (edad>=0 and edad<18):\n",
    "        print(\"Menor de edad\")\n",
    "    else: \n",
    "        print(\"Error\")"
   ]
  },
  {
   "cell_type": "code",
   "execution_count": null,
   "metadata": {},
   "outputs": [],
   "source": [
    "#Comparaciones\n",
    "nro1=int(input('Ingrese nro: '))\n",
    "nro2=int(input('Ingrese nro: '))\n",
    "if nro1==nro2:\n",
    "    print('\\nLos números ingresados son iguales')\n",
    "else:\n",
    "    print('\\nLos números  ingresados son diferentes')"
   ]
  },
  {
   "cell_type": "code",
   "execution_count": null,
   "metadata": {},
   "outputs": [],
   "source": [
    "#Comparaciones\n",
    "nro1=int(input('Ingrese nro: '))\n",
    "nro2=int(input('Ingrese nro: '))\n",
    "if nro1!=nro2:\n",
    "    print('\\nLos números ingresados son distintos')\n",
    "else:\n",
    "    print('\\nLos números ingresados son iguales')"
   ]
  },
  {
   "cell_type": "code",
   "execution_count": null,
   "metadata": {},
   "outputs": [],
   "source": [
    "#Comparaciones\n",
    "nro1=int(input('Ingrese nro: '))\n",
    "nro2=int(input('Ingrese nro: '))\n",
    "if nro1>=nro2:\n",
    "    print('\\nEl primer número es mayor o igual que el segundo')\n",
    "else:\n",
    "    print('\\nEl primer número es menor que el segundo')"
   ]
  },
  {
   "cell_type": "markdown",
   "metadata": {},
   "source": [
    "# **Ejercicio 5**\n",
    "* Ingrese un número.\n",
    "* Indique si el número es divisible por 3\n"
   ]
  },
  {
   "cell_type": "code",
   "execution_count": null,
   "metadata": {},
   "outputs": [],
   "source": []
  },
  {
   "cell_type": "markdown",
   "metadata": {},
   "source": [
    "### Listas\n",
    "#### Elementos de una lista: se colocan entre corchetes, separados por comas\n",
    "#### El Python fue pensado para trabajar con listas\n",
    "#### Para operaciones matemáticas necesitaremos matrices\n",
    "#### Para trabajar con matrices necesitamos una Librería o Biblioteca: Numpy\n",
    "#### Las listas pueden tener elementos de distinto tipo\n",
    "#### Las matrices o arrays multidimensionales tienen todos sus elementos del mismo tipo\n"
   ]
  },
  {
   "cell_type": "code",
   "execution_count": null,
   "metadata": {},
   "outputs": [],
   "source": [
    "#Definamos una Lista\n",
    "#Para hacerlo se usan corchetes y se separan los elementos mediante coma\n",
    "lista=[-6,0,5]\n",
    "print(\"lista= \",lista, \"su tipo es \", type(lista))\n",
    "\n",
    "#acceso a un elemento de la lista, el primer elemento es de orden 0\n",
    "print(lista[2])"
   ]
  },
  {
   "cell_type": "code",
   "execution_count": null,
   "metadata": {},
   "outputs": [],
   "source": [
    "lista=[5, 1, 2,3] # una lista puede contener objetos de distinto tipo\n",
    "print('lista vieja ',lista)\n",
    "lista[0]=\"gato\"\n",
    "lista[3]=2>1 \n",
    "print('lista nueva:', lista)\n"
   ]
  },
  {
   "cell_type": "code",
   "execution_count": null,
   "metadata": {},
   "outputs": [],
   "source": [
    "lista_nueva = list.copy(lista)\n",
    "#agrego elemento\n",
    "lista_nueva.append('perro')\n",
    "print(\"Lista vieja\",lista)\n",
    "print('Nueva lista: ', lista_nueva)\n"
   ]
  },
  {
   "cell_type": "markdown",
   "metadata": {},
   "source": [
    "### Operadores in y not in"
   ]
  },
  {
   "cell_type": "code",
   "execution_count": null,
   "metadata": {},
   "outputs": [],
   "source": [
    "#Definamos una Lista\n",
    "#Para hacerlo se usan corchetes y se separan los elementos mediante coma\n",
    "lista=[1,3,6]\n",
    "\n",
    "print(2 not in lista)\n",
    "print(6  in lista)"
   ]
  },
  {
   "cell_type": "markdown",
   "metadata": {},
   "source": [
    "### Estructuras de Repetición : for"
   ]
  },
  {
   "cell_type": "code",
   "execution_count": null,
   "metadata": {},
   "outputs": [],
   "source": [
    "# Ejemplo for en lista\n",
    "# Permite recorrer todos los elementos de una lista\n",
    "# En el mismo for se le pone nombre a la variable que almacena cada elemento\n",
    "# En este caso la lista se llama mis_numeros y cada elemento es un numero\n",
    "\n",
    "# El objetivo del código es sumar todos los elementos de la lista\n",
    "# El acumulador debe inicializarse en 0\n",
    "# De lo contrario guardará el valor en caso de hacerse otras corridas\n",
    "\n",
    "suma=0\n",
    "mis_numeros=[4,8,12,-18] \n",
    "#la variable numero designará a los elementos de la lista\n",
    "for a in mis_numeros:\n",
    "    suma=suma+a\n",
    "    print(suma)\n",
    "   \n",
    "print(\"esto se imprime fuera del ciclo\")\n",
    "print('La lista es',mis_numeros)\n",
    "print(\"La suma de los números de la lista es:\")\n",
    "print(suma)\n"
   ]
  },
  {
   "cell_type": "markdown",
   "metadata": {},
   "source": [
    "**Función range:**\n",
    "    #con un parámetro, este indica la cantidad de elementos. Empieza en 0, salto implícito 1.\n",
    "    #con dos parámetros, el primero indica el principio, el otro el final que es abierto (no lo incluye).\n",
    "    #con tres parámetros, indican principio, el final abierto, el paso o salto.\n",
    "\n",
    "**El intervalo es abierto a derecha**\n",
    "\n",
    "Ejemplos:\n",
    "\n",
    "range(3): 0 1 2\n",
    "\n",
    "range(2,6): 2, 3, 4, 5\n",
    "\n",
    "range(1,7,2): 1,3,5  \n"
   ]
  },
  {
   "cell_type": "code",
   "execution_count": null,
   "metadata": {},
   "outputs": [],
   "source": [
    "print(\"Un for para range de 0 a 3\")\n",
    "for i in range(4):\n",
    "    print(i)\n",
    "print()    \n",
    "\n",
    "print(\"Un for para range de 2 a 5:\")\n",
    "for j in range(2,6):\n",
    "    print(j)\n",
    "print()\n",
    "\n",
    "print(\"Un for para range de 2 a 11, salto 3\")# Observar que no incluirá el 11\n",
    "for z in range(2,12,3):\n",
    "    print(z)\n",
    "print()"
   ]
  },
  {
   "cell_type": "code",
   "execution_count": null,
   "metadata": {},
   "outputs": [],
   "source": [
    "#Ingreso números (variable que llamo dato)\n",
    "#range(n) me indica que ingresaré n números\n",
    "#los acumulo en una variable, en este caso llamada suma\n",
    "#Muestro la suma\n",
    "\n",
    "suma=0\n",
    "for z in range(4):\n",
    "    dato=int(input(\"ingrese número:\"))\n",
    "    suma+=dato\n",
    "print(\"suma= \", suma)\n",
    "print(\"Promedio\",suma/(z+1))\n"
   ]
  },
  {
   "cell_type": "markdown",
   "metadata": {},
   "source": [
    "### Funciones Definidas por el Usuario"
   ]
  },
  {
   "cell_type": "markdown",
   "metadata": {},
   "source": [
    "*Las funciones se definen con la palabra clave def*\n",
    "\n",
    "**Sintaxis**\n",
    "\n",
    "def nombre_funcion(parametros):\n",
    "    \n",
    "    Cuerpo de la función\n",
    "    \n",
    "    return\n"
   ]
  },
  {
   "cell_type": "code",
   "execution_count": null,
   "metadata": {},
   "outputs": [],
   "source": [
    "def sumar(a,b):\n",
    "    return a+b\n"
   ]
  },
  {
   "cell_type": "markdown",
   "metadata": {},
   "source": [
    "**Llamada a la función**"
   ]
  },
  {
   "cell_type": "code",
   "execution_count": null,
   "metadata": {},
   "outputs": [],
   "source": [
    "c=sumar(-2,5)\n",
    "print(\"La suma es\")\n",
    "print(c)\n"
   ]
  },
  {
   "cell_type": "code",
   "execution_count": null,
   "metadata": {},
   "outputs": [],
   "source": [
    "#Definir y usar una función que dé el signo de un número\n",
    "def signo(x):\n",
    "    if x > 0:\n",
    "        return 'positivo'\n",
    "    elif x < 0:\n",
    "        return 'negativo'\n",
    "    else:\n",
    "        return 'cero'"
   ]
  },
  {
   "cell_type": "markdown",
   "metadata": {},
   "source": [
    "**Llamada a la función**"
   ]
  },
  {
   "cell_type": "code",
   "execution_count": null,
   "metadata": {},
   "outputs": [],
   "source": [
    "for x in [10, 0, -4]:\n",
    "    print(signo(x))\n",
    "# Imprime en pantalla \"negativo\", \"cero\", \"positivo\""
   ]
  },
  {
   "cell_type": "markdown",
   "metadata": {},
   "source": [
    "# **Ejercicio 6**\n",
    "* defina una función sencilla con dos parámetros\n",
    "* impleméntela en dos valores concretos"
   ]
  },
  {
   "cell_type": "code",
   "execution_count": null,
   "metadata": {},
   "outputs": [],
   "source": [
    "\n",
    "   "
   ]
  },
  {
   "cell_type": "markdown",
   "metadata": {},
   "source": [
    "**Importar librerias**\n",
    "** Python posee ya muchas librerías con funciones específicas según la tarea que querramos realizar. Existen librerías de cálculo, de visulización, de estadística, procesamiento de señales, de algebra lineal y de redes neuronales artificiales (entre muchas mas). Nuestro primer paso será importar Numpy, una importante librería que nos permitirá realizar operaciones numéricas con matrices, vectores y escalares**"
   ]
  },
  {
   "cell_type": "markdown",
   "metadata": {},
   "source": [
    "\n",
    "### Qué es una librería?\n",
    "** Librerías\n",
    "** En informática, una biblioteca o, llamada por vicio del lenguaje librería (del inglés library) es un conjunto de implementaciones funciones, codificadas en un lenguaje de programación, que realizan una serie de tareas específicas y se incluyen o importan en el programa evitando tener que reescribir esos códigos."
   ]
  },
  {
   "cell_type": "markdown",
   "metadata": {},
   "source": [
    "## Librería numpy"
   ]
  },
  {
   "cell_type": "markdown",
   "metadata": {},
   "source": [
    "### Observaciones:\n",
    "Los tipos de datos predefinidos en Python no precisan el agregado de librerías\n",
    "Otros tipos de datos precisan la importación de librerías específicas. \n",
    "Una de las librerías más importantes para nosotros es numpy.\n",
    "\n",
    "* Librería **numpy**: sirve para realizar operaciones matriciales en Python. \n",
    "* La forma de \"llamar\", \"cargar\" o importar una libreria xxxxxx es la siguiente: \n",
    "* import xxxxxx as xx \n",
    "* donde xx es el nombre corto que le asignamos para poder llamar sus funciones, por ejemplo:\n"
   ]
  },
  {
   "cell_type": "code",
   "execution_count": null,
   "metadata": {},
   "outputs": [],
   "source": [
    "import numpy as np #shift+entr para ejecutar (o botón Run)\n",
    "#No es necesario asignarle un nombre corto, pero es útil"
   ]
  },
  {
   "cell_type": "markdown",
   "metadata": {},
   "source": [
    "\n",
    "### Algunas funciones numpy para arreglos - Alias np\n",
    "Primeras operaciones con Numpy: Con \"np. + comando\" de numpy podremos realizar muchas operaciones.\n",
    "Como por ejemplo crear una matriz de 2x2 de ceros."
   ]
  },
  {
   "cell_type": "code",
   "execution_count": null,
   "metadata": {},
   "outputs": [],
   "source": [
    "# creamos la matriz de 2x2 llena de ceros con el comando np.zeros()\n",
    "nula = np.zeros((2,2))\n",
    "# La visualizamos en pantalla\n",
    "nula\n"
   ]
  },
  {
   "cell_type": "code",
   "execution_count": null,
   "metadata": {},
   "outputs": [],
   "source": [
    "# con type nos fijamos que tipo de variable es \"nula\"\n",
    "# python permite muchos tipos de variables, en este caso es un numpy array\n",
    "print('tipo de nula',type(nula))\n",
    "# con np.shape() podremos saber las dimensiones de la variable en cuestion\n",
    "print('dimensiones de nula',np.shape(nula))"
   ]
  },
  {
   "cell_type": "markdown",
   "metadata": {},
   "source": [
    "**Las posiciones en python comienzan en 0. Entonces si tenemos un elemento de 4 posiciones, la primera sera la posicion 0 y\n",
    "la ultima posicion sera la 3. Cuando tenemos matrices (arrays)**"
   ]
  },
  {
   "cell_type": "code",
   "execution_count": null,
   "metadata": {},
   "outputs": [],
   "source": [
    "# Una vez declarada en python, podemos modificar alguno de los elementos de la matriz (numpy array) nula.\n",
    "nula[0,0]=3\n",
    "nula[0,1]=-1\n",
    "print(nula)\n",
    "# si quisieramos acceder al elemento 1,0 de nula \n",
    "print('posicion 1,0 de nula',nula[0,1])\n",
    "\n"
   ]
  },
  {
   "cell_type": "markdown",
   "metadata": {},
   "source": [
    "**Podriamos realizar operaciones logicas y obtener resultados \"booleanos\" (True or False). \n",
    "Por ejemplo, preguntamos que elementos son mayores a cero.**"
   ]
  },
  {
   "cell_type": "code",
   "execution_count": null,
   "metadata": {},
   "outputs": [],
   "source": [
    "nula != 0"
   ]
  },
  {
   "cell_type": "markdown",
   "metadata": {},
   "source": [
    "**Calculamos raiz cuadrada de todos los elementos de la matriz nula con el comando np.sqrt(). \n",
    "SQRT significa square root en ingles.**"
   ]
  },
  {
   "cell_type": "code",
   "execution_count": null,
   "metadata": {},
   "outputs": [],
   "source": [
    "m=(abs(nula))\n",
    "q=np.sqrt(m)\n",
    "r=q**2\n",
    "print(m)\n",
    "print(q)\n",
    "print(r)"
   ]
  },
  {
   "cell_type": "markdown",
   "metadata": {},
   "source": [
    "**Numpy tambien nos permite crear matrices de la dimension que querramos con numeros aleatorios\n",
    "mediante el comando \"np.random.rand()\"**"
   ]
  },
  {
   "cell_type": "code",
   "execution_count": null,
   "metadata": {},
   "outputs": [],
   "source": [
    "# creamos un array de 3x3 con todos sus elementos completados nros aleatorios de una distribución uniforme \n",
    "array_uniform = np.random.rand(3,3)\n",
    "array_uniform\n",
    "np.round(array_uniform,3) # redondeamos a tres cifras para que sea visualmente más agradable"
   ]
  },
  {
   "cell_type": "markdown",
   "metadata": {},
   "source": [
    "**Ejercicio 7**\n",
    "\n",
    "Defina una matriz de unos de dimensión 3x2.\n",
    "\n",
    "Multiplique la primera fila por 3.\n",
    "\n",
    "Multiplique la última fila por 2.\n",
    "\n",
    "Muestre la matriz obtenida y su traspuesta.\n",
    "\n",
    "Repita el trabajo con una matriz de 2x2 de números aleatorios"
   ]
  },
  {
   "cell_type": "code",
   "execution_count": null,
   "metadata": {},
   "outputs": [],
   "source": [
    "#Resolución\n",
    "A=np.ones((3,2))\n",
    "print(A)\n",
    "print()\n",
    "A.T[1:]=3*A.T[1:]#para multiplicar la columna usamos la fila de la traspuesta\n",
    "print(A)\n",
    "A[2:]=2*A[2:]\n",
    "print(A)\n"
   ]
  },
  {
   "cell_type": "markdown",
   "metadata": {},
   "source": [
    "Podemos tambien crear vectores, solamente especificando una sola dimension."
   ]
  },
  {
   "cell_type": "code",
   "execution_count": null,
   "metadata": {},
   "outputs": [],
   "source": [
    "# generamos un vector de 10 posiciones completados desde nros. aleatorios de una dist. uniforme\n",
    "vector_uniform = np.random.rand(10)\n",
    "vector_uniform"
   ]
  },
  {
   "cell_type": "code",
   "execution_count": null,
   "metadata": {},
   "outputs": [],
   "source": [
    "# Trasponer un numpy array con \".T\" al final\n",
    "# vamos a transponer la matriz A\n",
    "A_t = A.T\n",
    "A_t"
   ]
  },
  {
   "cell_type": "markdown",
   "metadata": {},
   "source": [
    "Crear una matriz con valores determinados por el usuario"
   ]
  },
  {
   "cell_type": "code",
   "execution_count": null,
   "metadata": {},
   "outputs": [],
   "source": [
    "# tambien podriamos crear una nueva matriz con datos ingresados \n",
    "a=np.array([ [1  ,-4],[12 , 3]])\n",
    "a"
   ]
  },
  {
   "cell_type": "markdown",
   "metadata": {},
   "source": [
    "**Distribuciones de probabilidad con numpy\n",
    "Generamos un vector cuyas posiciones sean numeros aleatorios provenientes de una distribucion normal con media y desvio standard determinado.**"
   ]
  },
  {
   "cell_type": "code",
   "execution_count": 10,
   "metadata": {},
   "outputs": [
    {
     "data": {
      "text/plain": [
       "numpy.ndarray"
      ]
     },
     "execution_count": 10,
     "metadata": {},
     "output_type": "execute_result"
    }
   ],
   "source": [
    "import numpy as np\n",
    "# declaramos las variables numericas \"mu\" y \"sigma\"\n",
    "mu = 100 # valor medio elegido\n",
    "sigma = 60 # valor del desvio standard elegido\n",
    "# con las variables declaradas generamos un vector de 100 posiciones\n",
    "# cada posicion es un numero aleatorio extraido de una distribucion normal\n",
    "normal_sample = np.random.normal(mu, sigma, 1000)\n",
    "# si quisieramos saber que tipo de variable es \"normal_sample\" usamos el comando type\n",
    "type(normal_sample)"
   ]
  },
  {
   "cell_type": "code",
   "execution_count": 7,
   "metadata": {},
   "outputs": [
    {
     "data": {
      "text/plain": [
       "array([ 7.16060146e+01,  1.86081745e+02,  1.72576894e+02,  1.77093568e+02,\n",
       "        5.19308544e+01,  7.74043065e+01,  6.40024811e+01,  1.26502469e+02,\n",
       "        1.42234585e+02,  5.61824059e+01,  1.36390227e+02,  9.12549253e+01,\n",
       "        1.11096822e+01,  7.67383759e+01,  1.97884047e+02,  4.58171627e+01,\n",
       "        3.30465145e+01,  7.22250088e+01,  1.05373432e+02,  1.23648120e+02,\n",
       "        6.88322368e+01,  2.23105175e+01,  8.39960487e+01,  6.31818587e+01,\n",
       "        1.77795763e+02,  1.90179589e+02,  7.80790074e+01,  9.02443708e+01,\n",
       "        7.44981783e+01,  8.01476223e+01,  1.20158747e+02,  7.22016412e+01,\n",
       "        1.75457288e+02,  1.10677377e+02,  6.65714558e+01,  1.01479819e+02,\n",
       "        1.47331529e+02,  2.34772933e+01,  5.94878843e+01,  1.24629326e+02,\n",
       "        1.15374090e+02,  1.23329043e+02,  1.21196931e+02,  2.43627045e+01,\n",
       "        1.32776447e+02,  1.61458349e+02,  9.55935648e+01,  3.84574895e+01,\n",
       "        1.28648185e+02,  1.33196701e+02,  8.08055899e+01,  7.12218581e+01,\n",
       "        7.10883512e+01,  1.32254118e+02,  1.74694018e+02,  1.68274443e+02,\n",
       "        1.18855407e+02,  1.54962348e-01,  4.86235510e+01,  9.14117430e+01,\n",
       "        2.79708079e+01,  1.01886701e+02,  4.14187908e+01,  4.69879673e+01,\n",
       "        8.91993459e+01,  5.99501619e+01,  1.15534025e+02,  6.34244275e+01,\n",
       "        1.50094860e+02,  7.99996750e+01,  1.46667208e+02,  2.08691000e+00,\n",
       "        1.58273040e+02,  1.90257866e+02,  5.23054901e+01,  3.48910287e+01,\n",
       "        6.32097381e+01,  1.67382993e+02,  1.18516681e+02,  9.20548405e+01,\n",
       "        6.76469009e+01,  3.49719729e+01,  1.22436825e+02,  1.00393793e+02,\n",
       "        1.28401232e+02,  1.34757163e+02,  1.97331475e+02,  9.13299830e+01,\n",
       "        1.23537820e+02,  1.21395008e+02,  1.36325716e+02,  1.29894481e+01,\n",
       "        1.24399780e+02,  1.73112730e+02,  1.77976448e+02,  3.88829860e+01,\n",
       "        4.55188907e+01,  1.74208741e+02,  2.51184366e+02,  2.26098073e+02,\n",
       "        9.52878809e+01,  1.01067726e+02,  1.37305429e+02,  2.18038375e+02,\n",
       "        9.92207963e+01,  7.53553973e+00,  1.14452399e+02, -1.20145762e+01,\n",
       "        1.01487856e+02,  1.18239498e+02,  1.68940133e+02,  1.22208092e+02,\n",
       "        1.12242417e+02,  1.93934322e+02, -6.37924386e+00,  1.49522530e+02,\n",
       "        1.15268464e+02,  1.39140143e+02,  6.96596065e+01,  1.24436568e+02,\n",
       "        1.59791272e+02,  1.13866042e+02,  3.13695335e+01,  2.03447127e+02,\n",
       "        1.10974288e+02,  1.22483232e+02,  1.67386611e+02,  1.56076104e+02,\n",
       "        4.87621026e+01,  1.65770025e+02,  1.06148152e+02,  1.31631195e+02,\n",
       "        1.14349552e+02,  7.42487255e+01,  1.04140090e+02,  4.70403182e+01,\n",
       "        1.49344825e+02,  6.96813989e+01,  4.98108285e+01,  8.81872303e+01,\n",
       "        5.20903333e+01,  1.52443086e+02,  2.73695631e+01,  1.41233822e+02,\n",
       "        5.01575625e+00,  8.77786427e+01,  7.72596819e+01,  1.90309083e+02,\n",
       "        9.59892067e+01,  1.17130228e+02,  1.58093471e+02,  3.22537068e+01,\n",
       "        2.11636394e+02,  1.65499876e+02,  1.32182801e+02,  1.23392089e+02,\n",
       "        2.16068836e+01,  1.34207099e+02,  1.91583346e+02,  9.39679131e+01,\n",
       "        1.66370627e+02,  1.15831704e+02,  8.52354161e+01,  2.29767147e+01,\n",
       "        3.74772143e+01,  1.53326662e+02,  1.00691531e+02,  1.12326049e+02,\n",
       "        2.34500169e+01,  1.67611576e+02,  9.91764491e+01,  1.12727616e+02,\n",
       "        5.28232500e+01,  1.47779110e+02,  1.58275409e+02,  1.83577558e+02,\n",
       "        8.75010796e+01,  2.96957219e+02,  1.56836775e+02,  4.15911620e+01,\n",
       "        6.45052652e+01,  9.05524440e+01,  7.64767021e+01,  2.16457076e+02,\n",
       "        1.21658052e+02,  1.83537909e+02,  1.52512601e+02,  1.13047120e+02,\n",
       "        1.77631665e+02,  1.92018930e+02,  8.53978709e+01,  3.29808655e+01,\n",
       "        8.30857192e+01,  9.17764122e+00,  6.16879456e+01,  1.30789556e+02,\n",
       "        1.71019831e+02,  1.18787571e+02,  1.37973853e+02,  5.13420437e+01,\n",
       "        1.73678066e+02,  6.28304186e+01,  2.23997672e+02,  1.08951014e+02,\n",
       "        6.66008580e+01,  1.29381830e+02,  2.13802338e+01,  4.51142745e+01,\n",
       "        1.69741098e+02,  1.05182426e+02,  7.02615061e+01,  1.33316822e+02,\n",
       "        4.83576792e+01,  4.98038020e+01,  1.35126820e+02,  1.82443433e+02,\n",
       "        2.04844276e+02,  2.10384602e+02,  7.26048595e+01,  2.62963472e+00,\n",
       "        1.31183938e+02,  7.99331730e+01,  6.41467841e+00,  1.29220522e+00,\n",
       "        8.28461378e+01,  6.96503053e+01,  1.68685122e+02,  1.75544448e+02,\n",
       "        4.86256265e+01,  2.42793137e+02,  1.07222032e+02,  9.24013226e+01,\n",
       "        4.26075675e+01,  7.62772492e+00,  8.15849144e+01, -7.20630555e+01,\n",
       "        1.46332815e+02,  1.37839553e+02,  8.60697155e+01,  1.43370513e+02,\n",
       "        1.23734853e+02,  1.11066844e+02,  8.00680920e+01, -1.60430245e+01,\n",
       "        2.35226857e+02,  2.01212323e+02,  8.06975503e+01,  3.92317799e+01,\n",
       "        1.04308846e+02,  3.45154801e+01,  8.82479399e+01,  2.34400474e+02,\n",
       "        1.59486338e+02,  2.82650120e+01,  2.48312387e+01,  1.32887900e+02,\n",
       "        1.46184349e+02,  4.56263633e+00,  6.48283127e+01,  8.68700126e+01,\n",
       "       -2.46060076e+00,  7.05694733e+01,  1.11339190e+02,  1.32615054e+02,\n",
       "        2.09888989e+01,  1.75044840e+01,  1.28621784e+02,  8.99310861e+01,\n",
       "       -2.47531541e+01,  1.13320151e+02, -1.67143191e+01,  8.90077249e+01,\n",
       "        1.21843437e+02,  1.61392441e+02,  2.00905211e+02,  1.18026150e+02,\n",
       "        1.12484689e+02,  5.15497926e+01,  5.17919142e+01,  1.23587285e+02,\n",
       "        9.26475287e+01,  4.23416391e+01,  1.03873958e+02,  6.84004842e+01,\n",
       "        1.09268588e+02,  1.43163788e+02,  3.89620464e+01,  9.82534259e+01,\n",
       "       -3.57150598e+00,  4.02204999e+01,  4.71078772e+01,  8.46277652e+01,\n",
       "        7.43585590e+00,  7.60607225e+01,  2.05083276e+02,  8.58563302e+01,\n",
       "        7.48787911e+01,  7.82436310e+01,  6.80382170e+01,  7.12069323e+01,\n",
       "        2.69775313e+02,  5.43889118e+01,  1.06807821e+02,  1.56567742e+02,\n",
       "        1.08258740e+02, -3.94821142e+00,  2.08011870e+02,  9.39773796e+01,\n",
       "        5.51015452e+01,  1.40014229e+02,  6.81367171e+01,  1.17925598e+02,\n",
       "        2.19302751e+02,  1.05770135e+02,  1.21699743e+02,  1.28052750e+02,\n",
       "        7.60592914e+01,  7.03685098e+01,  1.38680305e+02,  1.35340132e+02,\n",
       "        4.55149816e+01,  1.28701647e+02,  1.22878509e+02,  7.04004988e+01,\n",
       "        4.10477777e+01,  5.26812191e+01,  1.63187131e+02,  9.31022121e+01,\n",
       "        1.33891428e+02,  1.13682440e+02,  1.13296433e+02,  1.22110042e+02,\n",
       "        1.71394364e+02,  7.58182667e+01,  9.70035925e+01,  1.62029637e+02,\n",
       "        1.87639542e+02,  1.33115012e+02,  4.23625869e+01,  1.83182796e+02,\n",
       "        9.43581586e+01,  1.03097152e+02,  6.17737305e+01,  2.63146619e+01,\n",
       "        1.68415151e+01,  2.48222210e+01,  1.12006285e+02,  6.46597439e+01,\n",
       "        2.02726573e+01,  2.60753875e+01,  5.25757931e+01,  3.50725898e+01,\n",
       "       -3.87660863e+01,  1.91339701e+02,  8.32973269e+01,  7.72312137e+01,\n",
       "        1.16851086e+02, -4.45170262e+01,  1.48424603e+02, -1.79564114e+00,\n",
       "        2.26865658e+02,  1.08185805e+02,  5.01512407e+01,  4.09208855e+01,\n",
       "        1.00135458e+02,  1.06449440e+02,  1.20625259e+02,  1.28946212e+02,\n",
       "        1.22227216e+02,  7.77265940e+01,  8.04688184e+01,  8.46594937e+01,\n",
       "        6.48863881e+01,  1.11758087e+02,  1.44807708e+02,  8.27608622e+01,\n",
       "        8.59600311e+01,  7.75567228e+01,  1.08699122e+01,  1.30279205e+02,\n",
       "       -4.28434662e+01,  8.27988402e+01,  4.79789742e+01,  4.66854229e+01,\n",
       "        1.98864439e+02,  7.07432854e+01,  1.87885736e+01,  1.72503266e+02,\n",
       "        6.93004275e+01,  7.79886168e+01,  3.07607022e+01,  4.39178603e+00,\n",
       "        5.66014385e+01,  1.33906646e+02,  1.03899502e+02,  1.53280672e+02,\n",
       "        5.96506651e+01,  9.21449248e+01,  5.84509948e+01,  8.53650488e+01,\n",
       "        1.31364810e+02,  6.45613402e+01,  1.23814774e+02,  7.28859337e+01,\n",
       "        1.78291387e+02,  9.00145526e+01,  7.66408971e+01,  1.57134650e+02,\n",
       "        6.10198113e+01,  1.92421201e+02,  1.20966549e+02,  9.11327787e+01,\n",
       "        2.80590558e+01,  1.70802466e+01, -1.75776673e+01, -2.45525326e+01,\n",
       "        2.87149576e+01,  2.89272640e+01,  8.89944517e+01,  1.25344110e+02,\n",
       "        1.33851296e+02,  1.56088403e+02,  3.95754265e+01,  2.05472974e+01,\n",
       "        1.33626563e+02,  7.92889242e+01,  1.25546903e+02,  8.27880198e+01,\n",
       "        7.51384848e+01,  1.31857402e+02,  2.13647832e+02,  3.75417377e+01,\n",
       "        6.53121602e+01,  1.13034195e+02,  7.81349381e+01,  1.27952964e+02,\n",
       "        1.19504638e+02,  1.01166582e+02,  1.25287803e+02,  7.38856963e+01,\n",
       "        1.51434343e+02,  1.12255789e+02, -1.00125239e+01,  3.49088157e+01,\n",
       "        5.05496549e+01,  9.29509537e+01,  8.76279677e+01,  1.26515737e+02,\n",
       "        9.84816981e+01,  1.66064892e+02,  1.49159468e+02,  9.66663777e+01,\n",
       "        4.19663445e+01,  5.71289629e+01,  2.02443415e+02,  9.48124940e+01,\n",
       "        1.73019221e+02,  1.48142479e+02,  4.53792192e+01,  1.40781654e+02,\n",
       "        1.10304426e+02,  1.04159668e+02,  9.33906536e+01,  1.23446855e+02,\n",
       "        5.03671410e+01,  6.12770828e+01,  1.05001987e+02,  9.63989503e+01,\n",
       "        7.24778127e+01, -3.72546543e+01,  7.70125234e+01,  7.31709918e+01,\n",
       "        1.77851134e+01,  1.18007869e+02,  1.30614733e+02,  3.08113760e+01,\n",
       "        3.18922070e+01,  4.98092693e+01,  1.43444686e+02,  1.41992208e+02,\n",
       "        8.77116314e+01,  1.18810097e+02,  1.87297625e+02,  1.16537958e+02,\n",
       "        1.17490762e+02,  1.20400039e+02,  1.94047374e+01,  5.30701054e+01,\n",
       "        1.39826729e+02, -1.21995891e+01,  7.81811527e+01,  5.29942315e+01,\n",
       "        3.99870328e+01,  5.94049676e+01,  1.26517886e+02,  1.17126806e+02,\n",
       "        3.15621609e+01,  7.55955798e+01,  1.51738104e+02,  3.21124031e+01,\n",
       "        9.03863796e+01,  1.27073547e+02,  7.45520099e+01,  1.11993103e+02,\n",
       "        1.24844573e+02,  1.60213768e+02,  8.88607177e+01,  1.92456106e+02,\n",
       "        6.22482878e+01,  2.97644291e+02,  1.29737570e+02,  1.10383260e+02,\n",
       "        9.47244898e+01,  1.11492998e+02,  1.29302581e+02,  1.04960414e+02,\n",
       "        1.97709551e+02,  1.30785486e+02,  9.08250960e+00,  1.11616337e+02,\n",
       "        1.96697574e+01,  7.89550631e+01,  1.65048282e+02,  1.17638953e+02,\n",
       "        5.51221369e+01, -1.12630790e+01,  1.23371580e+02,  9.04348596e+01,\n",
       "        1.26478999e+02,  3.03243207e+02,  2.14997268e+02,  9.67232746e+01,\n",
       "        4.67230956e+01,  4.82720319e+01,  1.05970227e+02,  4.15190061e+01,\n",
       "        8.38734140e+01,  1.26012271e+02,  1.42901561e+00,  1.81104082e+02,\n",
       "        2.04996429e+02,  8.76035010e+01,  9.75631905e+01,  1.02855613e+02,\n",
       "        1.21156481e+02,  1.23063082e+02,  1.12183704e+02,  1.41671082e+02,\n",
       "        1.22023060e+02,  7.58011398e+01,  5.93661884e+01,  1.01217843e+02,\n",
       "        6.11511137e+01,  6.13945964e+01,  1.26050622e+02,  1.02672940e+02,\n",
       "        6.03736364e+01,  1.98643280e+01,  2.29315641e+02,  1.52712791e+02,\n",
       "       -1.04286642e+01,  1.19459198e+02,  1.33157775e+02,  1.33206609e+02,\n",
       "        7.60072740e+01, -3.22272234e+01,  1.01531002e+02,  1.40158239e+02,\n",
       "        1.50316120e+02, -6.94121722e+01,  1.06313180e+02,  8.41150783e+01,\n",
       "        1.01666767e+01,  2.44004311e+02,  6.36610491e+01,  1.54398722e+02,\n",
       "        9.95472263e+01,  8.06250347e+01,  6.33131072e+01,  1.44320937e+02,\n",
       "        1.24805094e+02,  3.65287305e+01,  1.31539318e+02,  1.99774123e+02,\n",
       "        2.45099005e+00,  1.30004330e+02,  2.42905758e+01,  1.04203675e+02,\n",
       "        7.70572248e+01,  8.32683165e+01,  1.19345244e+02,  5.61797946e+01,\n",
       "       -2.33856987e+01,  1.54306533e+02,  1.13899129e+02,  1.44383579e+02,\n",
       "        9.00188402e+01,  5.12123274e+01,  9.94382560e+01,  1.18327740e+02,\n",
       "        1.60717426e+02,  6.86709582e+01,  2.07100042e+02,  1.73678192e+01,\n",
       "        2.00107072e+02,  4.02889405e+01,  1.53045431e+02,  1.48044137e+02,\n",
       "        2.51621904e+01,  9.99345874e+01,  1.63927937e+02,  1.05808733e+02,\n",
       "        2.06679361e+02,  1.78688261e+02,  1.14008823e+02,  1.06558901e+02,\n",
       "        1.27122512e+02,  9.96525247e+01,  4.73028718e+01,  1.29154697e+02,\n",
       "        1.21679173e+02,  8.99001165e+01,  9.39368896e+01,  4.89734556e+01,\n",
       "        3.82041553e+01,  1.97259411e+02,  9.18972810e+01,  1.07953258e+02,\n",
       "        7.52132046e+01,  1.50809367e+02,  9.09070839e+01,  1.32573411e+02,\n",
       "        2.34068791e+02,  5.87982623e+01,  1.28931946e+02,  1.44818152e+02,\n",
       "        1.20524575e+02,  1.04428901e+02, -3.42444204e+00, -3.49114439e+01,\n",
       "        1.20543623e+02,  1.12189093e+01,  1.12974598e+02,  1.11519464e+02,\n",
       "        1.84182133e+02,  1.44795469e+02,  1.17650547e+02,  1.25266982e+02,\n",
       "        1.32184601e+02,  1.18235303e+02,  4.18978044e+01,  1.08463922e+02,\n",
       "        7.06723515e+01,  1.11819542e+02,  1.37605260e+02,  1.10374377e+02,\n",
       "        4.25335028e+01,  1.45449515e+02,  1.24250222e+02,  2.82915904e+01,\n",
       "       -2.61749881e+01,  1.85385333e+02,  1.22719635e+02,  1.11530668e+02,\n",
       "        2.58960658e+02,  1.73467470e+02,  6.04673708e+01,  1.07705882e+02,\n",
       "        6.08568989e+01,  1.76838752e+02,  5.82331972e+01,  1.05318824e+02,\n",
       "        6.26442658e+01,  8.49177844e+01,  1.02742863e+02,  1.79157856e+02,\n",
       "        1.30188009e+02,  5.11695605e+01,  7.08133769e+01,  1.42688324e+02,\n",
       "        1.36023420e+02,  1.84345757e+02,  6.37654377e+01,  1.53739692e+02,\n",
       "        9.98935524e+01,  2.00523831e+02,  1.34562292e+02,  1.70284340e+02,\n",
       "        1.37352836e+02,  1.26191443e+02,  1.07596622e+02,  1.02854679e+02,\n",
       "       -3.51309025e+01,  2.11690449e+02,  8.81236518e+01,  7.20282747e+01,\n",
       "        8.22602182e+01,  7.10875646e+01,  1.70319598e+01,  1.91126348e+02,\n",
       "       -3.37277427e+01,  1.73850814e+02, -1.93021612e+01,  1.61077480e+02,\n",
       "        1.59424336e+02,  1.66255293e+02,  8.47169331e+01,  5.68143097e+01,\n",
       "        1.29609440e+02,  2.23417874e+02,  1.03389325e+02,  7.01613525e+01,\n",
       "       -3.70675853e+01, -5.04326375e+01,  1.18587889e+02,  1.91020315e+01,\n",
       "        1.73367171e+02,  1.41072803e+02,  9.10139910e+01,  7.95286605e+01,\n",
       "        1.28668052e+02,  5.21357278e+01,  1.63289071e+02,  9.81729024e+01,\n",
       "        4.00716300e+01,  6.06605675e+01,  1.07985793e+02,  1.39939984e+02,\n",
       "        1.72562252e+02,  1.21292686e+02,  5.14504730e+01,  1.38720720e+02,\n",
       "        6.96127899e+01,  1.29936397e+02,  1.35560473e+02,  1.46824916e+02,\n",
       "        1.01657583e+02,  1.71247019e+02,  2.92843428e+01,  1.17207308e+02,\n",
       "        1.59771752e+02,  5.69140675e+01,  1.38371916e+02,  7.75264595e+01,\n",
       "        2.43636380e+00,  4.57021937e+01,  1.35909435e+02,  1.67544097e+02,\n",
       "        1.20056235e+02,  1.27711540e+02,  1.22647814e+02,  1.38264540e+02,\n",
       "        8.06594373e+00,  9.32436871e+01, -7.32795506e+00, -8.90520235e+00,\n",
       "        1.48940048e+02,  8.02553806e+01,  8.96972375e+01,  6.96634252e+01,\n",
       "        9.93837874e+01,  3.90961961e+01,  1.24190897e+02,  1.82863788e+02,\n",
       "        1.76942095e+02,  1.41289207e+02,  2.85925078e+01,  6.21151018e+01,\n",
       "        8.12193191e+01,  3.22783331e+01,  6.70761408e+01, -4.36169584e+00,\n",
       "        1.31301260e+02,  1.23121057e+01,  8.67714093e+01,  4.26062422e+01,\n",
       "        1.81511588e+02,  1.37419239e+02,  2.35927666e+01,  1.44531139e+02,\n",
       "        1.11619979e+02,  1.43449908e+02,  1.34724999e+02, -8.25680705e+01,\n",
       "        1.09730038e+02,  1.32091555e+02,  1.58187197e+02,  1.04628738e+02,\n",
       "       -1.12153060e+01,  7.06121689e+00,  1.99010756e+02, -2.71902257e+01,\n",
       "        1.05849085e+02,  6.99269575e+01,  5.67539099e+01,  1.99051026e+01,\n",
       "        6.13953342e+01,  6.83543472e+01,  5.77800435e+01,  1.05554521e+02,\n",
       "        1.36170177e+02,  4.15413819e+01,  3.80877099e+01,  6.77550233e+01,\n",
       "        5.71760549e+01,  3.95382057e+01,  9.20450764e+01,  2.44096351e+00,\n",
       "        7.03528079e+01,  1.08696246e+02,  7.53415056e+01,  7.51492807e+01,\n",
       "        8.98343496e+01,  1.07251504e+01,  6.65149109e+01,  5.45333278e+01,\n",
       "        5.78648521e+01,  1.26900666e+02,  1.49153307e+02, -3.36771860e+01,\n",
       "        1.43672670e+02,  3.33028419e+01,  7.46436124e+01,  1.32378942e+02,\n",
       "        6.42712683e+01,  1.83813219e+02,  1.07290601e+02,  9.61076266e+01,\n",
       "        1.00639456e+02,  5.37134365e+01,  1.13887161e+02,  1.89688117e+02,\n",
       "        1.54186303e+02,  8.65731007e+01,  1.57084390e+02,  1.05813780e+02,\n",
       "        1.35546455e+02,  9.91719026e+01,  2.19582148e+02,  1.72561857e+02,\n",
       "       -6.01548353e+00,  1.51649531e+02,  5.81700544e+01, -1.72915308e+01,\n",
       "        9.27219753e+01,  2.08733823e+02,  2.80123371e+01,  9.16738768e+01,\n",
       "        1.70406121e+02,  1.28169315e+02,  9.35823443e+01,  6.93523763e+01,\n",
       "        1.33385053e+02,  9.24051289e+01,  7.06574529e+01,  1.00668051e+02,\n",
       "        1.01146080e+02,  1.08867951e+02,  1.15920611e+02,  2.24666388e+01,\n",
       "        9.39620962e+01,  4.71284249e+01,  9.47849585e+01,  1.87155137e+02,\n",
       "        1.25421462e+02,  1.52144426e+02,  2.27632792e+01,  1.07664484e+02,\n",
       "        1.74489999e+02,  2.04175404e+02,  1.00882537e+02,  1.38370828e+02,\n",
       "        7.22399526e+01,  1.16602637e+02,  1.71940241e+02,  9.95012279e+01,\n",
       "       -3.90374527e+01,  1.24291542e+02,  2.00375764e+02,  5.37102201e+01,\n",
       "        1.07763334e+02,  1.35868894e+02,  1.17759495e+02,  9.78420826e+01,\n",
       "        1.50186887e+02,  1.40174357e+02,  5.14533725e+01,  1.54018846e+02,\n",
       "        3.07078588e+01,  1.34739382e+02,  1.59844855e+02,  1.27642886e+02,\n",
       "        7.29807953e+01,  1.41805974e+01,  5.52867202e+01,  1.22696033e+02,\n",
       "        8.85378835e+01,  7.18346420e+01,  8.86557039e+01,  8.50314869e+01,\n",
       "        1.80717727e+02,  9.09787236e+00,  7.50225110e+01, -6.71366311e+00,\n",
       "        8.27829583e+01,  1.71579250e+02,  1.56577488e+02,  8.51141426e+01,\n",
       "        5.35774627e+01,  6.55376477e+01,  9.47504094e+01,  1.07758726e+02,\n",
       "        9.64229271e+01,  1.76925008e+02,  1.58555666e+02,  1.17109058e+02,\n",
       "        1.14830079e+02,  1.96435701e+02,  5.59971763e+01,  1.50686460e+02,\n",
       "        1.51330434e+02,  9.12463074e+01,  1.75682837e+02,  1.04961803e+02,\n",
       "        1.69802368e+02,  8.20102211e+01,  7.41432582e+01,  1.49946447e+02,\n",
       "        1.18908950e+02,  6.56020662e+01,  8.10232929e+01,  2.22042727e+02,\n",
       "        1.40636501e+02,  4.77624279e+01,  1.17888465e+02,  1.59635583e+02,\n",
       "        1.17534330e+02,  2.07211839e+02,  4.22539462e+01,  1.47574704e+02,\n",
       "        1.53652573e+02,  5.31291376e+01,  5.54704833e+01,  1.77593164e+02,\n",
       "        1.93032294e+02,  7.92419122e+01,  3.15350752e+00,  1.72481832e+02,\n",
       "        7.55830124e+01,  1.51750413e+02,  1.53059888e+02,  1.08162136e+02,\n",
       "        2.55437948e+02,  6.74457133e+01,  6.30407926e+01,  5.76459850e+01,\n",
       "        3.66314116e+01,  3.55483250e+01,  2.97286505e+01,  1.11640925e+02,\n",
       "        1.78582839e+02,  9.33819597e+01,  1.39002192e+02,  5.43503747e+01,\n",
       "        4.96763472e+01,  9.03403035e+01,  8.84914883e+01,  1.04269436e+02,\n",
       "        6.18820969e+01,  1.85575110e+02,  2.32662806e+02,  1.78374184e+02,\n",
       "        7.68124253e+01,  6.03734074e+01,  1.09916861e+02,  9.98566265e+01,\n",
       "        2.87108508e+01,  8.10520280e+01,  1.05405132e+02,  3.40244895e+01,\n",
       "        1.05538612e+02,  1.15953111e+02,  1.42341447e+02,  1.36319120e+02,\n",
       "        1.87064891e+02,  9.73106166e+01,  6.46357690e+01,  9.69157487e+00,\n",
       "        1.56194577e+02,  1.17142228e+02,  3.56781878e+01,  1.33330166e+02,\n",
       "        8.50477212e+01,  6.26048623e+01, -2.32152154e+01,  1.45783749e+02,\n",
       "        7.26073883e+01,  1.46787488e+02,  6.34741625e+01,  1.47296503e+02])"
      ]
     },
     "execution_count": 7,
     "metadata": {},
     "output_type": "execute_result"
    }
   ],
   "source": [
    "# imprimimos en pantalla el vector correspondiente\n",
    "normal_sample"
   ]
  },
  {
   "cell_type": "markdown",
   "metadata": {},
   "source": [
    "**Visualizaciones con librerías Matplotlib y Seaborn\n",
    "Ambas son para realizar visualizaciones. Existen muchas formas de visualizar datos estructurados\n",
    "en un vector o matriz. Los mas comunes son los histogramas, los mapas de calor, etc.**"
   ]
  },
  {
   "cell_type": "code",
   "execution_count": 8,
   "metadata": {},
   "outputs": [],
   "source": [
    "# importamos las librerias que nos serviran para visualizar\n",
    "import numpy as np\n",
    "import matplotlib.pyplot as plt\n",
    "import seaborn as sns"
   ]
  },
  {
   "cell_type": "markdown",
   "metadata": {},
   "source": [
    "**Con \"sns.distplot()\" seaborn nos permite poder realizar un histograma y una aproximacion a la distribución de los datos en cuestion. En este caso realizaremos el distplot con el vector \"normal_sample\".**"
   ]
  },
  {
   "cell_type": "code",
   "execution_count": 11,
   "metadata": {},
   "outputs": [
    {
     "name": "stderr",
     "output_type": "stream",
     "text": [
      "C:\\Users\\Debora\\anaconda3\\lib\\site-packages\\seaborn\\distributions.py:2557: FutureWarning: `distplot` is a deprecated function and will be removed in a future version. Please adapt your code to use either `displot` (a figure-level function with similar flexibility) or `histplot` (an axes-level function for histograms).\n",
      "  warnings.warn(msg, FutureWarning)\n"
     ]
    },
    {
     "data": {
      "image/png": "[encoded data removed]",
      "text/plain": [
       "<Figure size 432x288 with 1 Axes>"
      ]
     },
     "metadata": {
      "needs_background": "light"
     },
     "output_type": "display_data"
    }
   ],
   "source": [
    "# generamos el distplot\n",
    "sns.distplot(normal_sample)\n",
    "plt.title(\"histograma del vector 'normal_sample' \")\n",
    "plt.xlabel(\"valores muestreados\")\n",
    "plt.text(-10, .0025, r'$\\mu=100,\\ \\sigma=60$')\n",
    "plt.ylabel(\"densidad empírica\")\n",
    "plt.show()"
   ]
  },
  {
   "cell_type": "markdown",
   "metadata": {},
   "source": [
    "**Librería Pandas: Gestion de datos estructurados (tablas)\n",
    "Pandas es una importante libreria de python para manipular datos que esten en un formato de tablas (.csv, .txt, .xls, xlsx). Con Pandas podremos importar datos obtenidos en los formatos mencionados, por ejemplo el portal de datos abiertos de la Ciudad de Buenos Aires.**\n",
    "**Puntualmente trabajaremos con los datos de Matrimonios del 2018 obtenidos del siguiente enlace https://data.buenosaires.gob.ar/dataset/matrimonios. Una vez que descargues el dataset de matrimonios 2018 guardalo en alguna carpeta de tu computadora y con click derecho \"propiedades\" fijate cual es la ruta de carpetas donde esta alojado el archivo .csv que descargaste.**"
   ]
  },
  {
   "cell_type": "code",
   "execution_count": 12,
   "metadata": {},
   "outputs": [],
   "source": [
    "# importamos la libreria pandas\n",
    "import pandas as pd\n"
   ]
  },
  {
   "cell_type": "markdown",
   "metadata": {},
   "source": [
    "**El comando de pandas \"pd.read_csv\" permite importar archivos .csv alojados en la computadora a Jupyter. \n",
    "El archivo sera importado como una tabla con renglones (rows) y columnas (columns). \n",
    "A las tablas generadas desde Pandas las llamamos \"DataFrame\". \n",
    "Ver que el parametro que solicita el comando \"pd.read_csv()\" es la ruta de la carpeta donde esta alojado el archivo\n",
    "(la ruta incluye el nombre del archivo).\n",
    "Eso quiere decir que una vez que descarguen el archivo, lo guardaran en alguna carpeta que creas conveniente y\n",
    "luego obtendrás la ruta.**\n",
    "\n",
    "**Aclaración usuarios windows: en algunos casos de usuarios con windows, muchas veces se genera un error y es necesario agregar la letra \"r\" antes de la ruta (algo asi como pd.read_csv(r'Ruta donde el CSV esta guardado\\nombre.csv')). Para mas información ver como importar archivos .csv en windows desde este blogpost https://datatofish.com/import-csv-file-python-using-pandas/**"
   ]
  },
  {
   "cell_type": "code",
   "execution_count": 14,
   "metadata": {},
   "outputs": [
    {
     "data": {
      "text/html": [
       "<div>\n",
       "<style scoped>\n",
       "    .dataframe tbody tr th:only-of-type {\n",
       "        vertical-align: middle;\n",
       "    }\n",
       "\n",
       "    .dataframe tbody tr th {\n",
       "        vertical-align: top;\n",
       "    }\n",
       "\n",
       "    .dataframe thead th {\n",
       "        text-align: right;\n",
       "    }\n",
       "</style>\n",
       "<table border=\"1\" class=\"dataframe\">\n",
       "  <thead>\n",
       "    <tr style=\"text-align: right;\">\n",
       "      <th></th>\n",
       "      <th>fecha_matrimonio</th>\n",
       "      <th>genero_1</th>\n",
       "      <th>genero_2</th>\n",
       "      <th>comuna</th>\n",
       "    </tr>\n",
       "  </thead>\n",
       "  <tbody>\n",
       "    <tr>\n",
       "      <th>0</th>\n",
       "      <td>1/2/2018</td>\n",
       "      <td>Masculino</td>\n",
       "      <td>Femenino</td>\n",
       "      <td>1</td>\n",
       "    </tr>\n",
       "    <tr>\n",
       "      <th>1</th>\n",
       "      <td>1/2/2018</td>\n",
       "      <td>Masculino</td>\n",
       "      <td>Femenino</td>\n",
       "      <td>12</td>\n",
       "    </tr>\n",
       "    <tr>\n",
       "      <th>2</th>\n",
       "      <td>1/2/2018</td>\n",
       "      <td>Masculino</td>\n",
       "      <td>Femenino</td>\n",
       "      <td>12</td>\n",
       "    </tr>\n",
       "    <tr>\n",
       "      <th>3</th>\n",
       "      <td>1/2/2018</td>\n",
       "      <td>Femenino</td>\n",
       "      <td>Masculino</td>\n",
       "      <td>12</td>\n",
       "    </tr>\n",
       "    <tr>\n",
       "      <th>4</th>\n",
       "      <td>1/2/2018</td>\n",
       "      <td>Masculino</td>\n",
       "      <td>Femenino</td>\n",
       "      <td>7</td>\n",
       "    </tr>\n",
       "  </tbody>\n",
       "</table>\n",
       "</div>"
      ],
      "text/plain": [
       "  fecha_matrimonio   genero_1   genero_2  comuna\n",
       "0         1/2/2018  Masculino   Femenino       1\n",
       "1         1/2/2018  Masculino   Femenino      12\n",
       "2         1/2/2018  Masculino   Femenino      12\n",
       "3         1/2/2018   Femenino  Masculino      12\n",
       "4         1/2/2018  Masculino   Femenino       7"
      ]
     },
     "execution_count": 14,
     "metadata": {},
     "output_type": "execute_result"
    }
   ],
   "source": [
    "# importamos el archivo \"matrimonios_2018.csv\" y lo guardamos en la variable \"matrimonios\".\n",
    "matrimonios = pd.read_csv(r'C:/Users/Debora/Dropbox/AustralPosgrado/Gestion/matrimonios_2018.csv', header = 0)\n",
    "#matrimonios = pd.read_csv (r'C:\\Users\\Debie\\Dropbox\\AustralPosgrado\\Gestion\\matrimonios_2018.csv')\n",
    "\n",
    "matrimonios.head()"
   ]
  },
  {
   "cell_type": "code",
   "execution_count": null,
   "metadata": {},
   "outputs": [],
   "source": [
    "# averiguamos que tipo de variable es matrimonios: un DataFrame de Pandas.\n",
    "type(matrimonios)"
   ]
  },
  {
   "cell_type": "code",
   "execution_count": null,
   "metadata": {},
   "outputs": [],
   "source": [
    "# Con np.shape() nos fijamos que dimension tiene el archivo (renglones, columnas)\n",
    "np.shape(matrimonios)"
   ]
  },
  {
   "cell_type": "markdown",
   "metadata": {},
   "source": [
    "**Al DataFrame \"matrimonios\" podemos solicitarle información como visualizar los primeros renglones agregando al nombre del dataframe el comando \".head()\". Por default aparecen 5 renglones. Observaremos que además del contenido de cada registro de matrimonio, el dataframe se caracteriza por tener un indice (el nombre de cada renglon)\n",
    "y columnas (cada columna tiene un nombre).**"
   ]
  },
  {
   "cell_type": "code",
   "execution_count": null,
   "metadata": {},
   "outputs": [],
   "source": [
    "# con .head() visualizamos los primeros 5 renglones del dataframe.\n",
    "matrimonios.head()"
   ]
  },
  {
   "cell_type": "code",
   "execution_count": null,
   "metadata": {},
   "outputs": [],
   "source": [
    "# podemos tambien acceder al listado de columnas \n",
    "matrimonios.columns"
   ]
  },
  {
   "cell_type": "code",
   "execution_count": null,
   "metadata": {},
   "outputs": [],
   "source": [
    "# tambien podemos acceder al vector de indices\n",
    "matrimonios.index"
   ]
  },
  {
   "cell_type": "markdown",
   "metadata": {},
   "source": [
    "**El vector de indices es impreso en pantalla como un elemento \"RangeIndex\" con comienzo en 0 y fin en 11732, que equivale a la cantidad de renglones. Python en algunos casos en vez de imprimir literalmente un vector que vaya de 0 a 11732 con incrementos de +1,\n",
    "utiliza el formato \"range\" indicando el inicio, fin y el \"paso\" entre cada registro.**\n",
    "\n",
    "** Seleccionar columnas especificas del dataframe de Pandas **\n",
    "**Supongamos que tenemos interes en la columna \"comunas\". Nombrando \"matrimonios.comuna\" o \"matrimonios['comuna'] \n",
    "seleccionaremos la columna en cuestion. A esa columna seleccionada podemos guardarla en una variable nueva llamada \"comunas\". Luego con la variable \"comunas\" realizaremos una visualización."
   ]
  },
  {
   "cell_type": "code",
   "execution_count": null,
   "metadata": {},
   "outputs": [],
   "source": [
    "# Seleccionamos la columna \"comuna\" y la guardamos en la variable \"comunas\".\n",
    "comunas = matrimonios.comuna"
   ]
  },
  {
   "cell_type": "markdown",
   "metadata": {},
   "source": [
    "**Seaborn tambien posee el comando \"countplot\", que cuenta la cantidad de registros con un determinado valor dentro de un dataframe de pandas (mismo en un numpy array). En este caso con \"countplot\"\n",
    "vamos a contar cuantas veces cada columna aparece dentro de \"comunas\".**"
   ]
  },
  {
   "cell_type": "code",
   "execution_count": null,
   "metadata": {},
   "outputs": [],
   "source": [
    "# realizamos un countplot de seaborn en el pandas \"comunas\".\n",
    "sns.countplot(comunas)\n",
    "plt.title(\"Cantidad de matrimonios por comuna durante 2018\")\n",
    "plt.show()"
   ]
  },
  {
   "cell_type": "code",
   "execution_count": null,
   "metadata": {},
   "outputs": [],
   "source": [
    "# Diagrama Circular\n",
    "plot = matrimonios['comuna'].value_counts().plot(kind='pie', autopct='%.2f', \n",
    "                                            figsize=(6, 6),\n",
    "                                            title='Comunas')\n",
    "\n"
   ]
  },
  {
   "cell_type": "markdown",
   "metadata": {},
   "source": [
    "**Fusionar, unir y concatenar \n",
    "pandas proporciona varias facilidades para combinar fácilmente Series o DataFrame con varios \n",
    "tipos de lógica de conjunto para los índices y la funcionalidad de álgebra relacional en el caso\n",
    "de operaciones de tipo unión / fusión.**\n",
    "**Concatenar objetos \n",
    "La concat()función (en el espacio de nombres de pandas principal) hace todo el trabajo pesado de realizar operaciones de concatenación a lo largo de un eje mientras realiza la lógica de conjunto opcional (unión o intersección) de los índices (si los hay) en los otros ejes. Tenga en cuenta que digo \"si hay alguno\" porque solo hay un único eje posible de concatenación para Series.\n",
    "Antes de sumergirse en todos los detalles concat y lo que puede hacer, aquí hay un ejemplo simple:**\n",
    "\n"
   ]
  },
  {
   "cell_type": "code",
   "execution_count": null,
   "metadata": {},
   "outputs": [],
   "source": [
    "df1 = pd.DataFrame({'provincia': ['A0', 'A1', 'A2', 'A3'],\n",
    "                        'consumo': [30,25,18,62],\n",
    "                       'demanda': [26,18,31,27],\n",
    "                        'mes': ['E', 'F', 'M', 'Ab'],\n",
    "                   'cuatrimestre': [1,1,1,1]},\n",
    "                       index=[0, 1, 2, 3])\n",
    "   \n",
    "\n",
    "df2 = pd.DataFrame({'provincia': ['A0', 'A1', 'A2', 'A3'],\n",
    "                        'consumo': [33,28,28,72],\n",
    "                       'demanda': [16,19,21,26],\n",
    "                        'mes': ['My', 'Jn', 'Jl', 'Ag'],\n",
    "                   'cuatrimestre': [2,2,2,2]},\n",
    "                       index=[4, 5, 6, 7])\n",
    "   \n",
    "\n",
    "df3 = pd.DataFrame({'provincia': ['A0', 'A1', 'A2', 'A3'],\n",
    "                        'consumo': [40,25,17,52],\n",
    "                       'demanda': [29,38,21,27],\n",
    "                        'mes': ['S', 'O', 'N', 'D'],\n",
    "                   'cuatrimestre': [3,3,3,3]},\n",
    "                       index=[8, 9, 10, 11])\n",
    "    \n",
    "\n",
    "frames = [df1, df2, df3]\n",
    "\n",
    "result = pd.concat(frames)\n",
    "print(result)"
   ]
  },
  {
   "cell_type": "markdown",
   "metadata": {},
   "source": [
    "**Vale la pena comprender la estructura de las fusiones.\n",
    " \n",
    "Aquí hay un ejemplo muy básico con una combinación de teclas única:**"
   ]
  },
  {
   "cell_type": "code",
   "execution_count": null,
   "metadata": {},
   "outputs": [],
   "source": [
    "izquierda= pd.DataFrame({'Loc': ['Lanús', 'Olivos', 'Avellaneda', 'Quilmes'],\n",
    "                         'gasto': [20,30,40,50],\n",
    "                         'ingreso': [140,150,160,123]})\n",
    "    \n",
    "\n",
    "derecha = pd.DataFrame({'Loc': ['Lanús', 'Olivos', 'Avellaneda', 'Quilmes'],\n",
    "                         'deuda_previa': [45,28,69,93],\n",
    "                          'prestamo': [20,25,31,18]})\n",
    "    \n",
    "\n",
    "salida = pd.merge(izquierda, derecha, on='Loc')\n",
    "print(salida)"
   ]
  },
  {
   "cell_type": "code",
   "execution_count": null,
   "metadata": {},
   "outputs": [],
   "source": [
    "import matplotlib.pyplot as plt\n",
    "import numpy as np\n",
    "import seaborn as sns\n",
    "import pandas as pd\n",
    "\n",
    "consumido=pd.DataFrame(result) # armamos un data frame\n",
    "print(consumido) # lo visualizamos\n",
    "boxplot = consumido.boxplot(column=['consumo', 'demanda']) #graficamos el boxplot de las varaiables consumo  y demanda\n",
    " \n",
    " "
   ]
  },
  {
   "cell_type": "markdown",
   "metadata": {},
   "source": [
    "**Haga un diagrama de caja de las columnas de un DataFrame opcionalmente agrupadas por otras columnas**.\n"
   ]
  },
  {
   "cell_type": "code",
   "execution_count": null,
   "metadata": {},
   "outputs": [],
   "source": [
    "boxplot = consumido.boxplot(column=['consumo', 'demanda'], by='cuatrimestre',\n",
    "                     layout=(2, 1))"
   ]
  },
  {
   "cell_type": "code",
   "execution_count": null,
   "metadata": {},
   "outputs": [],
   "source": [
    "plt.title(\"Diagrama de Dispersión\")\n",
    "plt.scatter(consumido['consumo'], consumido['demanda'],c='blue',alpha=0.3)\n",
    "plt.xlabel('consumo')\n",
    "plt.ylabel('demanda')\n"
   ]
  },
  {
   "cell_type": "code",
   "execution_count": null,
   "metadata": {},
   "outputs": [],
   "source": [
    "import matplotlib.pyplot as plt\n",
    "import pandas as pd\n",
    "pesos_muj = [59, 60, 70, 49, 65, 58, 50, 53, 67, 64]\n",
    "pesos_var = [80, 79, 89, 78, 90, 68, 73, 75, 80, 81]\n",
    "estaturas = [160, 170, 158, 180, 150, 165, 171, 159, 162, 176]\n",
    "plt.scatter(estaturas,pesos_muj , color='r',label=\"mujeres\")\n",
    "plt.scatter(estaturas , pesos_var, color='g',label=\"varones\")\n",
    "plt.xlabel('Rango de Pesos')\n",
    "plt.ylabel('Pesos')\n",
    "plt.legend()\n",
    "plt.grid(True)\n",
    "plt.show()\n",
    "\n"
   ]
  },
  {
   "cell_type": "code",
   "execution_count": null,
   "metadata": {},
   "outputs": [],
   "source": [
    "plt.title(\"Histograma\")\n",
    "plt.hist(consumido['demanda'], bins=5)\n",
    "plt.style.use('ggplot')\n",
    "plt.xlabel('demanda')\n",
    "plt.xlim(15, 40)\n",
    "plt.ylim(0, 6)\n",
    "plt.ylabel('frecuencia')\n",
    "plt.show()"
   ]
  },
  {
   "cell_type": "code",
   "execution_count": null,
   "metadata": {},
   "outputs": [],
   "source": [
    "##Si queremos importar un archivo desde excel\n",
    "\n",
    "#df1 = pd.read_excel (r'C:\\Users\\Debie\\Dropbox\\YPF\\Informacion.xlsx' ,sheet_name='Ventas')\n",
    "#print(df1)\n",
    "\n",
    "df2= pd.read_excel (r'C:/Users/Debie/Dropbox/AustralPosgrado/DataScience/Datos/galletitas.xlsx' )\n",
    "\n",
    "print(df2)\n"
   ]
  },
  {
   "cell_type": "code",
   "execution_count": null,
   "metadata": {},
   "outputs": [],
   "source": [
    "plt.title(\"Histograma\")\n",
    "plt.hist(df2['Carbohidratos '], bins=6)\n",
    "plt.style.use('ggplot')\n",
    "plt.xlabel('Carbohidratos')\n",
    "plt.xlim(60, 75)\n",
    "plt.ylim(0, 6)\n",
    "plt.ylabel('frecuencia')\n",
    "plt.show()\n"
   ]
  },
  {
   "cell_type": "code",
   "execution_count": null,
   "metadata": {},
   "outputs": [],
   "source": [
    "#fig, ax = plt.subplots()\n",
    "\n",
    "# visualizamos dos histogramas en un mismo gráfico\n",
    "fig, axs = plt.subplots(2, 2)\n",
    "\n",
    "fig.suptitle('Verticalmente')\n",
    "plt.subplot(2,1,1)\n",
    "plt.hist('Carbohidratos ', data=df2[df2['Tipo'] == 'dulce'], alpha=0.5, label='Dulce')\n",
    "plt.subplot(2,1,2)\n",
    "plt.hist('Carbohidratos ', data=df2[df2['Tipo'] == 'salada'], alpha=0.5, label='Salada')"
   ]
  },
  {
   "cell_type": "code",
   "execution_count": null,
   "metadata": {},
   "outputs": [],
   "source": [
    "fig, (ax1, ax2) = plt.subplots(1, 2)\n",
    "fig.suptitle('Horizontalmente')\n",
    "plt.subplot(1,2,1)\n",
    "plt.hist('Carbohidratos ', data=df2[df2['Tipo'] == 'dulce'], alpha=0.5, label='Dulce')\n",
    "plt.subplot(1,2,2)\n",
    "plt.hist('Carbohidratos ', data=df2[df2['Tipo'] == 'salada'], alpha=0.5, label='Salada')"
   ]
  },
  {
   "cell_type": "markdown",
   "metadata": {},
   "source": [
    "a) Importar la base de datos futbol.xlsx\n",
    "b) Verificar que es un data frame\n",
    "c) listar los nombres de las variables\n",
    "d) indicar la dimensión de la base\n",
    "e) seleccionar un gráfico adecuado para partidos jugados\n",
    "f) realizar dicho gráfico para los campeones y no campeones\n",
    "g) estudiar la asociación entre partidos jugados y ganados de los campeones\n",
    "h) con los datos de galletitas hacer un diagrama circular y un boxplot\n"
   ]
  },
  {
   "cell_type": "code",
   "execution_count": null,
   "metadata": {},
   "outputs": [],
   "source": []
  }
 ],
 "metadata": {
  "kernelspec": {
   "display_name": "Python 3",
   "language": "python",
   "name": "python3"
  },
  "language_info": {
   "codemirror_mode": {
    "name": "ipython",
    "version": 3
   },
   "file_extension": ".py",
   "mimetype": "text/x-python",
   "name": "python",
   "nbconvert_exporter": "python",
   "pygments_lexer": "ipython3",
   "version": "3.8.8"
  }
 },
 "nbformat": 4,
 "nbformat_minor": 2
}
